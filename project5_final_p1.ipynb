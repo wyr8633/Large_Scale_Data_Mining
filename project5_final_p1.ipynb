{
 "cells": [
  {
   "cell_type": "markdown",
   "metadata": {
    "colab_type": "text",
    "id": "un5Qf7DdWrhZ"
   },
   "source": [
    "# Project 5: Application - Twitter data"
   ]
  },
  {
   "cell_type": "markdown",
   "metadata": {
    "colab_type": "text",
    "id": "oEEQr4afWrha"
   },
   "source": [
    "## Part 1: Popularity Prediction"
   ]
  },
  {
   "cell_type": "markdown",
   "metadata": {
    "colab_type": "text",
    "id": "UntG8WEoWrhb"
   },
   "source": [
    "### 1. A first look at the data"
   ]
  },
  {
   "cell_type": "markdown",
   "metadata": {
    "colab_type": "text",
    "id": "1qhvJQl9Wrhc"
   },
   "source": [
    "### Question 1 & 2: Report and Plot"
   ]
  },
  {
   "cell_type": "code",
   "execution_count": 1,
   "metadata": {
    "colab": {
     "base_uri": "https://localhost:8080/",
     "height": 34
    },
    "colab_type": "code",
    "id": "C5l82jAcWrhd",
    "outputId": "0de2b97b-b64b-4394-8435-00f043036f4e"
   },
   "outputs": [],
   "source": [
    "# NOTE: http://pytz.sourceforge.net/\n",
    "import pytz\n",
    "# NOTE: https://www.w3schools.com/python/python_json.asp\n",
    "import json\n",
    "# NOTE: https://docs.python.org/3/library/datetime.html\n",
    "import datetime\n",
    "import numpy as np\n",
    "import pandas as pd\n",
    "\n",
    "import matplotlib.pyplot as plt\n",
    "%matplotlib inline\n",
    "plt.rcParams['figure.figsize'] = (8.0, 6.0) # set default size of plots\n",
    "plt.rcParams['image.interpolation'] = 'nearest'\n",
    "plt.rcParams['image.cmap'] = 'gray'"
   ]
  },
  {
   "cell_type": "code",
   "execution_count": 2,
   "metadata": {
    "colab": {},
    "colab_type": "code",
    "id": "tpvPD2fyWrhg",
    "scrolled": false
   },
   "outputs": [],
   "source": [
    "# load files and report for Question 1\n",
    "def readfile_p1(file_name):\n",
    "    # Read file\n",
    "    time_list = []\n",
    "    num_retweets = []\n",
    "    num_followers = []\n",
    "    with open(file_name,encoding='utf8') as file:\n",
    "        data = file.readlines()\n",
    "    for line in data:\n",
    "        json_object = json.loads(line)\n",
    "        time_list.append(json_object['citation_date'])\n",
    "        num_retweets.append(json_object['metrics']['citations']['total'])\n",
    "        num_followers.append(json_object['author']['followers'])\n",
    "    file.close()\n",
    "\n",
    "    # Process datetime for event counting\n",
    "    # NOTE: https://stackoverflow.com/questions/28564254/count-number-of-events-per-hour-given-in-datetime-numpy\n",
    "    date_list = []\n",
    "    pst_tz = pytz.timezone('America/Los_Angeles')\n",
    "    for time in time_list:\n",
    "        date = datetime.datetime.fromtimestamp(time,pst_tz).replace(tzinfo=None)\n",
    "        date_list.append(date)\n",
    "    # count events per hour using dataframe\n",
    "    date_df = pd.DataFrame(date_list,columns=['Date'])\n",
    "    date_df = date_df.set_index(date_df['Date'])\n",
    "    date_df.drop(['Date'],1,inplace = True)\n",
    "    # number of tweets\n",
    "    date_df['num_tweets'] = 1\n",
    "    date_df = date_df.resample('H').count()\n",
    "    \n",
    "    return date_df, num_followers, num_retweets"
   ]
  },
  {
   "cell_type": "markdown",
   "metadata": {
    "colab_type": "text",
    "id": "TIzBjGt8Wrhi"
   },
   "source": [
    "#### Report of gohawks"
   ]
  },
  {
   "cell_type": "code",
   "execution_count": 3,
   "metadata": {
    "colab": {
     "base_uri": "https://localhost:8080/",
     "height": 351
    },
    "colab_type": "code",
    "id": "4nauzoJRWrhj",
    "outputId": "9a17b83c-0641-454a-d1bf-f905b67c1fbe"
   },
   "outputs": [
    {
     "name": "stdout",
     "output_type": "stream",
     "text": [
      "Average number of tweets: 292.09326424870466\n",
      "Average number of followers: 2217.9237355281984\n",
      "Average number of retweet: 2.0132093991319877\n"
     ]
    }
   ],
   "source": [
    "# tweets_#gohawks.txt\n",
    "date_df, num_followers, num_retweets = readfile_p1('tweets_#gohawks.txt')\n",
    "# report\n",
    "print('Average number of tweets: {}'.format(date_df['num_tweets'].mean()))\n",
    "print('Average number of followers: {}'.format(np.mean(num_followers)))\n",
    "print('Average number of retweet: {}'.format(np.mean(num_retweets)))"
   ]
  },
  {
   "cell_type": "markdown",
   "metadata": {
    "colab_type": "text",
    "id": "HKblAX4xWrhn"
   },
   "source": [
    "#### Report of gopatriots"
   ]
  },
  {
   "cell_type": "code",
   "execution_count": 4,
   "metadata": {
    "colab": {},
    "colab_type": "code",
    "id": "vTNiYlrSWrho",
    "outputId": "468f2ba8-3123-4f19-8010-8f4ecf67511b"
   },
   "outputs": [
    {
     "name": "stdout",
     "output_type": "stream",
     "text": [
      "Average number of tweets: 40.888695652173915\n",
      "Average number of followers: 1427.2526051635405\n",
      "Average number of retweet: 1.4081919101697078\n"
     ]
    }
   ],
   "source": [
    "# tweets_#gopatriots.txt\n",
    "date_df, num_followers, num_retweets = readfile_p1('tweets_#gopatriots.txt')\n",
    "# report\n",
    "print('Average number of tweets: {}'.format(date_df['num_tweets'].mean()))\n",
    "print('Average number of followers: {}'.format(np.mean(num_followers)))\n",
    "print('Average number of retweet: {}'.format(np.mean(num_retweets)))"
   ]
  },
  {
   "cell_type": "markdown",
   "metadata": {
    "colab_type": "text",
    "id": "QEbgp-TjWrhr"
   },
   "source": [
    "#### Report of nfl"
   ]
  },
  {
   "cell_type": "code",
   "execution_count": 0,
   "metadata": {
    "colab": {},
    "colab_type": "code",
    "id": "NBNQTiqoWrhs",
    "outputId": "57a14668-1c95-437e-cd95-5c5f6f33a6d7"
   },
   "outputs": [
    {
     "name": "stdout",
     "output_type": "stream",
     "text": [
      "Average number of tweets: 396.97103918228277\n",
      "Average number of followers: 4662.37544523693\n",
      "Average number of retweet: 1.5344602655543254\n",
      "Average number of tweets: 396.97103918228277\n",
      "Average number of followers: 4662.37544523693\n",
      "Average number of retweet: 1.5344602655543254\n"
     ]
    },
    {
     "data": {
      "image/png": "[encoded data removed]",
      "text/plain": [
       "<Figure size 1152x576 with 1 Axes>"
      ]
     },
     "metadata": {
      "needs_background": "light",
      "tags": []
     },
     "output_type": "display_data"
    }
   ],
   "source": [
    "# tweets_#nfl.txt\n",
    "date_df, num_followers, num_retweets = readfile_p1('tweets_#nfl.txt')\n",
    "# report\n",
    "print('Average number of tweets: {}'.format(date_df['num_tweets'].mean()))\n",
    "print('Average number of followers: {}'.format(np.mean(num_followers)))\n",
    "print('Average number of retweet: {}'.format(np.mean(num_retweets)))\n",
    "# plot\n",
    "print('Average number of tweets: {}'.format(date_df['num_tweets'].mean()))\n",
    "print('Average number of followers: {}'.format(np.mean(num_followers)))\n",
    "print('Average number of retweet: {}'.format(np.mean(num_retweets)))\n",
    "tweet_counts = pd.to_numeric(date_df.unstack()).values\n",
    "plt.figure(figsize=(16, 8))\n",
    "plt.bar(np.arange(len(tweet_counts)),tweet_counts)\n",
    "plt.title('Plot of nfl')\n",
    "plt.xlabel(\"Hour\")\n",
    "plt.ylabel(\"Tweet Counts\")\n",
    "plt.show()"
   ]
  },
  {
   "cell_type": "markdown",
   "metadata": {
    "colab_type": "text",
    "id": "sLSTJtCXWrhu"
   },
   "source": [
    "#### Report of patriots"
   ]
  },
  {
   "cell_type": "code",
   "execution_count": 0,
   "metadata": {
    "colab": {},
    "colab_type": "code",
    "id": "KJtisjK7Wrhv",
    "outputId": "f06e0a4a-1708-4379-faa8-6b1b688b3cc4"
   },
   "outputs": [
    {
     "name": "stdout",
     "output_type": "stream",
     "text": [
      "Average number of tweets: 750.6320272572402\n",
      "Average number of followers: 3280.4635616550277\n",
      "Average number of retweet: 1.7852871288476946\n"
     ]
    }
   ],
   "source": [
    "# tweets_#patriots.txt\n",
    "date_df, num_followers, num_retweets = readfile_p1('tweets_#patriots.txt')\n",
    "# report\n",
    "print('Average number of tweets: {}'.format(date_df['num_tweets'].mean()))\n",
    "print('Average number of followers: {}'.format(np.mean(num_followers)))\n",
    "print('Average number of retweet: {}'.format(np.mean(num_retweets)))"
   ]
  },
  {
   "cell_type": "markdown",
   "metadata": {
    "colab_type": "text",
    "id": "r1W-VoVjWrhy"
   },
   "source": [
    "#### Report of sb49"
   ]
  },
  {
   "cell_type": "code",
   "execution_count": 0,
   "metadata": {
    "colab": {},
    "colab_type": "code",
    "id": "jVV4P15YWrhy",
    "outputId": "154a7107-4460-431a-955f-e8af7f78193e"
   },
   "outputs": [
    {
     "name": "stdout",
     "output_type": "stream",
     "text": [
      "Average number of tweets: 1275.5557461406518\n",
      "Average number of followers: 10374.160292019487\n",
      "Average number of retweet: 2.52713444111402\n"
     ]
    }
   ],
   "source": [
    "# tweets_#sb49.txt\n",
    "date_df, num_followers, num_retweets = readfile_p1('tweets_#sb49.txt')\n",
    "# report\n",
    "print('Average number of tweets: {}'.format(date_df['num_tweets'].mean()))\n",
    "print('Average number of followers: {}'.format(np.mean(num_followers)))\n",
    "print('Average number of retweet: {}'.format(np.mean(num_retweets)))"
   ]
  },
  {
   "cell_type": "markdown",
   "metadata": {
    "colab_type": "text",
    "id": "TpQP-eimWrh1"
   },
   "source": [
    "#### Report of superbowl"
   ]
  },
  {
   "cell_type": "code",
   "execution_count": 0,
   "metadata": {
    "colab": {},
    "colab_type": "code",
    "id": "CzeF6SZrWrh2",
    "outputId": "4c440359-84b9-423c-c73c-104b0a4c2e52"
   },
   "outputs": [
    {
     "name": "stdout",
     "output_type": "stream",
     "text": [
      "Average number of tweets: 2067.824531516184\n",
      "Average number of followers: 8814.96799424623\n",
      "Average number of retweet: 2.3911895819207736\n",
      "Average number of tweets: 2067.824531516184\n",
      "Average number of followers: 8814.96799424623\n",
      "Average number of retweet: 2.3911895819207736\n"
     ]
    },
    {
     "data": {
      "image/png": "[encoded data removed]",
      "text/plain": [
       "<Figure size 1152x576 with 1 Axes>"
      ]
     },
     "metadata": {
      "needs_background": "light",
      "tags": []
     },
     "output_type": "display_data"
    }
   ],
   "source": [
    "# tweets_#superbowl.txt\n",
    "date_df, num_followers, num_retweets = readfile_p1('tweets_#superbowl.txt')\n",
    "# report\n",
    "print('Average number of tweets: {}'.format(date_df['num_tweets'].mean()))\n",
    "print('Average number of followers: {}'.format(np.mean(num_followers)))\n",
    "print('Average number of retweet: {}'.format(np.mean(num_retweets)))\n",
    "# plot\n",
    "print('Average number of tweets: {}'.format(date_df['num_tweets'].mean()))\n",
    "print('Average number of followers: {}'.format(np.mean(num_followers)))\n",
    "print('Average number of retweet: {}'.format(np.mean(num_retweets)))\n",
    "tweet_counts = pd.to_numeric(date_df.unstack()).values\n",
    "plt.figure(figsize=(16, 8))\n",
    "plt.bar(np.arange(len(tweet_counts)),tweet_counts)\n",
    "plt.title('Plot of superbowl')\n",
    "plt.xlabel(\"Hour\")\n",
    "plt.ylabel(\"Tweet Counts\")\n",
    "plt.show()"
   ]
  },
  {
   "cell_type": "markdown",
   "metadata": {
    "colab_type": "text",
    "id": "J-MUXm9eWrh5"
   },
   "source": [
    "### 2. Linear regression"
   ]
  },
  {
   "cell_type": "code",
   "execution_count": 0,
   "metadata": {
    "colab": {},
    "colab_type": "code",
    "id": "RD4K1mt8Wrh5"
   },
   "outputs": [],
   "source": [
    "# load files and report for Part 2\n",
    "# NOTE: https://www.statsmodels.org/stable/index.html\n",
    "import statsmodels.api as sm\n",
    "from sklearn.metrics import r2_score, mean_squared_error\n",
    "\n",
    "def readfile_p2(file_name):\n",
    "    # Read file\n",
    "    time_list = []\n",
    "    num_retweets = []\n",
    "    num_followers = []\n",
    "    with open(file_name,encoding='utf8') as file:\n",
    "        data = file.readlines()\n",
    "    for line in data:\n",
    "        json_object = json.loads(line)\n",
    "        time_list.append(json_object['citation_date'])\n",
    "        num_retweets.append(json_object['metrics']['citations']['total'])\n",
    "        num_followers.append(json_object['author']['followers'])\n",
    "    file.close()\n",
    "\n",
    "    # Process datetime for event counting\n",
    "    # NOTE: https://stackoverflow.com/questions/28564254/count-number-of-events-per-hour-given-in-datetime-numpy\n",
    "    date_list = []\n",
    "    pst_tz = pytz.timezone('America/Los_Angeles')\n",
    "    for time in time_list:\n",
    "        date = datetime.datetime.fromtimestamp(time,pst_tz).replace(tzinfo=None)\n",
    "        date_list.append(date)\n",
    "\n",
    "    # count events per hour using dataframe\n",
    "    date_df = pd.DataFrame(date_list,columns=['Date'])\n",
    "    date_df = date_df.set_index(date_df['Date'])\n",
    "    date_df.drop(['Date'],1,inplace = True)\n",
    "    date_df['num_tweets'] = 1\n",
    "    date_df['num_followers'] = num_followers\n",
    "    date_df['num_retweets'] = num_retweets\n",
    "\n",
    "    # count events per feature\n",
    "    # features: \n",
    "    #   total number of tweets, total number of followers, total number of retweets\n",
    "    date_df_out = date_df.resample('H').sum()\n",
    "    #   max number of followers, time of the day\n",
    "    max_num_followers = date_df['num_followers'].resample('H').max()\n",
    "    date_df_out['max_num_follower'] = max_num_followers\n",
    "    date_df_out['time'] = date_df_out.index.hour\n",
    "    return date_df_out"
   ]
  },
  {
   "cell_type": "code",
   "execution_count": 0,
   "metadata": {
    "colab": {},
    "colab_type": "code",
    "id": "3INvhXKNWrh7"
   },
   "outputs": [],
   "source": [
    "# NOTE: https://www.statsmodels.org/dev/generated/statsmodels.regression.linear_model.OLS.html\n",
    "# https://www.statsmodels.org/dev/generated/statsmodels.regression.linear_model.RegressionResults.html\n",
    "# OLS\n",
    "def OLS_p2(date_df_out):\n",
    "    X = date_df_out.iloc[:-1]\n",
    "    y = date_df_out['num_tweets'][1:]\n",
    "    X = np.nan_to_num(X)\n",
    "    y = np.nan_to_num(y)\n",
    "    results= sm.OLS(y, X).fit()\n",
    "\n",
    "    # RMSE and R2 measure\n",
    "    r2 = r2_score(y, results.fittedvalues)\n",
    "    mse = mean_squared_error(y, results.fittedvalues)\n",
    "\n",
    "    # significance of feature ()\n",
    "    pvalues_index_list = []\n",
    "    pvalues_list = []\n",
    "    pvalues = results.pvalues\n",
    "    top_index = np.argsort(pvalues)\n",
    "    for i in top_index:\n",
    "        pvalues_index_list.append(pvalues.tolist().index(pvalues[i])+1)\n",
    "        pvalues_list.append(pvalues[i])\n",
    "    return results, r2, mse, pvalues_index_list, pvalues_list"
   ]
  },
  {
   "cell_type": "markdown",
   "metadata": {
    "colab_type": "text",
    "id": "1LC3ArhCWrh9"
   },
   "source": [
    "#### Report of gohawks"
   ]
  },
  {
   "cell_type": "code",
   "execution_count": 0,
   "metadata": {
    "colab": {},
    "colab_type": "code",
    "id": "pFJr4ezpWrh-",
    "outputId": "6a84d328-474b-41fe-d57f-699cf402c2bb",
    "scrolled": false
   },
   "outputs": [
    {
     "name": "stdout",
     "output_type": "stream",
     "text": [
      "                            OLS Regression Results                            \n",
      "==============================================================================\n",
      "Dep. Variable:                      y   R-squared:                       0.504\n",
      "Model:                            OLS   Adj. R-squared:                  0.500\n",
      "Method:                 Least Squares   F-statistic:                     116.5\n",
      "Date:                Sun, 10 Mar 2019   Prob (F-statistic):           7.10e-85\n",
      "Time:                        20:53:49   Log-Likelihood:                -4733.9\n",
      "No. Observations:                 578   AIC:                             9478.\n",
      "Df Residuals:                     573   BIC:                             9500.\n",
      "Df Model:                           5                                         \n",
      "Covariance Type:            nonrobust                                         \n",
      "==============================================================================\n",
      "                 coef    std err          t      P>|t|      [0.025      0.975]\n",
      "------------------------------------------------------------------------------\n",
      "x1             1.2856      0.164      7.843      0.000       0.964       1.608\n",
      "x2            -0.0002   8.01e-05     -2.434      0.015      -0.000   -3.76e-05\n",
      "x3            -0.1378      0.043     -3.169      0.002      -0.223      -0.052\n",
      "x4          7.145e-05      0.000      0.480      0.631      -0.000       0.000\n",
      "x5             7.5919      2.956      2.569      0.010       1.787      13.397\n",
      "==============================================================================\n",
      "Omnibus:                      910.753   Durbin-Watson:                   2.214\n",
      "Prob(Omnibus):                  0.000   Jarque-Bera (JB):           771478.377\n",
      "Skew:                           8.575   Prob(JB):                         0.00\n",
      "Kurtosis:                     181.156   Cond. No.                     2.14e+05\n",
      "==============================================================================\n",
      "\n",
      "Warnings:\n",
      "[1] Standard Errors assume that the covariance matrix of the errors is correctly specified.\n",
      "[2] The condition number is large, 2.14e+05. This might indicate that there are\n",
      "strong multicollinearity or other numerical problems.\n",
      " \n",
      "R-squared measure: 0.47480860962966753\n",
      "MSE score: 760963.8885815816\n",
      "Top features: X[1, 3, 5, 2, 4]\n",
      "Sorted p-value: [2.1558340030500642e-14, 0.0016094751255169091, 0.010461910536450738, 0.015236905344199277, 0.6314862186898076]\n"
     ]
    }
   ],
   "source": [
    "# 'tweets_#gohawks.txt'\n",
    "date_df_out = readfile_p2('tweets_#gohawks.txt')\n",
    "results, r2, mse, pvalues_index_list, pvalues_list = OLS_p2(date_df_out)\n",
    "# report\n",
    "print(results.summary())\n",
    "print(' ')\n",
    "print('R-squared measure: {}'.format(r2))\n",
    "print('MSE score: {}'.format(mse))\n",
    "print('Top features: X{}'.format(pvalues_index_list))\n",
    "print('Sorted p-value: {}'.format(pvalues_list))"
   ]
  },
  {
   "cell_type": "markdown",
   "metadata": {
    "colab_type": "text",
    "id": "ef7sjlYxWriC"
   },
   "source": [
    "#### Report of gopatriots"
   ]
  },
  {
   "cell_type": "code",
   "execution_count": 0,
   "metadata": {
    "colab": {},
    "colab_type": "code",
    "id": "hOw03eQkWriD",
    "outputId": "1aa991ed-4e43-4427-a7bb-2f40b06e0c9c"
   },
   "outputs": [
    {
     "name": "stdout",
     "output_type": "stream",
     "text": [
      "                            OLS Regression Results                            \n",
      "==============================================================================\n",
      "Dep. Variable:                      y   R-squared:                       0.637\n",
      "Model:                            OLS   Adj. R-squared:                  0.634\n",
      "Method:                 Least Squares   F-statistic:                     199.9\n",
      "Date:                Sun, 10 Mar 2019   Prob (F-statistic):          9.65e-123\n",
      "Time:                        20:53:50   Log-Likelihood:                -3749.3\n",
      "No. Observations:                 574   AIC:                             7509.\n",
      "Df Residuals:                     569   BIC:                             7530.\n",
      "Df Model:                           5                                         \n",
      "Covariance Type:            nonrobust                                         \n",
      "==============================================================================\n",
      "                 coef    std err          t      P>|t|      [0.025      0.975]\n",
      "------------------------------------------------------------------------------\n",
      "x1             0.3081      0.284      1.083      0.279      -0.251       0.867\n",
      "x2            -0.0001      0.000     -0.554      0.580      -0.001       0.000\n",
      "x3             0.4972      0.191      2.605      0.009       0.122       0.872\n",
      "x4         -1.258e-05      0.000     -0.058      0.954      -0.000       0.000\n",
      "x5             0.3895      0.540      0.721      0.471      -0.672       1.451\n",
      "==============================================================================\n",
      "Omnibus:                      481.475   Durbin-Watson:                   1.908\n",
      "Prob(Omnibus):                  0.000   Jarque-Bera (JB):           290672.182\n",
      "Skew:                           2.478   Prob(JB):                         0.00\n",
      "Kurtosis:                     113.132   Cond. No.                     2.98e+04\n",
      "==============================================================================\n",
      "\n",
      "Warnings:\n",
      "[1] Standard Errors assume that the covariance matrix of the errors is correctly specified.\n",
      "[2] The condition number is large, 2.98e+04. This might indicate that there are\n",
      "strong multicollinearity or other numerical problems.\n",
      " \n",
      "R-squared measure: 0.629049217317421\n",
      "MSE score: 27610.106513684324\n",
      "Top features: X[3, 1, 5, 2, 4]\n",
      "Sorted p-value: [0.009419548144866674, 0.27931161073518257, 0.4714206412129184, 0.57962880314426, 0.9539714183898655]\n"
     ]
    }
   ],
   "source": [
    "# tweets_#gopatriots.txt\n",
    "date_df_out = readfile_p2('tweets_#gopatriots.txt')\n",
    "results, r2, mse, pvalues_index_list, pvalues_list = OLS_p2(date_df_out)\n",
    "# report\n",
    "print(results.summary())\n",
    "print(' ')\n",
    "print('R-squared measure: {}'.format(r2))\n",
    "print('MSE score: {}'.format(mse))\n",
    "print('Top features: X{}'.format(pvalues_index_list))\n",
    "print('Sorted p-value: {}'.format(pvalues_list))"
   ]
  },
  {
   "cell_type": "markdown",
   "metadata": {
    "colab_type": "text",
    "id": "SDtT-9bjWriG"
   },
   "source": [
    "#### Report of nfl"
   ]
  },
  {
   "cell_type": "code",
   "execution_count": 0,
   "metadata": {
    "colab": {},
    "colab_type": "code",
    "id": "O3umvLERWriH",
    "outputId": "eac971ac-2fea-4a72-e6f2-e45cb3df7b9c"
   },
   "outputs": [
    {
     "name": "stdout",
     "output_type": "stream",
     "text": [
      "                            OLS Regression Results                            \n",
      "==============================================================================\n",
      "Dep. Variable:                      y   R-squared:                       0.652\n",
      "Model:                            OLS   Adj. R-squared:                  0.649\n",
      "Method:                 Least Squares   F-statistic:                     217.8\n",
      "Date:                Sun, 10 Mar 2019   Prob (F-statistic):          1.23e-130\n",
      "Time:                        20:54:03   Log-Likelihood:                -4500.0\n",
      "No. Observations:                 586   AIC:                             9010.\n",
      "Df Residuals:                     581   BIC:                             9032.\n",
      "Df Model:                           5                                         \n",
      "Covariance Type:            nonrobust                                         \n",
      "==============================================================================\n",
      "                 coef    std err          t      P>|t|      [0.025      0.975]\n",
      "------------------------------------------------------------------------------\n",
      "x1             0.6317      0.134      4.718      0.000       0.369       0.895\n",
      "x2             0.0001    2.5e-05      4.256      0.000    5.73e-05       0.000\n",
      "x3            -0.1811      0.064     -2.831      0.005      -0.307      -0.055\n",
      "x4          -9.96e-05   3.28e-05     -3.038      0.002      -0.000   -3.52e-05\n",
      "x5             7.5679      1.965      3.852      0.000       3.709      11.426\n",
      "==============================================================================\n",
      "Omnibus:                      619.607   Durbin-Watson:                   2.363\n",
      "Prob(Omnibus):                  0.000   Jarque-Bera (JB):           342008.050\n",
      "Skew:                           3.927   Prob(JB):                         0.00\n",
      "Kurtosis:                     121.091   Cond. No.                     3.91e+05\n",
      "==============================================================================\n",
      "\n",
      "Warnings:\n",
      "[1] Standard Errors assume that the covariance matrix of the errors is correctly specified.\n",
      "[2] The condition number is large, 3.91e+05. This might indicate that there are\n",
      "strong multicollinearity or other numerical problems.\n",
      " \n",
      "R-squared measure: 0.564697182625962\n",
      "MSE score: 273848.27647389116\n",
      "Top features: X[1, 2, 5, 4, 3]\n",
      "Sorted p-value: [2.990441964956965e-06, 2.4286553289030864e-05, 0.0001300362640563613, 0.0024861084400289377, 0.004794168427464347]\n"
     ]
    }
   ],
   "source": [
    "# 'tweets_#nfl.txt'\n",
    "date_df_out = readfile_p2('tweets_#nfl.txt')\n",
    "results, r2, mse, pvalues_index_list, pvalues_list = OLS_p2(date_df_out)\n",
    "# report\n",
    "print(results.summary())\n",
    "print(' ')\n",
    "print('R-squared measure: {}'.format(r2))\n",
    "print('MSE score: {}'.format(mse))\n",
    "print('Top features: X{}'.format(pvalues_index_list))\n",
    "print('Sorted p-value: {}'.format(pvalues_list))"
   ]
  },
  {
   "cell_type": "markdown",
   "metadata": {
    "colab_type": "text",
    "id": "CaAnjw1pWriK"
   },
   "source": [
    "#### Report of patriots"
   ]
  },
  {
   "cell_type": "code",
   "execution_count": 0,
   "metadata": {
    "colab": {},
    "colab_type": "code",
    "id": "uImxUYzkWriL",
    "outputId": "452bfbb7-c0be-42e4-999c-e7010dd9bcbb"
   },
   "outputs": [
    {
     "name": "stdout",
     "output_type": "stream",
     "text": [
      "                            OLS Regression Results                            \n",
      "==============================================================================\n",
      "Dep. Variable:                      y   R-squared:                       0.679\n",
      "Model:                            OLS   Adj. R-squared:                  0.677\n",
      "Method:                 Least Squares   F-statistic:                     246.3\n",
      "Date:                Sun, 10 Mar 2019   Prob (F-statistic):          5.98e-141\n",
      "Time:                        20:54:25   Log-Likelihood:                -5361.9\n",
      "No. Observations:                 586   AIC:                         1.073e+04\n",
      "Df Residuals:                     581   BIC:                         1.076e+04\n",
      "Df Model:                           5                                         \n",
      "Covariance Type:            nonrobust                                         \n",
      "==============================================================================\n",
      "                 coef    std err          t      P>|t|      [0.025      0.975]\n",
      "------------------------------------------------------------------------------\n",
      "x1             0.9148      0.071     12.943      0.000       0.776       1.054\n",
      "x2         -1.156e-05   2.63e-05     -0.439      0.661   -6.32e-05    4.01e-05\n",
      "x3            -0.0675      0.058     -1.170      0.243      -0.181       0.046\n",
      "x4             0.0001   9.08e-05      1.489      0.137   -4.31e-05       0.000\n",
      "x5             5.2220      7.843      0.666      0.506     -10.182      20.626\n",
      "==============================================================================\n",
      "Omnibus:                      884.481   Durbin-Watson:                   1.996\n",
      "Prob(Omnibus):                  0.000   Jarque-Bera (JB):           688343.951\n",
      "Skew:                           7.876   Prob(JB):                         0.00\n",
      "Kurtosis:                     170.163   Cond. No.                     6.81e+05\n",
      "==============================================================================\n",
      "\n",
      "Warnings:\n",
      "[1] Standard Errors assume that the covariance matrix of the errors is correctly specified.\n",
      "[2] The condition number is large, 6.81e+05. This might indicate that there are\n",
      "strong multicollinearity or other numerical problems.\n",
      " \n",
      "R-squared measure: 0.6678757037266486\n",
      "MSE score: 5189462.115467411\n",
      "Top features: X[1, 4, 3, 5, 2]\n",
      "Sorted p-value: [7.594597943307529e-34, 0.1370654561771193, 0.2426070819374223, 0.5057830851778546, 0.6606514226821047]\n"
     ]
    }
   ],
   "source": [
    "# 'tweets_#patriots.txt'\n",
    "date_df_out = readfile_p2('tweets_#patriots.txt')\n",
    "results, r2, mse, pvalues_index_list, pvalues_list = OLS_p2(date_df_out)\n",
    "# report\n",
    "print(results.summary())\n",
    "print(' ')\n",
    "print('R-squared measure: {}'.format(r2))\n",
    "print('MSE score: {}'.format(mse))\n",
    "print('Top features: X{}'.format(pvalues_index_list))\n",
    "print('Sorted p-value: {}'.format(pvalues_list))"
   ]
  },
  {
   "cell_type": "markdown",
   "metadata": {
    "colab_type": "text",
    "id": "dtENAsBEWriN"
   },
   "source": [
    "#### Report of sb49"
   ]
  },
  {
   "cell_type": "code",
   "execution_count": 0,
   "metadata": {
    "colab": {},
    "colab_type": "code",
    "id": "t3wha4uMWriO",
    "outputId": "175cfa49-afaa-45dc-886a-d8ccbf426662"
   },
   "outputs": [
    {
     "name": "stdout",
     "output_type": "stream",
     "text": [
      "                            OLS Regression Results                            \n",
      "==============================================================================\n",
      "Dep. Variable:                      y   R-squared:                       0.808\n",
      "Model:                            OLS   Adj. R-squared:                  0.807\n",
      "Method:                 Least Squares   F-statistic:                     486.4\n",
      "Date:                Sun, 10 Mar 2019   Prob (F-statistic):          3.24e-204\n",
      "Time:                        20:55:03   Log-Likelihood:                -5656.6\n",
      "No. Observations:                 582   AIC:                         1.132e+04\n",
      "Df Residuals:                     577   BIC:                         1.134e+04\n",
      "Df Model:                           5                                         \n",
      "Covariance Type:            nonrobust                                         \n",
      "==============================================================================\n",
      "                 coef    std err          t      P>|t|      [0.025      0.975]\n",
      "------------------------------------------------------------------------------\n",
      "x1             1.1374      0.087     13.042      0.000       0.966       1.309\n",
      "x2           9.88e-06   1.25e-05      0.790      0.430   -1.47e-05    3.44e-05\n",
      "x3            -0.1618      0.079     -2.058      0.040      -0.316      -0.007\n",
      "x4          9.854e-05   4.31e-05      2.285      0.023    1.38e-05       0.000\n",
      "x5            -3.2494     13.712     -0.237      0.813     -30.180      23.682\n",
      "==============================================================================\n",
      "Omnibus:                     1178.049   Durbin-Watson:                   1.673\n",
      "Prob(Omnibus):                  0.000   Jarque-Bera (JB):          2197364.361\n",
      "Skew:                          14.548   Prob(JB):                         0.00\n",
      "Kurtosis:                     302.610   Cond. No.                     6.52e+06\n",
      "==============================================================================\n",
      "\n",
      "Warnings:\n",
      "[1] Standard Errors assume that the covariance matrix of the errors is correctly specified.\n",
      "[2] The condition number is large, 6.52e+06. This might indicate that there are\n",
      "strong multicollinearity or other numerical problems.\n",
      " \n",
      "R-squared measure: 0.8044560146992121\n",
      "MSE score: 16199530.452681417\n",
      "Top features: X[1, 4, 3, 2, 5]\n",
      "Sorted p-value: [2.9550597572818457e-34, 0.022703592159762895, 0.0400144710815909, 0.42971242944657095, 0.812754588797514]\n"
     ]
    }
   ],
   "source": [
    "# 'tweets_#sb49.txt'\n",
    "date_df_out = readfile_p2('tweets_#sb49.txt')\n",
    "results, r2, mse, pvalues_index_list, pvalues_list = OLS_p2(date_df_out)\n",
    "# report\n",
    "print(results.summary())\n",
    "print(' ')\n",
    "print('R-squared measure: {}'.format(r2))\n",
    "print('MSE score: {}'.format(mse))\n",
    "print('Top features: X{}'.format(pvalues_index_list))\n",
    "print('Sorted p-value: {}'.format(pvalues_list))"
   ]
  },
  {
   "cell_type": "markdown",
   "metadata": {
    "colab_type": "text",
    "id": "b8Rb4Q7nWriQ"
   },
   "source": [
    "#### Report of superbowl"
   ]
  },
  {
   "cell_type": "code",
   "execution_count": 0,
   "metadata": {
    "colab": {},
    "colab_type": "code",
    "id": "Z5b9h7-YWriR",
    "outputId": "813578ad-4d33-4f2a-db99-3cdcb55fcf22"
   },
   "outputs": [
    {
     "name": "stdout",
     "output_type": "stream",
     "text": [
      "                            OLS Regression Results                            \n",
      "==============================================================================\n",
      "Dep. Variable:                      y   R-squared:                       0.803\n",
      "Model:                            OLS   Adj. R-squared:                  0.801\n",
      "Method:                 Least Squares   F-statistic:                     473.8\n",
      "Date:                Sun, 10 Mar 2019   Prob (F-statistic):          2.80e-202\n",
      "Time:                        20:56:05   Log-Likelihood:                -6039.9\n",
      "No. Observations:                 586   AIC:                         1.209e+04\n",
      "Df Residuals:                     581   BIC:                         1.211e+04\n",
      "Df Model:                           5                                         \n",
      "Covariance Type:            nonrobust                                         \n",
      "==============================================================================\n",
      "                 coef    std err          t      P>|t|      [0.025      0.975]\n",
      "------------------------------------------------------------------------------\n",
      "x1             2.2765      0.080     28.559      0.000       2.120       2.433\n",
      "x2            -0.0001   2.19e-05     -6.278      0.000      -0.000   -9.44e-05\n",
      "x3            -0.2553      0.046     -5.595      0.000      -0.345      -0.166\n",
      "x4             0.0007      0.000      5.013      0.000       0.000       0.001\n",
      "x5           -29.0126     26.714     -1.086      0.278     -81.480      23.455\n",
      "==============================================================================\n",
      "Omnibus:                      974.639   Durbin-Watson:                   2.285\n",
      "Prob(Omnibus):                  0.000   Jarque-Bera (JB):          1789674.506\n",
      "Skew:                           9.288   Prob(JB):                         0.00\n",
      "Kurtosis:                     273.097   Cond. No.                     9.75e+06\n",
      "==============================================================================\n",
      "\n",
      "Warnings:\n",
      "[1] Standard Errors assume that the covariance matrix of the errors is correctly specified.\n",
      "[2] The condition number is large, 9.75e+06. This might indicate that there are\n",
      "strong multicollinearity or other numerical problems.\n",
      " \n",
      "R-squared measure: 0.7998192211646257\n",
      "MSE score: 52488994.91201071\n",
      "Top features: X[1, 2, 3, 4, 5]\n",
      "Sorted p-value: [9.671940388385228e-113, 6.717339848297036e-10, 3.408730696892374e-08, 7.122965622332766e-07, 0.27790683573635655]\n"
     ]
    }
   ],
   "source": [
    "# 'tweets_#superbowl.txt'\n",
    "date_df_out = readfile_p2('tweets_#superbowl.txt')\n",
    "results, r2, mse, pvalues_index_list, pvalues_list = OLS_p2(date_df_out)\n",
    "# report\n",
    "print(results.summary())\n",
    "print(' ')\n",
    "print('R-squared measure: {}'.format(r2))\n",
    "print('MSE score: {}'.format(mse))\n",
    "print('Top features: X{}'.format(pvalues_index_list))\n",
    "print('Sorted p-value: {}'.format(pvalues_list))"
   ]
  },
  {
   "cell_type": "markdown",
   "metadata": {
    "colab_type": "text",
    "id": "LcuNtE3nWriU"
   },
   "source": [
    "### 3. Feature analysis"
   ]
  },
  {
   "cell_type": "markdown",
   "metadata": {
    "colab_type": "text",
    "id": "oOf4FdyGWriU"
   },
   "source": [
    "### Question 4 & 5: Design a regression model and Plot top 3 features"
   ]
  },
  {
   "cell_type": "code",
   "execution_count": 0,
   "metadata": {
    "colab": {},
    "colab_type": "code",
    "id": "lJ_DcyzbWriV"
   },
   "outputs": [],
   "source": [
    "# load files and report for Part 3\n",
    "# NOTE: https://www.statsmodels.org/stable/index.html\n",
    "import statsmodels.api as sm\n",
    "from sklearn.metrics import r2_score, mean_squared_error\n",
    "\n",
    "def readfile_p3(file_name):\n",
    "    # Read file ##########################################################\n",
    "    time_list = []\n",
    "    num_retweets = []\n",
    "    num_followers = []\n",
    "    num_replies = []\n",
    "    num_impressions = []\n",
    "    num_favourites = []\n",
    "    rank_score = []\n",
    "    count_hashtag = []\n",
    "    mention_counts = []\n",
    "    url_counts = []\n",
    "    author_name = []\n",
    "    with open(file_name,encoding='utf8') as file:\n",
    "        data = file.readlines()\n",
    "    for line in data:\n",
    "        json_object = json.loads(line)\n",
    "        time_list.append(json_object['citation_date'])\n",
    "        num_retweets.append(json_object['metrics']['citations']['total'])\n",
    "        num_followers.append(json_object['author']['followers'])\n",
    "        # addtional features: \n",
    "        #   impressions, favourites, ranking score, counted hashtag, \n",
    "        #   mentioned count, url counts, author_name\n",
    "        num_replies.append(json_object['metrics']['citations']['replies'])\n",
    "        num_impressions.append(json_object['metrics']['impressions'])\n",
    "        num_favourites.append(json_object['tweet']['favorite_count'])\n",
    "        rank_score.append(json_object['metrics']['ranking_score'])\n",
    "        count_hashtag.append(json_object['title'].count('#'))\n",
    "        mention_counts.append(len(json_object['tweet']['entities']['user_mentions']))\n",
    "        url_counts.append(len(json_object['tweet']['entities']['urls']))\n",
    "        author_name.append(json_object['author']['name'])\n",
    "    file.close()\n",
    "\n",
    "    # Process datetime for event counting #################################\n",
    "    # NOTE: https://stackoverflow.com/questions/28564254/count-number-of-events-per-hour-given-in-datetime-numpy\n",
    "    date_list = []\n",
    "    pst_tz = pytz.timezone('America/Los_Angeles')\n",
    "    for time in time_list:\n",
    "        date = datetime.datetime.fromtimestamp(time,pst_tz).replace(tzinfo=None)\n",
    "        date_list.append(date)\n",
    "    # count events per hour using dataframe\n",
    "    date_df = pd.DataFrame(date_list,columns=['Date'])\n",
    "    date_df = date_df.set_index(date_df['Date'])\n",
    "    date_df.drop(['Date'],1,inplace = True)\n",
    "    date_df['num_tweets'] = 1\n",
    "    date_df['num_followers'] = num_followers\n",
    "    date_df['num_retweets'] = num_retweets\n",
    "    # additional features\n",
    "    date_df['num_replies'] = num_replies\n",
    "    date_df['num_impressions'] = num_impressions\n",
    "    date_df['num_favourites'] = num_favourites\n",
    "    date_df['rank_score'] = rank_score\n",
    "    date_df['count_hashtag'] = count_hashtag\n",
    "    date_df['mention_counts'] = mention_counts\n",
    "    date_df['url_counts'] = url_counts\n",
    "    date_df['author_name'] = author_name\n",
    "\n",
    "    # NOTE: http://pandas.pydata.org/pandas-docs/version/0.17/generated/pandas.DataFrame.apply.html\n",
    "    # count events per feature\n",
    "    # features: \n",
    "    #   total number of tweets, \n",
    "    #   total number of followers, max number of followers, \n",
    "    #   total number of retweets,\n",
    "    #   total number of replies, max number of replies, \n",
    "    #   total number of impressions, max number of impressions,\n",
    "    #   total number of favourites, max number of favourites,\n",
    "    #   sum of rank scores, max rank scores,\n",
    "    #   sum of counted hashtag, max counted hashtage\n",
    "    #   sum of mentioned counts, max mentioned counts\n",
    "    #   sum of url counts, max url counts\n",
    "    #   total number of authors, max number of authors\n",
    "    tot_num_tweets = date_df['num_tweets'].resample('H').sum()\n",
    "    tot_num_followers = date_df['num_followers'].resample('H').sum()\n",
    "    max_num_followers = date_df['num_followers'].resample('H').max()\n",
    "    tot_num_retweets = date_df['num_retweets'].resample('H').sum()\n",
    "    tot_num_replies = date_df['num_replies'].resample('H').sum()\n",
    "    max_num_replies = date_df['num_replies'].resample('H').max()\n",
    "    tot_num_impressions = date_df['num_impressions'].resample('H').sum()\n",
    "    max_num_impressions = date_df['num_impressions'].resample('H').max()\n",
    "    tot_num_favourites = date_df['num_favourites'].resample('H').sum()\n",
    "    max_num_favourites = date_df['num_favourites'].resample('H').max()\n",
    "    tot_rank_score = date_df['rank_score'].resample('H').sum()\n",
    "    max_rank_score = date_df['rank_score'].resample('H').max()\n",
    "    tot_count_hashtag = date_df['count_hashtag'].resample('H').sum()\n",
    "    max_count_hashtag = date_df['count_hashtag'].resample('H').max()\n",
    "    tot_mention_counts = date_df['mention_counts'].resample('H').sum()\n",
    "    max_mention_counts = date_df['mention_counts'].resample('H').max()\n",
    "    tot_url_counts = date_df['url_counts'].resample('H').sum()\n",
    "    max_url_counts = date_df['url_counts'].resample('H').max()\n",
    "    tot_author_name = date_df['author_name'].resample('H').apply(lambda x: len(x.unique()))\n",
    "    # rename each feature\n",
    "    tot_num_tweets.rename('tot_num_tweets',inplace=True)            # x1\n",
    "    tot_num_followers.rename('tot_num_followers',inplace=True)      # x2\n",
    "    max_num_followers.rename('max_num_followers',inplace=True)      # x3\n",
    "    tot_num_retweets.rename('tot_num_retweets',inplace=True)        # x4\n",
    "    tot_num_replies.rename('tot_num_replies',inplace=True)          # x5\n",
    "    max_num_replies.rename('max_num_replies',inplace=True)          # x6\n",
    "    tot_num_impressions.rename('tot_num_impressions',inplace=True)  # x7\n",
    "    max_num_impressions.rename('max_num_impressions',inplace=True)  # x8\n",
    "    tot_num_favourites.rename('tot_num_favourites',inplace=True)    # x9\n",
    "    max_num_favourites.rename('max_num_favourites',inplace=True)    # x10\n",
    "    tot_rank_score.rename('tot_rank_score',inplace=True)            # x11\n",
    "    max_rank_score.rename('max_rank_score',inplace=True)            # x12\n",
    "    tot_count_hashtag.rename('tot_count_hashtag',inplace=True)      # x13\n",
    "    max_count_hashtag.rename('max_count_hashtag',inplace=True)      # x14\n",
    "    tot_mention_counts.rename('tot_mention_counts',inplace=True)    # x15\n",
    "    max_mention_counts.rename('max_mention_counts',inplace=True)    # x16\n",
    "    tot_url_counts.rename('tot_url_counts',inplace=True)            # x17\n",
    "    max_url_counts.rename('max_url_counts',inplace=True)            # x18\n",
    "    tot_author_name.rename('tot_author_name',inplace=True)          # x19\n",
    "    # NOTE: https://pandas.pydata.org/pandas-docs/stable/user_guide/merging.html\n",
    "    # concatenating features\n",
    "    features = [tot_num_tweets,\n",
    "               tot_num_followers, max_num_followers,\n",
    "               tot_num_retweets,\n",
    "               tot_num_replies, max_num_replies,\n",
    "               tot_num_impressions, max_num_impressions,\n",
    "               tot_num_favourites, max_num_favourites,\n",
    "               tot_rank_score, max_rank_score,\n",
    "               tot_count_hashtag, max_count_hashtag,\n",
    "               tot_mention_counts, max_mention_counts,\n",
    "               tot_url_counts, max_url_counts,\n",
    "               tot_author_name]\n",
    "    date_df_out = pd.concat(features, axis=1)\n",
    "    date_df_out['time'] = date_df_out.index.hour                    # 20\n",
    "    return date_df_out"
   ]
  },
  {
   "cell_type": "code",
   "execution_count": 0,
   "metadata": {
    "colab": {},
    "colab_type": "code",
    "id": "NBGLU_4jWriX"
   },
   "outputs": [],
   "source": [
    "# NOTE: https://www.statsmodels.org/dev/generated/statsmodels.regression.linear_model.OLS.html\n",
    "# https://www.statsmodels.org/dev/generated/statsmodels.regression.linear_model.RegressionResults.html\n",
    "# OLS\n",
    "def OLS_p3(date_df_out):\n",
    "    X = date_df_out.iloc[:-1]\n",
    "    y = date_df_out['tot_num_tweets'][1:]\n",
    "    X = np.nan_to_num(X)\n",
    "    y = np.nan_to_num(y)\n",
    "    results = sm.OLS(y, X).fit()\n",
    "    # RMSE and R2 measure\n",
    "    r2 = r2_score(y, results.fittedvalues)\n",
    "    mse = mean_squared_error(y, results.fittedvalues)\n",
    "    # top 3 features\n",
    "    pvalues_index_list = []\n",
    "    pvalues_list = []\n",
    "    X_new = []\n",
    "    pvalues = results.pvalues\n",
    "    top_index = np.argsort(pvalues)[:3]\n",
    "    for i in top_index:\n",
    "        pvalues_index_list.append(pvalues.tolist().index(pvalues[i])+1)\n",
    "        pvalues_list.append(pvalues[i])\n",
    "        X_new.append(X.T[i])\n",
    "    return results, r2, mse, pvalues_index_list, pvalues_list, X_new, pvalues"
   ]
  },
  {
   "cell_type": "code",
   "execution_count": 0,
   "metadata": {
    "colab": {},
    "colab_type": "code",
    "id": "Oi-inaO7WriZ"
   },
   "outputs": [],
   "source": [
    "def plotPred(test_target, pred_target):\n",
    "    line1 = np.linspace(0,np.max([test_target,pred_target]),10)\n",
    "    #plt.figure(figsize=(8,6)) \n",
    "    plt.scatter(test_target,pred_target)\n",
    "    plt.plot(line1, line1,'r--')\n",
    "    plt.xlabel(\"True Values\")\n",
    "    plt.ylabel(\"Predicted Values\")\n",
    "    plt.show()"
   ]
  },
  {
   "cell_type": "markdown",
   "metadata": {
    "colab_type": "text",
    "id": "W29rUWJZWria"
   },
   "source": [
    "#### Report of gohawks"
   ]
  },
  {
   "cell_type": "code",
   "execution_count": 0,
   "metadata": {
    "colab": {},
    "colab_type": "code",
    "id": "rEANMkbZWrib",
    "outputId": "5e39f590-1c80-4228-ef90-497ea42da1f2",
    "scrolled": true
   },
   "outputs": [
    {
     "name": "stdout",
     "output_type": "stream",
     "text": [
      "                            OLS Regression Results                            \n",
      "==============================================================================\n",
      "Dep. Variable:                      y   R-squared:                       0.722\n",
      "Model:                            OLS   Adj. R-squared:                  0.712\n",
      "Method:                 Least Squares   F-statistic:                     72.61\n",
      "Date:                Sun, 10 Mar 2019   Prob (F-statistic):          9.09e-141\n",
      "Time:                        20:56:15   Log-Likelihood:                -4566.2\n",
      "No. Observations:                 578   AIC:                             9172.\n",
      "Df Residuals:                     558   BIC:                             9260.\n",
      "Df Model:                          20                                         \n",
      "Covariance Type:            nonrobust                                         \n",
      "==============================================================================\n",
      "                 coef    std err          t      P>|t|      [0.025      0.975]\n",
      "------------------------------------------------------------------------------\n",
      "x1           -64.3885      4.536    -14.196      0.000     -73.297     -55.480\n",
      "x2            -0.0006      0.000     -3.401      0.001      -0.001      -0.000\n",
      "x3             0.0003      0.000      1.386      0.166      -0.000       0.001\n",
      "x4            -0.0711      0.065     -1.096      0.274      -0.199       0.056\n",
      "x5           -17.7379     15.334     -1.157      0.248     -47.857      12.381\n",
      "x6            -3.6674     25.489     -0.144      0.886     -53.733      46.398\n",
      "x7             0.0002      0.000      0.932      0.352      -0.000       0.001\n",
      "x8           6.61e-05      0.000      0.305      0.760      -0.000       0.000\n",
      "x9             3.5152      0.648      5.427      0.000       2.243       4.787\n",
      "x10           -3.5324      0.655     -5.395      0.000      -4.819      -2.246\n",
      "x11           12.9604      0.910     14.246      0.000      11.173      14.747\n",
      "x12          -27.6119     17.758     -1.555      0.121     -62.493       7.269\n",
      "x13           -0.3945      0.395     -0.998      0.319      -1.171       0.382\n",
      "x14           28.0477     13.331      2.104      0.036       1.863      54.232\n",
      "x15            2.2888      0.538      4.253      0.000       1.232       3.346\n",
      "x16            3.7620     15.628      0.241      0.810     -26.936      34.460\n",
      "x17            7.8555      1.437      5.467      0.000       5.033      10.678\n",
      "x18          -65.3477     47.601     -1.373      0.170    -158.847      28.151\n",
      "x19            7.0000      0.989      7.078      0.000       5.057       8.942\n",
      "x20            1.3293      4.072      0.326      0.744      -6.668       9.327\n",
      "==============================================================================\n",
      "Omnibus:                      946.490   Durbin-Watson:                   1.857\n",
      "Prob(Omnibus):                  0.000   Jarque-Bera (JB):           697922.244\n",
      "Skew:                           9.392   Prob(JB):                         0.00\n",
      "Kurtosis:                     172.194   Cond. No.                     6.58e+06\n",
      "==============================================================================\n",
      "\n",
      "Warnings:\n",
      "[1] Standard Errors assume that the covariance matrix of the errors is correctly specified.\n",
      "[2] The condition number is large, 6.58e+06. This might indicate that there are\n",
      "strong multicollinearity or other numerical problems.\n",
      " \n",
      "R-squared measure: 0.7060263736412693\n",
      "MSE score: 425946.2701713883\n",
      "Signifiance of features: X[2.83494494e-39 7.20586188e-04 1.66316023e-01 2.73582336e-01\n",
      " 2.47849365e-01 8.85643682e-01 3.51873400e-01 7.60478713e-01\n",
      " 8.55493547e-08 1.01419940e-07 1.68207825e-39 1.20541654e-01\n",
      " 3.18513064e-01 3.58270736e-02 2.47145777e-05 8.09863013e-01\n",
      " 6.93060427e-08 1.70359249e-01 4.40429209e-12 7.44183488e-01]\n",
      "Top 3 features: [11, 1, 19]\n",
      "Lowest 3 p-value: [1.682078253029852e-39, 2.8349449358149504e-39, 4.404292092364311e-12]\n"
     ]
    },
    {
     "data": {
      "image/png": "[encoded data removed]",
      "text/plain": [
       "<Figure size 432x288 with 1 Axes>"
      ]
     },
     "metadata": {
      "needs_background": "light",
      "tags": []
     },
     "output_type": "display_data"
    },
    {
     "data": {
      "image/png": "[encoded data removed]",
      "text/plain": [
       "<Figure size 432x288 with 1 Axes>"
      ]
     },
     "metadata": {
      "needs_background": "light",
      "tags": []
     },
     "output_type": "display_data"
    },
    {
     "data": {
      "image/png": "[encoded data removed]",
      "text/plain": [
       "<Figure size 432x288 with 1 Axes>"
      ]
     },
     "metadata": {
      "needs_background": "light",
      "tags": []
     },
     "output_type": "display_data"
    }
   ],
   "source": [
    "# 'tweets_#gohawks.txt'\n",
    "date_df_out = readfile_p3('tweets_#gohawks.txt')\n",
    "results, r2, mse, pvalues_index_list, pvalues_list, X_new, pvalues = OLS_p3(date_df_out)\n",
    "print(results.summary())\n",
    "print(' ')\n",
    "print('R-squared measure: {}'.format(r2))\n",
    "print('MSE score: {}'.format(mse))\n",
    "print('Signifiance of features: X{}'.format(pvalues))\n",
    "print('Top 3 features: {}'.format(pvalues_index_list))\n",
    "print('Lowest 3 p-value: {}'.format(pvalues_list))\n",
    "for i in np.arange(3):\n",
    "    plotPred(X_new[i],results.fittedvalues)"
   ]
  },
  {
   "cell_type": "markdown",
   "metadata": {
    "colab_type": "text",
    "id": "IhoauchcWrii"
   },
   "source": [
    "#### Report of gopatriots"
   ]
  },
  {
   "cell_type": "code",
   "execution_count": 0,
   "metadata": {
    "colab": {},
    "colab_type": "code",
    "id": "E4d9ZXdzWrij",
    "outputId": "7d195799-9653-4943-a07d-9e833897f668",
    "scrolled": true
   },
   "outputs": [
    {
     "name": "stdout",
     "output_type": "stream",
     "text": [
      "                            OLS Regression Results                            \n",
      "==============================================================================\n",
      "Dep. Variable:                      y   R-squared:                       0.923\n",
      "Model:                            OLS   Adj. R-squared:                  0.920\n",
      "Method:                 Least Squares   F-statistic:                     330.1\n",
      "Date:                Sun, 10 Mar 2019   Prob (F-statistic):          2.51e-292\n",
      "Time:                        20:56:16   Log-Likelihood:                -3306.1\n",
      "No. Observations:                 574   AIC:                             6652.\n",
      "Df Residuals:                     554   BIC:                             6739.\n",
      "Df Model:                          20                                         \n",
      "Covariance Type:            nonrobust                                         \n",
      "==============================================================================\n",
      "                 coef    std err          t      P>|t|      [0.025      0.975]\n",
      "------------------------------------------------------------------------------\n",
      "x1           -28.9274      3.324     -8.704      0.000     -35.456     -22.399\n",
      "x2            -0.0100      0.002     -5.608      0.000      -0.014      -0.007\n",
      "x3             0.0114      0.002      6.324      0.000       0.008       0.015\n",
      "x4            -1.6959      0.132    -12.865      0.000      -1.955      -1.437\n",
      "x5          -132.2831     17.177     -7.701      0.000    -166.024     -98.542\n",
      "x6           135.9921     17.593      7.730      0.000     101.435     170.550\n",
      "x7             0.0098      0.002      5.428      0.000       0.006       0.013\n",
      "x8            -0.0110      0.002     -6.081      0.000      -0.015      -0.007\n",
      "x9             1.3758      2.819      0.488      0.626      -4.161       6.912\n",
      "x10           18.0935      5.608      3.226      0.001       7.078      29.109\n",
      "x11            6.5466      0.557     11.747      0.000       5.452       7.641\n",
      "x12           -0.7730      1.837     -0.421      0.674      -4.382       2.836\n",
      "x13            0.8090      0.354      2.283      0.023       0.113       1.505\n",
      "x14           -1.1321      1.891     -0.599      0.550      -4.846       2.582\n",
      "x15            3.7316      0.536      6.966      0.000       2.679       4.784\n",
      "x16            0.2908      2.941      0.099      0.921      -5.485       6.067\n",
      "x17           16.0478      0.991     16.193      0.000      14.101      17.994\n",
      "x18          -20.1486      8.215     -2.453      0.014     -36.284      -4.013\n",
      "x19           -3.2815      0.678     -4.843      0.000      -4.612      -1.951\n",
      "x20            0.6485      0.374      1.734      0.083      -0.086       1.383\n",
      "==============================================================================\n",
      "Omnibus:                      223.989   Durbin-Watson:                   1.989\n",
      "Prob(Omnibus):                  0.000   Jarque-Bera (JB):            23279.496\n",
      "Skew:                           0.682   Prob(JB):                         0.00\n",
      "Kurtosis:                      34.169   Cond. No.                     4.16e+06\n",
      "==============================================================================\n",
      "\n",
      "Warnings:\n",
      "[1] Standard Errors assume that the covariance matrix of the errors is correctly specified.\n",
      "[2] The condition number is large, 4.16e+06. This might indicate that there are\n",
      "strong multicollinearity or other numerical problems.\n",
      " \n",
      "R-squared measure: 0.9208293497803167\n",
      "MSE score: 5892.722666644361\n",
      "Signifiance of features: X[3.67659983e-17 3.23289484e-08 5.24483221e-10 2.50812654e-33\n",
      " 6.25153916e-14 5.09824490e-14 8.52839997e-08 2.23300532e-09\n",
      " 6.25678468e-01 1.32764695e-03 1.31704843e-28 6.74126454e-01\n",
      " 2.28166634e-02 5.49553778e-01 9.30571970e-12 9.21260326e-01\n",
      " 1.43739864e-48 1.44837916e-02 1.66004515e-06 8.34654301e-02]\n",
      "Top 3 features: [17, 4, 11]\n",
      "Lowest 3 p-value: [1.4373986430081648e-48, 2.5081265415079375e-33, 1.3170484324694374e-28]\n"
     ]
    },
    {
     "data": {
      "image/png": "[encoded data removed]",
      "text/plain": [
       "<Figure size 432x288 with 1 Axes>"
      ]
     },
     "metadata": {
      "needs_background": "light",
      "tags": []
     },
     "output_type": "display_data"
    },
    {
     "data": {
      "image/png": "[encoded data removed]",
      "text/plain": [
       "<Figure size 432x288 with 1 Axes>"
      ]
     },
     "metadata": {
      "needs_background": "light",
      "tags": []
     },
     "output_type": "display_data"
    },
    {
     "data": {
      "image/png": "[encoded data removed]",
      "text/plain": [
       "<Figure size 432x288 with 1 Axes>"
      ]
     },
     "metadata": {
      "needs_background": "light",
      "tags": []
     },
     "output_type": "display_data"
    }
   ],
   "source": [
    "# 'tweets_#gopatriots.txt'\n",
    "date_df_out = readfile_p3('tweets_#gopatriots.txt')\n",
    "results, r2, mse, pvalues_index_list, pvalues_list, X_new, pvalues = OLS_p3(date_df_out)\n",
    "print(results.summary())\n",
    "print(' ')\n",
    "print('R-squared measure: {}'.format(r2))\n",
    "print('MSE score: {}'.format(mse))\n",
    "print('Signifiance of features: X{}'.format(pvalues))\n",
    "print('Top 3 features: {}'.format(pvalues_index_list))\n",
    "print('Lowest 3 p-value: {}'.format(pvalues_list))\n",
    "for i in np.arange(3):\n",
    "    plotPred(X_new[i],results.fittedvalues)"
   ]
  },
  {
   "cell_type": "markdown",
   "metadata": {
    "colab_type": "text",
    "id": "sWYjSc9IWrim"
   },
   "source": [
    "#### Report of nfl"
   ]
  },
  {
   "cell_type": "code",
   "execution_count": 0,
   "metadata": {
    "colab": {},
    "colab_type": "code",
    "id": "JT9RCUk8Wrin",
    "outputId": "0521a045-8dbc-44a0-9cf5-3b371fbdbe06",
    "scrolled": true
   },
   "outputs": [
    {
     "name": "stdout",
     "output_type": "stream",
     "text": [
      "                            OLS Regression Results                            \n",
      "==============================================================================\n",
      "Dep. Variable:                      y   R-squared:                       0.813\n",
      "Model:                            OLS   Adj. R-squared:                  0.806\n",
      "Method:                 Least Squares   F-statistic:                     122.7\n",
      "Date:                Sun, 10 Mar 2019   Prob (F-statistic):          8.67e-191\n",
      "Time:                        20:56:30   Log-Likelihood:                -4318.6\n",
      "No. Observations:                 586   AIC:                             8677.\n",
      "Df Residuals:                     566   BIC:                             8765.\n",
      "Df Model:                          20                                         \n",
      "Covariance Type:            nonrobust                                         \n",
      "==============================================================================\n",
      "                 coef    std err          t      P>|t|      [0.025      0.975]\n",
      "------------------------------------------------------------------------------\n",
      "x1            -2.4264      1.462     -1.659      0.098      -5.299       0.446\n",
      "x2            -0.0001      0.000     -0.922      0.357      -0.000       0.000\n",
      "x3          9.247e-05      0.000      0.758      0.449      -0.000       0.000\n",
      "x4            -0.1650      0.056     -2.930      0.004      -0.276      -0.054\n",
      "x5           -17.7536     10.690     -1.661      0.097     -38.750       3.243\n",
      "x6            19.7583     11.526      1.714      0.087      -2.881      42.398\n",
      "x7          3.336e-05      0.000      0.310      0.757      -0.000       0.000\n",
      "x8         -1.368e-05      0.000     -0.116      0.908      -0.000       0.000\n",
      "x9             0.1645      0.990      0.166      0.868      -1.781       2.110\n",
      "x10           -1.9716      1.197     -1.647      0.100      -4.322       0.379\n",
      "x11            0.5297      0.302      1.752      0.080      -0.064       1.123\n",
      "x12           11.8305     15.214      0.778      0.437     -18.052      41.713\n",
      "x13            0.7629      0.099      7.710      0.000       0.569       0.957\n",
      "x14            3.0852      8.508      0.363      0.717     -13.626      19.797\n",
      "x15            3.4706      0.602      5.769      0.000       2.289       4.652\n",
      "x16          -18.8848     11.249     -1.679      0.094     -40.981       3.211\n",
      "x17            0.0253      0.175      0.145      0.885      -0.319       0.370\n",
      "x18          -12.3362     47.910     -0.257      0.797    -106.439      81.767\n",
      "x19           -2.2607      0.348     -6.503      0.000      -2.944      -1.578\n",
      "x20           -3.3082      2.424     -1.365      0.173      -8.070       1.454\n",
      "==============================================================================\n",
      "Omnibus:                      774.649   Durbin-Watson:                   2.363\n",
      "Prob(Omnibus):                  0.000   Jarque-Bera (JB):           149261.147\n",
      "Skew:                           6.592   Prob(JB):                         0.00\n",
      "Kurtosis:                      80.067   Cond. No.                     1.89e+07\n",
      "==============================================================================\n",
      "\n",
      "Warnings:\n",
      "[1] Standard Errors assume that the covariance matrix of the errors is correctly specified.\n",
      "[2] The condition number is large, 1.89e+07. This might indicate that there are\n",
      "strong multicollinearity or other numerical problems.\n",
      " \n",
      "R-squared measure: 0.7655625016673915\n",
      "MSE score: 147484.23923953352\n",
      "Signifiance of features: X[9.76356745e-02 3.57098232e-01 4.48749428e-01 3.52638691e-03\n",
      " 9.73062886e-02 8.70378141e-02 7.56866406e-01 9.07743808e-01\n",
      " 8.68163470e-01 1.00025786e-01 8.02423239e-02 4.37118455e-01\n",
      " 5.70659289e-14 7.17030324e-01 1.31149528e-08 9.37558123e-02\n",
      " 8.85083791e-01 7.96896002e-01 1.73519072e-10 1.72929946e-01]\n",
      "Top 3 features: [13, 19, 15]\n",
      "Lowest 3 p-value: [5.706592886776115e-14, 1.73519071913568e-10, 1.311495277688287e-08]\n"
     ]
    },
    {
     "data": {
      "image/png": "[encoded data removed]",
      "text/plain": [
       "<Figure size 432x288 with 1 Axes>"
      ]
     },
     "metadata": {
      "needs_background": "light",
      "tags": []
     },
     "output_type": "display_data"
    },
    {
     "data": {
      "image/png": "[encoded data removed]",
      "text/plain": [
       "<Figure size 432x288 with 1 Axes>"
      ]
     },
     "metadata": {
      "needs_background": "light",
      "tags": []
     },
     "output_type": "display_data"
    },
    {
     "data": {
      "image/png": "[encoded data removed]",
      "text/plain": [
       "<Figure size 432x288 with 1 Axes>"
      ]
     },
     "metadata": {
      "needs_background": "light",
      "tags": []
     },
     "output_type": "display_data"
    }
   ],
   "source": [
    "# 'tweets_#nfl.txt'\n",
    "date_df_out = readfile_p3('tweets_#nfl.txt')\n",
    "results, r2, mse, pvalues_index_list, pvalues_list, X_new, pvalues = OLS_p3(date_df_out)\n",
    "print(results.summary())\n",
    "print(' ')\n",
    "print('R-squared measure: {}'.format(r2))\n",
    "print('MSE score: {}'.format(mse))\n",
    "print('Signifiance of features: X{}'.format(pvalues))\n",
    "print('Top 3 features: {}'.format(pvalues_index_list))\n",
    "print('Lowest 3 p-value: {}'.format(pvalues_list))\n",
    "for i in np.arange(3):\n",
    "    plotPred(X_new[i],results.fittedvalues)"
   ]
  },
  {
   "cell_type": "markdown",
   "metadata": {
    "colab_type": "text",
    "id": "ikGzQkLyWrip"
   },
   "source": [
    "#### Report of patriots"
   ]
  },
  {
   "cell_type": "code",
   "execution_count": 0,
   "metadata": {
    "colab": {},
    "colab_type": "code",
    "id": "qeH1164JWris",
    "outputId": "50254d66-1185-4cec-d7b4-6bfa0d36a444"
   },
   "outputs": [
    {
     "name": "stdout",
     "output_type": "stream",
     "text": [
      "                            OLS Regression Results                            \n",
      "==============================================================================\n",
      "Dep. Variable:                      y   R-squared:                       0.843\n",
      "Model:                            OLS   Adj. R-squared:                  0.837\n",
      "Method:                 Least Squares   F-statistic:                     151.5\n",
      "Date:                Sun, 10 Mar 2019   Prob (F-statistic):          4.24e-212\n",
      "Time:                        20:56:56   Log-Likelihood:                -5153.5\n",
      "No. Observations:                 586   AIC:                         1.035e+04\n",
      "Df Residuals:                     566   BIC:                         1.043e+04\n",
      "Df Model:                          20                                         \n",
      "Covariance Type:            nonrobust                                         \n",
      "==============================================================================\n",
      "                 coef    std err          t      P>|t|      [0.025      0.975]\n",
      "------------------------------------------------------------------------------\n",
      "x1           -76.0731      4.673    -16.280      0.000     -85.251     -66.895\n",
      "x2             0.0017      0.000      4.446      0.000       0.001       0.002\n",
      "x3            -0.0018      0.000     -4.209      0.000      -0.003      -0.001\n",
      "x4            -0.2848      0.104     -2.741      0.006      -0.489      -0.081\n",
      "x5           -59.0564     12.867     -4.590      0.000     -84.329     -33.783\n",
      "x6            62.2175     15.423      4.034      0.000      31.924      92.511\n",
      "x7            -0.0015      0.000     -3.862      0.000      -0.002      -0.001\n",
      "x8             0.0015      0.000      3.403      0.001       0.001       0.002\n",
      "x9             0.5338      0.496      1.076      0.282      -0.441       1.508\n",
      "x10           -0.4393      0.649     -0.677      0.499      -1.715       0.836\n",
      "x11           14.2042      0.945     15.036      0.000      12.349      16.060\n",
      "x12          -67.2732     52.071     -1.292      0.197    -169.549      35.003\n",
      "x13            2.6903      0.378      7.109      0.000       1.947       3.434\n",
      "x14           23.0993     35.704      0.647      0.518     -47.030      93.228\n",
      "x15            4.8249      0.854      5.651      0.000       3.148       6.502\n",
      "x16          -35.4157     32.915     -1.076      0.282    -100.066      29.235\n",
      "x17           -0.1166      1.680     -0.069      0.945      -3.415       3.182\n",
      "x18           97.8781    159.740      0.613      0.540    -215.877     411.633\n",
      "x19            4.8389      0.845      5.726      0.000       3.179       6.499\n",
      "x20            3.3692      9.983      0.337      0.736     -16.239      22.977\n",
      "==============================================================================\n",
      "Omnibus:                     1008.724   Durbin-Watson:                   1.720\n",
      "Prob(Omnibus):                  0.000   Jarque-Bera (JB):           948135.088\n",
      "Skew:                          10.368   Prob(JB):                         0.00\n",
      "Kurtosis:                     198.963   Cond. No.                     2.78e+07\n",
      "==============================================================================\n",
      "\n",
      "Warnings:\n",
      "[1] Standard Errors assume that the covariance matrix of the errors is correctly specified.\n",
      "[2] The condition number is large, 2.78e+07. This might indicate that there are\n",
      "strong multicollinearity or other numerical problems.\n",
      " \n",
      "R-squared measure: 0.836948999925427\n",
      "MSE score: 2547681.688061924\n",
      "Signifiance of features: X[3.67567922e-49 1.05390307e-05 2.98849335e-05 6.31761800e-03\n",
      " 5.47100798e-06 6.23569653e-05 1.25629658e-04 7.12397181e-04\n",
      " 2.82469663e-01 4.98974411e-01 3.08713363e-43 1.96902062e-01\n",
      " 3.54606238e-12 5.17917853e-01 2.52825749e-08 2.82398131e-01\n",
      " 9.44696815e-01 5.40297374e-01 1.66886579e-08 7.35866659e-01]\n",
      "Top 3 features: [1, 11, 13]\n",
      "Lowest 3 p-value: [3.675679223188812e-49, 3.0871336264384087e-43, 3.5460623842493083e-12]\n"
     ]
    },
    {
     "data": {
      "image/png": "[encoded data removed]",
      "text/plain": [
       "<Figure size 432x288 with 1 Axes>"
      ]
     },
     "metadata": {
      "needs_background": "light",
      "tags": []
     },
     "output_type": "display_data"
    },
    {
     "data": {
      "image/png": "[encoded data removed]",
      "text/plain": [
       "<Figure size 432x288 with 1 Axes>"
      ]
     },
     "metadata": {
      "needs_background": "light",
      "tags": []
     },
     "output_type": "display_data"
    },
    {
     "data": {
      "image/png": "[encoded data removed]",
      "text/plain": [
       "<Figure size 432x288 with 1 Axes>"
      ]
     },
     "metadata": {
      "needs_background": "light",
      "tags": []
     },
     "output_type": "display_data"
    }
   ],
   "source": [
    "# 'tweets_#patriots.txt'\n",
    "date_df_out = readfile_p3('tweets_#patriots.txt')\n",
    "results, r2, mse, pvalues_index_list, pvalues_list, X_new, pvalues = OLS_p3(date_df_out)\n",
    "print(results.summary())\n",
    "print(' ')\n",
    "print('R-squared measure: {}'.format(r2))\n",
    "print('MSE score: {}'.format(mse))\n",
    "print('Signifiance of features: X{}'.format(pvalues))\n",
    "print('Top 3 features: {}'.format(pvalues_index_list))\n",
    "print('Lowest 3 p-value: {}'.format(pvalues_list))\n",
    "for i in np.arange(3):\n",
    "    plotPred(X_new[i],results.fittedvalues)"
   ]
  },
  {
   "cell_type": "markdown",
   "metadata": {
    "colab_type": "text",
    "id": "N4Mtz-fCWriu"
   },
   "source": [
    "#### Report of sb49"
   ]
  },
  {
   "cell_type": "code",
   "execution_count": 0,
   "metadata": {
    "colab": {},
    "colab_type": "code",
    "id": "qQrotYoeWriv",
    "outputId": "8811ef13-6f5e-4e20-e737-755a75f489ea"
   },
   "outputs": [
    {
     "name": "stdout",
     "output_type": "stream",
     "text": [
      "                            OLS Regression Results                            \n",
      "==============================================================================\n",
      "Dep. Variable:                      y   R-squared:                       0.878\n",
      "Model:                            OLS   Adj. R-squared:                  0.873\n",
      "Method:                 Least Squares   F-statistic:                     201.6\n",
      "Date:                Sun, 10 Mar 2019   Prob (F-statistic):          4.43e-241\n",
      "Time:                        20:57:38   Log-Likelihood:                -5525.8\n",
      "No. Observations:                 582   AIC:                         1.109e+04\n",
      "Df Residuals:                     562   BIC:                         1.118e+04\n",
      "Df Model:                          20                                         \n",
      "Covariance Type:            nonrobust                                         \n",
      "==============================================================================\n",
      "                 coef    std err          t      P>|t|      [0.025      0.975]\n",
      "------------------------------------------------------------------------------\n",
      "x1          -118.6473      9.710    -12.219      0.000    -137.721     -99.574\n",
      "x2             0.0002   9.39e-05      2.194      0.029    2.15e-05       0.000\n",
      "x3            -0.0001      0.000     -0.579      0.563      -0.001       0.000\n",
      "x4             0.6900      0.110      6.262      0.000       0.474       0.906\n",
      "x5           -87.3756     13.998     -6.242      0.000    -114.870     -59.881\n",
      "x6            93.7582     25.842      3.628      0.000      42.999     144.518\n",
      "x7            -0.0002   9.02e-05     -1.686      0.092      -0.000    2.51e-05\n",
      "x8             0.0001      0.000      0.622      0.534      -0.000       0.001\n",
      "x9            -0.0308      0.117     -0.262      0.793      -0.261       0.200\n",
      "x10           -1.2036      0.451     -2.670      0.008      -2.089      -0.318\n",
      "x11           23.0186      2.019     11.401      0.000      19.053      26.984\n",
      "x12          -94.0604     81.365     -1.156      0.248    -253.877      65.756\n",
      "x13            2.9889      0.502      5.957      0.000       2.003       3.975\n",
      "x14           14.7281     66.231      0.222      0.824    -115.362     144.818\n",
      "x15            4.6447      0.835      5.561      0.000       3.004       6.285\n",
      "x16           92.5285     92.229      1.003      0.316     -88.627     273.684\n",
      "x17            6.0071      1.634      3.677      0.000       2.798       9.216\n",
      "x18            7.1334    256.108      0.028      0.978    -495.911     510.178\n",
      "x19            3.7486      0.984      3.808      0.000       1.815       5.682\n",
      "x20            7.1045     18.467      0.385      0.701     -29.169      43.378\n",
      "==============================================================================\n",
      "Omnibus:                      977.173   Durbin-Watson:                   2.400\n",
      "Prob(Omnibus):                  0.000   Jarque-Bera (JB):           655540.722\n",
      "Skew:                           9.981   Prob(JB):                         0.00\n",
      "Kurtosis:                     166.200   Cond. No.                     2.13e+08\n",
      "==============================================================================\n",
      "\n",
      "Warnings:\n",
      "[1] Standard Errors assume that the covariance matrix of the errors is correctly specified.\n",
      "[2] The condition number is large, 2.13e+08. This might indicate that there are\n",
      "strong multicollinearity or other numerical problems.\n",
      " \n",
      "R-squared measure: 0.8752485287929439\n",
      "MSE score: 10334837.216940833\n",
      "Signifiance of features: X[1.29860325e-30 2.86709712e-02 5.62632420e-01 7.56607078e-10\n",
      " 8.51025880e-10 3.11548322e-04 9.22929966e-02 5.34397868e-01\n",
      " 7.93224075e-01 7.81393651e-03 3.13203504e-27 2.48160213e-01\n",
      " 4.53976792e-09 8.24101809e-01 4.15188070e-08 3.16173698e-01\n",
      " 2.58323642e-04 9.77789094e-01 1.55324509e-04 7.00599993e-01]\n",
      "Top 3 features: [1, 11, 4]\n",
      "Lowest 3 p-value: [1.2986032512188023e-30, 3.132035044644609e-27, 7.566070775264732e-10]\n"
     ]
    },
    {
     "data": {
      "image/png": "[encoded data removed]",
      "text/plain": [
       "<Figure size 432x288 with 1 Axes>"
      ]
     },
     "metadata": {
      "needs_background": "light",
      "tags": []
     },
     "output_type": "display_data"
    },
    {
     "data": {
      "image/png": "[encoded data removed]",
      "text/plain": [
       "<Figure size 432x288 with 1 Axes>"
      ]
     },
     "metadata": {
      "needs_background": "light",
      "tags": []
     },
     "output_type": "display_data"
    },
    {
     "data": {
      "image/png": "[encoded data removed]",
      "text/plain": [
       "<Figure size 432x288 with 1 Axes>"
      ]
     },
     "metadata": {
      "needs_background": "light",
      "tags": []
     },
     "output_type": "display_data"
    }
   ],
   "source": [
    "# 'tweets_#sb49.txt'\n",
    "date_df_out = readfile_p3('tweets_#sb49.txt')\n",
    "results, r2, mse, pvalues_index_list, pvalues_list, X_new, pvalues = OLS_p3(date_df_out)\n",
    "print(results.summary())\n",
    "print(' ')\n",
    "print('R-squared measure: {}'.format(r2))\n",
    "print('MSE score: {}'.format(mse))\n",
    "print('Signifiance of features: X{}'.format(pvalues))\n",
    "print('Top 3 features: {}'.format(pvalues_index_list))\n",
    "print('Lowest 3 p-value: {}'.format(pvalues_list))\n",
    "for i in np.arange(3):\n",
    "    plotPred(X_new[i],results.fittedvalues)"
   ]
  },
  {
   "cell_type": "markdown",
   "metadata": {
    "colab_type": "text",
    "id": "KcK9T01BWrix"
   },
   "source": [
    "#### Report of superbowl"
   ]
  },
  {
   "cell_type": "code",
   "execution_count": 0,
   "metadata": {
    "colab": {},
    "colab_type": "code",
    "id": "l8OlDvZkWriy",
    "outputId": "959f522c-1095-4746-afaf-31ff9f8c60c0"
   },
   "outputs": [
    {
     "name": "stdout",
     "output_type": "stream",
     "text": [
      "                            OLS Regression Results                            \n",
      "==============================================================================\n",
      "Dep. Variable:                      y   R-squared:                       0.903\n",
      "Model:                            OLS   Adj. R-squared:                  0.900\n",
      "Method:                 Least Squares   F-statistic:                     263.3\n",
      "Date:                Sun, 10 Mar 2019   Prob (F-statistic):          3.28e-271\n",
      "Time:                        20:58:50   Log-Likelihood:                -5832.6\n",
      "No. Observations:                 586   AIC:                         1.171e+04\n",
      "Df Residuals:                     566   BIC:                         1.179e+04\n",
      "Df Model:                          20                                         \n",
      "Covariance Type:            nonrobust                                         \n",
      "==============================================================================\n",
      "                 coef    std err          t      P>|t|      [0.025      0.975]\n",
      "------------------------------------------------------------------------------\n",
      "x1           -27.7170      7.671     -3.613      0.000     -42.784     -12.650\n",
      "x2             0.0004      0.000      0.965      0.335      -0.000       0.001\n",
      "x3            -0.0004      0.001     -0.723      0.470      -0.001       0.001\n",
      "x4            -0.0336      0.114     -0.294      0.769      -0.258       0.191\n",
      "x5          -163.9386     32.979     -4.971      0.000    -228.715     -99.162\n",
      "x6           153.5254     54.367      2.824      0.005      46.740     260.311\n",
      "x7            -0.0005      0.000     -1.336      0.182      -0.001       0.000\n",
      "x8             0.0006      0.000      1.145      0.253      -0.000       0.002\n",
      "x9            -2.2747      0.430     -5.295      0.000      -3.118      -1.431\n",
      "x10            4.1590      0.957      4.348      0.000       2.280       6.038\n",
      "x11            5.1108      1.590      3.214      0.001       1.987       8.234\n",
      "x12           36.7111    159.836      0.230      0.818    -277.233     350.656\n",
      "x13            2.9111      0.463      6.288      0.000       2.002       3.820\n",
      "x14           84.2016    110.545      0.762      0.447    -132.927     301.330\n",
      "x15            0.5421      1.970      0.275      0.783      -3.327       4.411\n",
      "x16         -164.8394    152.852     -1.078      0.281    -465.066     135.387\n",
      "x17            5.1204      1.824      2.807      0.005       1.538       8.703\n",
      "x18         -829.9951    433.399     -1.915      0.056   -1681.262      21.271\n",
      "x19            0.3067      0.796      0.385      0.700      -1.256       1.870\n",
      "x20           17.7508     31.954      0.556      0.579     -45.013      80.515\n",
      "==============================================================================\n",
      "Omnibus:                     1011.923   Durbin-Watson:                   2.055\n",
      "Prob(Omnibus):                  0.000   Jarque-Bera (JB):          1228909.389\n",
      "Skew:                          10.307   Prob(JB):                         0.00\n",
      "Kurtosis:                     226.396   Cond. No.                     3.15e+08\n",
      "==============================================================================\n",
      "\n",
      "Warnings:\n",
      "[1] Standard Errors assume that the covariance matrix of the errors is correctly specified.\n",
      "[2] The condition number is large, 3.15e+08. This might indicate that there are\n",
      "strong multicollinearity or other numerical problems.\n",
      " \n",
      "R-squared measure: 0.9013463271878865\n",
      "MSE score: 25867778.916699555\n",
      "Signifiance of features: X[3.29430468e-04 3.34933296e-01 4.70090927e-01 7.68962953e-01\n",
      " 8.84106788e-07 4.91162724e-03 1.81949475e-01 2.52733420e-01\n",
      " 1.70380601e-07 1.63244612e-05 1.38405247e-03 8.18423753e-01\n",
      " 6.42515889e-10 4.46559009e-01 7.83242438e-01 2.81303834e-01\n",
      " 5.16535244e-03 5.59855053e-02 7.00078382e-01 5.78771213e-01]\n",
      "Top 3 features: [13, 9, 5]\n",
      "Lowest 3 p-value: [6.425158894245689e-10, 1.7038060087045283e-07, 8.841067876712474e-07]\n"
     ]
    },
    {
     "data": {
      "image/png": "[encoded data removed]",
      "text/plain": [
       "<Figure size 432x288 with 1 Axes>"
      ]
     },
     "metadata": {
      "needs_background": "light",
      "tags": []
     },
     "output_type": "display_data"
    },
    {
     "data": {
      "image/png": "[encoded data removed]",
      "text/plain": [
       "<Figure size 432x288 with 1 Axes>"
      ]
     },
     "metadata": {
      "needs_background": "light",
      "tags": []
     },
     "output_type": "display_data"
    },
    {
     "data": {
      "image/png": "[encoded data removed]",
      "text/plain": [
       "<Figure size 432x288 with 1 Axes>"
      ]
     },
     "metadata": {
      "needs_background": "light",
      "tags": []
     },
     "output_type": "display_data"
    }
   ],
   "source": [
    "# 'tweets_#superbowl.txt'\n",
    "date_df_out = readfile_p3('tweets_#superbowl.txt')\n",
    "results, r2, mse, pvalues_index_list, pvalues_list, X_new, pvalues = OLS_p3(date_df_out)\n",
    "print(results.summary())\n",
    "print(' ')\n",
    "print('R-squared measure: {}'.format(r2))\n",
    "print('MSE score: {}'.format(mse))\n",
    "print('Signifiance of features: X{}'.format(pvalues))\n",
    "print('Top 3 features: {}'.format(pvalues_index_list))\n",
    "print('Lowest 3 p-value: {}'.format(pvalues_list))\n",
    "for i in np.arange(3):\n",
    "    plotPred(X_new[i],results.fittedvalues)"
   ]
  },
  {
   "cell_type": "markdown",
   "metadata": {
    "colab_type": "text",
    "id": "aGMHEpzbWri0"
   },
   "source": [
    "### 4. Piece-wise linear regression"
   ]
  },
  {
   "cell_type": "markdown",
   "metadata": {
    "colab_type": "text",
    "id": "R5u-7o46Wri0"
   },
   "source": [
    "### Question 6: report 3 model for each file"
   ]
  },
  {
   "cell_type": "code",
   "execution_count": 2,
   "metadata": {
    "colab": {},
    "colab_type": "code",
    "id": "JMoo87LeWri1"
   },
   "outputs": [],
   "source": [
    "# load files and report for Part 4\n",
    "# NOTE: https://www.statsmodels.org/stable/index.html\n",
    "import statsmodels.api as sm\n",
    "from sklearn.metrics import r2_score, mean_squared_error\n",
    "def readfile_p4(file_name):\n",
    "    # Read file ##########################################################\n",
    "    time_list = []\n",
    "    num_retweets = []\n",
    "    num_followers = []\n",
    "    num_replies = []\n",
    "    num_impressions = []\n",
    "    num_favourites = []\n",
    "    rank_score = []\n",
    "    count_hashtag = []\n",
    "    mention_counts = []\n",
    "    url_counts = []\n",
    "    author_name = []\n",
    "    with open(file_name,encoding='utf8') as file:\n",
    "        data = file.readlines()\n",
    "    for line in data:\n",
    "        json_object = json.loads(line)\n",
    "        time_list.append(json_object['citation_date'])\n",
    "        num_retweets.append(json_object['metrics']['citations']['total'])\n",
    "        num_followers.append(json_object['author']['followers'])\n",
    "        # addtional features: \n",
    "        #   impressions, favourites, ranking score, counted hashtag, \n",
    "        #   mentioned count, url counts, author_name\n",
    "        num_replies.append(json_object['metrics']['citations']['replies'])\n",
    "        num_impressions.append(json_object['metrics']['impressions'])\n",
    "        num_favourites.append(json_object['tweet']['favorite_count'])\n",
    "        rank_score.append(json_object['metrics']['ranking_score'])\n",
    "        count_hashtag.append(json_object['title'].count('#'))\n",
    "        mention_counts.append(len(json_object['tweet']['entities']['user_mentions']))\n",
    "        url_counts.append(len(json_object['tweet']['entities']['urls']))\n",
    "        author_name.append(json_object['author']['name'])\n",
    "    file.close()\n",
    "\n",
    "    # Process datetime for event counting #################################\n",
    "    # NOTE: https://stackoverflow.com/questions/28564254/count-number-of-events-per-hour-given-in-datetime-numpy\n",
    "    date_list = []\n",
    "    pst_tz = pytz.timezone('America/Los_Angeles')\n",
    "    for time in time_list:\n",
    "        date = datetime.datetime.fromtimestamp(time,pst_tz).replace(tzinfo=None)\n",
    "        date_list.append(date)\n",
    "    # count events per hour using dataframe\n",
    "    date_df = pd.DataFrame(date_list,columns=['Date'])\n",
    "    date_df = date_df.set_index(date_df['Date'])\n",
    "    date_df.drop(['Date'],1,inplace = True)\n",
    "    date_df['num_tweets'] = 1\n",
    "    date_df['num_followers'] = num_followers\n",
    "    date_df['num_retweets'] = num_retweets\n",
    "    # additional features\n",
    "    date_df['num_replies'] = num_replies\n",
    "    date_df['num_impressions'] = num_impressions\n",
    "    date_df['num_favourites'] = num_favourites\n",
    "    date_df['rank_score'] = rank_score\n",
    "    date_df['count_hashtag'] = count_hashtag\n",
    "    date_df['mention_counts'] = mention_counts\n",
    "    date_df['url_counts'] = url_counts\n",
    "    date_df['author_name'] = author_name\n",
    "    return date_df"
   ]
  },
  {
   "cell_type": "code",
   "execution_count": 3,
   "metadata": {
    "colab": {},
    "colab_type": "code",
    "id": "-HQTgTJcWri3"
   },
   "outputs": [],
   "source": [
    "# NOTE: http://pandas.pydata.org/pandas-docs/version/0.17/generated/pandas.DataFrame.apply.html\n",
    "def create_features(date_df, period):\n",
    "    # count events per feature\n",
    "    # features: \n",
    "    #   total number of tweets, \n",
    "    #   total number of followers, max number of followers, \n",
    "    #   total number of retweets,\n",
    "    #   total number of replies, max number of replies, \n",
    "    #   total number of impressions, max number of impressions,\n",
    "    #   total number of favourites, max number of favourites,\n",
    "    #   sum of rank scores, max rank scores,\n",
    "    #   sum of counted hashtag, max counted hashtage\n",
    "    #   sum of mentioned counts, max mentioned counts\n",
    "    #   sum of url counts, max url counts\n",
    "    #   total number of authors, max number of authors\n",
    "    tot_num_tweets = date_df['num_tweets'].resample(period).sum()\n",
    "    tot_num_followers = date_df['num_followers'].resample(period).sum()\n",
    "    max_num_followers = date_df['num_followers'].resample(period).max()\n",
    "    tot_num_retweets = date_df['num_retweets'].resample(period).sum()\n",
    "    tot_num_replies = date_df['num_replies'].resample(period).sum()\n",
    "    max_num_replies = date_df['num_replies'].resample(period).max()\n",
    "    tot_num_impressions = date_df['num_impressions'].resample(period).sum()\n",
    "    max_num_impressions = date_df['num_impressions'].resample(period).max()\n",
    "    tot_num_favourites = date_df['num_favourites'].resample(period).sum()\n",
    "    max_num_favourites = date_df['num_favourites'].resample(period).max()\n",
    "    tot_rank_score = date_df['rank_score'].resample(period).sum()\n",
    "    max_rank_score = date_df['rank_score'].resample(period).max()\n",
    "    tot_count_hashtag = date_df['count_hashtag'].resample(period).sum()\n",
    "    max_count_hashtag = date_df['count_hashtag'].resample(period).max()\n",
    "    tot_mention_counts = date_df['mention_counts'].resample(period).sum()\n",
    "    max_mention_counts = date_df['mention_counts'].resample(period).max()\n",
    "    tot_url_counts = date_df['url_counts'].resample(period).sum()\n",
    "    max_url_counts = date_df['url_counts'].resample(period).max()\n",
    "    tot_author_name = date_df['author_name'].resample(period).apply(lambda x: len(x.unique()))\n",
    "    # rename each feature\n",
    "    tot_num_tweets.rename('tot_num_tweets',inplace=True)            # x1\n",
    "    tot_num_followers.rename('tot_num_followers',inplace=True)      # x2\n",
    "    max_num_followers.rename('max_num_followers',inplace=True)      # x3\n",
    "    tot_num_retweets.rename('tot_num_retweets',inplace=True)        # x4\n",
    "    tot_num_replies.rename('tot_num_replies',inplace=True)          # x5\n",
    "    max_num_replies.rename('max_num_replies',inplace=True)          # x6\n",
    "    tot_num_impressions.rename('tot_num_impressions',inplace=True)  # x7\n",
    "    max_num_impressions.rename('max_num_impressions',inplace=True)  # x8\n",
    "    tot_num_favourites.rename('tot_num_favourites',inplace=True)    # x9\n",
    "    max_num_favourites.rename('max_num_favourites',inplace=True)    # x10\n",
    "    tot_rank_score.rename('tot_rank_score',inplace=True)            # x11\n",
    "    max_rank_score.rename('max_rank_score',inplace=True)            # x12\n",
    "    tot_count_hashtag.rename('tot_count_hashtag',inplace=True)      # x13\n",
    "    max_count_hashtag.rename('max_count_hashtag',inplace=True)      # x14\n",
    "    tot_mention_counts.rename('tot_mention_counts',inplace=True)    # x15\n",
    "    max_mention_counts.rename('max_mention_counts',inplace=True)    # x16\n",
    "    tot_url_counts.rename('tot_url_counts',inplace=True)            # x17\n",
    "    max_url_counts.rename('max_url_counts',inplace=True)            # x18\n",
    "    tot_author_name.rename('tot_author_name',inplace=True)          # x19\n",
    "    # time                                                          # x20\n",
    "    # NOTE: https://pandas.pydata.org/pandas-docs/stable/user_guide/merging.html\n",
    "    # concatenating features - H\n",
    "    features = [tot_num_tweets,\n",
    "               tot_num_followers, max_num_followers,\n",
    "               tot_num_retweets,\n",
    "               tot_num_replies, max_num_replies,\n",
    "               tot_num_impressions, max_num_impressions,\n",
    "               tot_num_favourites, max_num_favourites,\n",
    "               tot_rank_score, max_rank_score,\n",
    "               tot_count_hashtag, max_count_hashtag,\n",
    "               tot_mention_counts, max_mention_counts,\n",
    "               tot_url_counts, max_url_counts,\n",
    "               tot_author_name]\n",
    "    date_df_out = pd.concat(features, axis=1)\n",
    "    date_df_out['time'] = date_df_out.index.hour                    # 20\n",
    "    return date_df_out"
   ]
  },
  {
   "cell_type": "code",
   "execution_count": 7,
   "metadata": {
    "colab": {},
    "colab_type": "code",
    "id": "c85jjV-oWri5"
   },
   "outputs": [],
   "source": [
    "# NOTE: https://pandas.pydata.org/pandas-docs/stable/reference/api/pandas.DataFrame.resample.html\n",
    "def splite_df(date_df):\n",
    "    # create three dataset\n",
    "    time_1 = '2015-02-01 08:00:00'\n",
    "    time_2 = '2015-02-01 20:00:00'\n",
    "    # dataset before 2/1 8:00am IN 1h (H)\n",
    "    date_df_1 = create_features(date_df, 'H')\n",
    "    date_df_1 = date_df_1.iloc[date_df_1.index<time_1,:]\n",
    "    # dataset after 2/1 8:00pm IN 1h (H)\n",
    "    date_df_3 = create_features(date_df, 'H')\n",
    "    date_df_3 = date_df_3.iloc[date_df_3.index>time_2,:]\n",
    "    # dataset between 2/1 8:00am - 8:00pm IN 5min (5T)\n",
    "    date_df_2 = create_features(date_df, '5T')\n",
    "    date_df_2 = date_df_2.iloc[date_df_2.index>=time_1,:]\n",
    "    date_df_2 = date_df_2.iloc[date_df_2.index<=time_2,:] \n",
    "    # output dataset\n",
    "    date_df_out_list = []\n",
    "    date_df_out_list.append(date_df_1)\n",
    "    date_df_out_list.append(date_df_2)\n",
    "    date_df_out_list.append(date_df_3)\n",
    "    return date_df_out_list"
   ]
  },
  {
   "cell_type": "code",
   "execution_count": 8,
   "metadata": {
    "colab": {},
    "colab_type": "code",
    "id": "cXPtosX4Wri7"
   },
   "outputs": [],
   "source": [
    "# NOTE: https://www.statsmodels.org/dev/generated/statsmodels.regression.linear_model.OLS.html\n",
    "# https://www.statsmodels.org/dev/generated/statsmodels.regression.linear_model.RegressionResults.html\n",
    "# OLS\n",
    "def OLS_p4(date_df_out):\n",
    "    for i in np.arange(3):\n",
    "        X = date_df_out[i].iloc[:-1]\n",
    "        y = date_df_out[i]['tot_num_tweets'][1:]\n",
    "        X = np.nan_to_num(X)\n",
    "        y = np.nan_to_num(y)\n",
    "        results = sm.OLS(y, X).fit()\n",
    "        # RMSE and R2 measure\n",
    "        r2 = r2_score(y, results.fittedvalues)\n",
    "        mse = mean_squared_error(y, results.fittedvalues)\n",
    "        # report\n",
    "        print('#'*30,'Report of period',i+1,'#'*30)\n",
    "        print(results.summary())\n",
    "        print(' ')\n",
    "        print('R-squared measure: {}'.format(r2))\n",
    "        print('MSE score: {}'.format(mse))\n",
    "        print(' ')"
   ]
  },
  {
   "cell_type": "markdown",
   "metadata": {
    "colab_type": "text",
    "id": "t0V7COMqWri-"
   },
   "source": [
    "#### Report of gohawks"
   ]
  },
  {
   "cell_type": "code",
   "execution_count": 0,
   "metadata": {
    "colab": {},
    "colab_type": "code",
    "id": "FrDD3RsUWri_",
    "outputId": "00c460a1-3fdf-4928-91d8-c2d2321f39ad",
    "scrolled": true
   },
   "outputs": [
    {
     "name": "stdout",
     "output_type": "stream",
     "text": [
      "############################## Report of period 1 ##############################\n",
      "                            OLS Regression Results                            \n",
      "==============================================================================\n",
      "Dep. Variable:                      y   R-squared:                       0.734\n",
      "Model:                            OLS   Adj. R-squared:                  0.722\n",
      "Method:                 Least Squares   F-statistic:                     57.94\n",
      "Date:                Wed, 13 Mar 2019   Prob (F-statistic):          3.80e-107\n",
      "Time:                        17:54:10   Log-Likelihood:                -3383.2\n",
      "No. Observations:                 439   AIC:                             6806.\n",
      "Df Residuals:                     419   BIC:                             6888.\n",
      "Df Model:                          20                                         \n",
      "Covariance Type:            nonrobust                                         \n",
      "==============================================================================\n",
      "                 coef    std err          t      P>|t|      [0.025      0.975]\n",
      "------------------------------------------------------------------------------\n",
      "x1           -91.2864      4.400    -20.748      0.000     -99.935     -82.638\n",
      "x2            -0.0006      0.000     -3.062      0.002      -0.001      -0.000\n",
      "x3             0.0003      0.000      1.588      0.113   -7.62e-05       0.001\n",
      "x4            -0.0651      0.093     -0.698      0.486      -0.248       0.118\n",
      "x5           161.8954     35.506      4.560      0.000      92.103     231.687\n",
      "x6          -200.5983     60.369     -3.323      0.001    -319.262     -81.935\n",
      "x7          9.197e-05      0.000      0.616      0.539      -0.000       0.000\n",
      "x8          -2.31e-05      0.000     -0.117      0.907      -0.000       0.000\n",
      "x9            -1.0825      1.955     -0.554      0.580      -4.925       2.760\n",
      "x10            0.9393      1.956      0.480      0.631      -2.906       4.784\n",
      "x11           18.0362      0.882     20.450      0.000      16.303      19.770\n",
      "x12          -30.4944     18.296     -1.667      0.096     -66.458       5.470\n",
      "x13           -2.0688      0.415     -4.985      0.000      -2.885      -1.253\n",
      "x14           42.4764     13.132      3.235      0.001      16.664      68.289\n",
      "x15            7.0665      0.718      9.847      0.000       5.656       8.477\n",
      "x16           -3.9177     15.761     -0.249      0.804     -34.897      27.062\n",
      "x17           -5.4089      2.088     -2.590      0.010      -9.513      -1.305\n",
      "x18          -21.9500     43.905     -0.500      0.617    -108.252      64.352\n",
      "x19           14.2591      1.570      9.083      0.000      11.173      17.345\n",
      "x20            5.3973      4.153      1.300      0.194      -2.766      13.561\n",
      "==============================================================================\n",
      "Omnibus:                      610.464   Durbin-Watson:                   2.117\n",
      "Prob(Omnibus):                  0.000   Jarque-Bera (JB):           166178.732\n",
      "Skew:                           6.775   Prob(JB):                         0.00\n",
      "Kurtosis:                      97.347   Cond. No.                     8.15e+06\n",
      "==============================================================================\n",
      "\n",
      "Warnings:\n",
      "[1] Standard Errors assume that the covariance matrix of the errors is correctly specified.\n",
      "[2] The condition number is large, 8.15e+06. This might indicate that there are\n",
      "strong multicollinearity or other numerical problems.\n",
      " \n",
      "R-squared measure: 0.719298113377808\n",
      "MSE score: 289381.3015018088\n",
      " \n",
      "############################## Report of period 2 ##############################\n",
      "                            OLS Regression Results                            \n",
      "==============================================================================\n",
      "Dep. Variable:                      y   R-squared:                       0.811\n",
      "Model:                            OLS   Adj. R-squared:                  0.780\n",
      "Method:                 Least Squares   F-statistic:                     26.52\n",
      "Date:                Wed, 13 Mar 2019   Prob (F-statistic):           1.88e-35\n",
      "Time:                        17:54:10   Log-Likelihood:                -992.44\n",
      "No. Observations:                 144   AIC:                             2025.\n",
      "Df Residuals:                     124   BIC:                             2084.\n",
      "Df Model:                          20                                         \n",
      "Covariance Type:            nonrobust                                         \n",
      "==============================================================================\n",
      "                 coef    std err          t      P>|t|      [0.025      0.975]\n",
      "------------------------------------------------------------------------------\n",
      "x1           -11.3357      5.556     -2.040      0.043     -22.332      -0.340\n",
      "x2             0.0009      0.001      0.923      0.358      -0.001       0.003\n",
      "x3             0.0022      0.002      0.963      0.337      -0.002       0.007\n",
      "x4             0.0720      0.272      0.265      0.792      -0.466       0.610\n",
      "x5            13.9430     24.916      0.560      0.577     -35.372      63.258\n",
      "x6            43.1764     49.896      0.865      0.389     -55.581     141.934\n",
      "x7            -0.0013      0.001     -1.240      0.217      -0.003       0.001\n",
      "x8            -0.0019      0.002     -0.798      0.426      -0.007       0.003\n",
      "x9            -0.2766      0.989     -0.280      0.780      -2.233       1.680\n",
      "x10            0.6033      2.335      0.258      0.797      -4.019       5.225\n",
      "x11            1.7837      0.964      1.850      0.067      -0.125       3.693\n",
      "x12          -17.1309     19.685     -0.870      0.386     -56.094      21.832\n",
      "x13            0.8958      0.441      2.033      0.044       0.023       1.768\n",
      "x14           -2.7104     10.401     -0.261      0.795     -23.297      17.876\n",
      "x15           -2.2075      0.966     -2.286      0.024      -4.119      -0.296\n",
      "x16           12.2017     14.440      0.845      0.400     -16.380      40.783\n",
      "x17            3.7997      1.584      2.399      0.018       0.665       6.934\n",
      "x18          -17.3305     41.249     -0.420      0.675     -98.974      64.313\n",
      "x19            2.6751      2.373      1.127      0.262      -2.021       7.371\n",
      "x20           17.6856      8.324      2.125      0.036       1.211      34.161\n",
      "==============================================================================\n",
      "Omnibus:                      127.084   Durbin-Watson:                   1.802\n",
      "Prob(Omnibus):                  0.000   Jarque-Bera (JB):             1716.647\n",
      "Skew:                           3.111   Prob(JB):                         0.00\n",
      "Kurtosis:                      18.729   Cond. No.                     5.47e+06\n",
      "==============================================================================\n",
      "\n",
      "Warnings:\n",
      "[1] Standard Errors assume that the covariance matrix of the errors is correctly specified.\n",
      "[2] The condition number is large, 5.47e+06. This might indicate that there are\n",
      "strong multicollinearity or other numerical problems.\n",
      " \n",
      "R-squared measure: 0.5999808511505337\n",
      "MSE score: 56725.673299533184\n",
      " \n",
      "############################## Report of period 3 ##############################\n",
      "                            OLS Regression Results                            \n",
      "==============================================================================\n",
      "Dep. Variable:                      y   R-squared:                       0.991\n",
      "Model:                            OLS   Adj. R-squared:                  0.990\n",
      "Method:                 Least Squares   F-statistic:                     612.3\n",
      "Date:                Wed, 13 Mar 2019   Prob (F-statistic):           3.46e-99\n",
      "Time:                        17:54:10   Log-Likelihood:                -454.27\n",
      "No. Observations:                 125   AIC:                             948.5\n",
      "Df Residuals:                     105   BIC:                             1005.\n",
      "Df Model:                          20                                         \n",
      "Covariance Type:            nonrobust                                         \n",
      "==============================================================================\n",
      "                 coef    std err          t      P>|t|      [0.025      0.975]\n",
      "------------------------------------------------------------------------------\n",
      "x1            -9.6717      1.202     -8.046      0.000     -12.055      -7.288\n",
      "x2            -0.0045      0.000    -18.171      0.000      -0.005      -0.004\n",
      "x3             0.0045      0.000     16.381      0.000       0.004       0.005\n",
      "x4            -0.0392      0.008     -4.750      0.000      -0.056      -0.023\n",
      "x5           -28.0053      3.690     -7.590      0.000     -35.321     -20.689\n",
      "x6            32.7243      5.172      6.328      0.000      22.470      42.979\n",
      "x7             0.0042      0.000     16.279      0.000       0.004       0.005\n",
      "x8            -0.0042      0.000    -16.220      0.000      -0.005      -0.004\n",
      "x9            -0.3658      0.103     -3.543      0.001      -0.570      -0.161\n",
      "x10            0.3787      0.106      3.584      0.001       0.169       0.588\n",
      "x11            2.8766      0.284     10.127      0.000       2.313       3.440\n",
      "x12           -0.9288      0.615     -1.510      0.134      -2.149       0.291\n",
      "x13            0.4791      0.130      3.688      0.000       0.222       0.737\n",
      "x14           -0.3589      0.541     -0.663      0.509      -1.432       0.715\n",
      "x15           -0.0388      0.348     -0.112      0.911      -0.729       0.651\n",
      "x16            1.1605      0.959      1.210      0.229      -0.741       3.062\n",
      "x17           -1.9238      0.723     -2.660      0.009      -3.358      -0.490\n",
      "x18            0.5700      2.337      0.244      0.808      -4.063       5.203\n",
      "x19           -2.6458      0.492     -5.379      0.000      -3.621      -1.671\n",
      "x20            0.2293      0.142      1.615      0.109      -0.052       0.511\n",
      "==============================================================================\n",
      "Omnibus:                       38.523   Durbin-Watson:                   2.143\n",
      "Prob(Omnibus):                  0.000   Jarque-Bera (JB):              139.693\n",
      "Skew:                          -1.029   Prob(JB):                     4.64e-31\n",
      "Kurtosis:                       7.753   Cond. No.                     9.80e+06\n",
      "==============================================================================\n",
      "\n",
      "Warnings:\n",
      "[1] Standard Errors assume that the covariance matrix of the errors is correctly specified.\n",
      "[2] The condition number is large, 9.8e+06. This might indicate that there are\n",
      "strong multicollinearity or other numerical problems.\n",
      " \n",
      "R-squared measure: 0.9905660634785795\n",
      "MSE score: 83.9666623487709\n",
      " \n"
     ]
    }
   ],
   "source": [
    "# tweets_#gohawks.txt\n",
    "date_df = readfile_p4('tweets_#gohawks.txt')\n",
    "date_df_out_gohawks = splite_df(date_df)\n",
    "OLS_p4(date_df_out_gohawks)"
   ]
  },
  {
   "cell_type": "markdown",
   "metadata": {
    "colab_type": "text",
    "id": "RWU6NKmFWrjC"
   },
   "source": [
    "#### Report of gopatriots"
   ]
  },
  {
   "cell_type": "code",
   "execution_count": 0,
   "metadata": {
    "colab": {},
    "colab_type": "code",
    "id": "bWwuC0LMWrjD",
    "outputId": "c59722ec-b303-4436-c768-cd28b02893d5"
   },
   "outputs": [
    {
     "name": "stdout",
     "output_type": "stream",
     "text": [
      "############################## Report of period 1 ##############################\n",
      "                            OLS Regression Results                            \n",
      "==============================================================================\n",
      "Dep. Variable:                      y   R-squared:                       0.785\n",
      "Model:                            OLS   Adj. R-squared:                  0.775\n",
      "Method:                 Least Squares   F-statistic:                     76.30\n",
      "Date:                Wed, 13 Mar 2019   Prob (F-statistic):          9.07e-126\n",
      "Time:                        17:54:12   Log-Likelihood:                -2116.4\n",
      "No. Observations:                 438   AIC:                             4273.\n",
      "Df Residuals:                     418   BIC:                             4354.\n",
      "Df Model:                          20                                         \n",
      "Covariance Type:            nonrobust                                         \n",
      "==============================================================================\n",
      "                 coef    std err          t      P>|t|      [0.025      0.975]\n",
      "------------------------------------------------------------------------------\n",
      "x1           -11.7064      2.747     -4.261      0.000     -17.106      -6.307\n",
      "x2             0.0131      0.004      3.062      0.002       0.005       0.022\n",
      "x3            -0.0142      0.004     -3.303      0.001      -0.023      -0.006\n",
      "x4            -0.1574      0.123     -1.281      0.201      -0.399       0.084\n",
      "x5           125.1541     21.530      5.813      0.000      82.834     167.474\n",
      "x6          -125.1014     21.618     -5.787      0.000    -167.595     -82.608\n",
      "x7            -0.0163      0.004     -3.796      0.000      -0.025      -0.008\n",
      "x8             0.0174      0.004      4.016      0.000       0.009       0.026\n",
      "x9             2.8409      3.396      0.837      0.403      -3.834       9.516\n",
      "x10           -6.9806      4.601     -1.517      0.130     -16.024       2.063\n",
      "x11            2.0400      0.509      4.006      0.000       1.039       3.041\n",
      "x12           -1.2910      0.826     -1.563      0.119      -2.914       0.332\n",
      "x13           -0.5796      0.267     -2.174      0.030      -1.104      -0.056\n",
      "x14            0.7725      0.956      0.808      0.419      -1.106       2.651\n",
      "x15            4.1054      0.480      8.548      0.000       3.161       5.050\n",
      "x16           -4.6006      1.412     -3.258      0.001      -7.376      -1.825\n",
      "x17            0.3103      1.350      0.230      0.818      -2.343       2.963\n",
      "x18           -2.7936      3.958     -0.706      0.481     -10.574       4.987\n",
      "x19            5.8538      0.645      9.082      0.000       4.587       7.121\n",
      "x20           -0.0257      0.200     -0.129      0.898      -0.418       0.367\n",
      "==============================================================================\n",
      "Omnibus:                      645.341   Durbin-Watson:                   1.814\n",
      "Prob(Omnibus):                  0.000   Jarque-Bera (JB):           244853.511\n",
      "Skew:                           7.446   Prob(JB):                         0.00\n",
      "Kurtosis:                     117.869   Cond. No.                     7.39e+06\n",
      "==============================================================================\n",
      "\n",
      "Warnings:\n",
      "[1] Standard Errors assume that the covariance matrix of the errors is correctly specified.\n",
      "[2] The condition number is large, 7.39e+06. This might indicate that there are\n",
      "strong multicollinearity or other numerical problems.\n",
      " \n",
      "R-squared measure: 0.7752783912160767\n",
      "MSE score: 921.4799131654092\n",
      " \n",
      "############################## Report of period 2 ##############################\n",
      "                            OLS Regression Results                            \n",
      "==============================================================================\n",
      "Dep. Variable:                      y   R-squared:                       0.725\n",
      "Model:                            OLS   Adj. R-squared:                  0.680\n",
      "Method:                 Least Squares   F-statistic:                     16.33\n",
      "Date:                Wed, 13 Mar 2019   Prob (F-statistic):           7.86e-26\n",
      "Time:                        17:54:12   Log-Likelihood:                -872.76\n",
      "No. Observations:                 144   AIC:                             1786.\n",
      "Df Residuals:                     124   BIC:                             1845.\n",
      "Df Model:                          20                                         \n",
      "Covariance Type:            nonrobust                                         \n",
      "==============================================================================\n",
      "                 coef    std err          t      P>|t|      [0.025      0.975]\n",
      "------------------------------------------------------------------------------\n",
      "x1            15.6744      6.474      2.421      0.017       2.861      28.488\n",
      "x2            -0.0025      0.001     -2.397      0.018      -0.005      -0.000\n",
      "x3             0.0068      0.002      4.540      0.000       0.004       0.010\n",
      "x4             2.9064      0.571      5.091      0.000       1.776       4.036\n",
      "x5            23.8578     19.812      1.204      0.231     -15.356      63.072\n",
      "x6           -37.5097     42.385     -0.885      0.378    -121.401      46.381\n",
      "x7             0.0016      0.001      1.756      0.082      -0.000       0.003\n",
      "x8            -0.0060      0.001     -4.411      0.000      -0.009      -0.003\n",
      "x9            -4.2742      9.844     -0.434      0.665     -23.758      15.210\n",
      "x10            5.5149     12.153      0.454      0.651     -18.540      29.570\n",
      "x11           -1.3911      0.780     -1.783      0.077      -2.936       0.153\n",
      "x12           -5.1720      7.419     -0.697      0.487     -19.856       9.512\n",
      "x13            0.2864      0.560      0.512      0.610      -0.821       1.394\n",
      "x14            1.8675      4.543      0.411      0.682      -7.124      10.859\n",
      "x15           -4.1057      1.477     -2.779      0.006      -7.030      -1.182\n",
      "x16            9.8239      7.398      1.328      0.187      -4.820      24.468\n",
      "x17           -0.0338      1.801     -0.019      0.985      -3.599       3.532\n",
      "x18          -45.2289     29.673     -1.524      0.130    -103.960      13.502\n",
      "x19          -11.5326      4.152     -2.777      0.006     -19.751      -3.314\n",
      "x20            7.5369      3.372      2.235      0.027       0.863      14.211\n",
      "==============================================================================\n",
      "Omnibus:                      115.617   Durbin-Watson:                   1.990\n",
      "Prob(Omnibus):                  0.000   Jarque-Bera (JB):             1221.466\n",
      "Skew:                           2.820   Prob(JB):                    5.78e-266\n",
      "Kurtosis:                      16.106   Cond. No.                     2.13e+06\n",
      "==============================================================================\n",
      "\n",
      "Warnings:\n",
      "[1] Standard Errors assume that the covariance matrix of the errors is correctly specified.\n",
      "[2] The condition number is large, 2.13e+06. This might indicate that there are\n",
      "strong multicollinearity or other numerical problems.\n",
      " \n",
      "R-squared measure: 0.5794374583020818\n",
      "MSE score: 10761.728069209696\n",
      " \n",
      "############################## Report of period 3 ##############################\n",
      "                            OLS Regression Results                            \n",
      "==============================================================================\n",
      "Dep. Variable:                      y   R-squared:                       0.996\n",
      "Model:                            OLS   Adj. R-squared:                  0.996\n",
      "Method:                 Least Squares   F-statistic:                     1358.\n",
      "Date:                Wed, 13 Mar 2019   Prob (F-statistic):          2.42e-114\n",
      "Time:                        17:54:12   Log-Likelihood:                -145.70\n",
      "No. Observations:                 122   AIC:                             331.4\n",
      "Df Residuals:                     102   BIC:                             387.5\n",
      "Df Model:                          20                                         \n",
      "Covariance Type:            nonrobust                                         \n",
      "==============================================================================\n",
      "                 coef    std err          t      P>|t|      [0.025      0.975]\n",
      "------------------------------------------------------------------------------\n",
      "x1             0.3709      0.261      1.419      0.159      -0.147       0.889\n",
      "x2            -0.0014      0.000     -5.292      0.000      -0.002      -0.001\n",
      "x3             0.0022      0.000      4.599      0.000       0.001       0.003\n",
      "x4            -0.1343      0.029     -4.566      0.000      -0.193      -0.076\n",
      "x5             2.1801      5.992      0.364      0.717      -9.705      14.065\n",
      "x6            -0.8534      5.615     -0.152      0.880     -11.992      10.285\n",
      "x7             0.0013      0.000      5.740      0.000       0.001       0.002\n",
      "x8            -0.0028      0.000     -5.558      0.000      -0.004      -0.002\n",
      "x9            -3.9183      2.274     -1.723      0.088      -8.429       0.593\n",
      "x10            7.0394      2.752      2.558      0.012       1.580      12.499\n",
      "x11            0.4167      0.067      6.233      0.000       0.284       0.549\n",
      "x12            0.0724      0.112      0.646      0.519      -0.150       0.294\n",
      "x13            0.1331      0.047      2.828      0.006       0.040       0.226\n",
      "x14           -0.0101      0.134     -0.075      0.940      -0.277       0.257\n",
      "x15            2.6854      0.229     11.722      0.000       2.231       3.140\n",
      "x16           -2.7481      0.416     -6.607      0.000      -3.573      -1.923\n",
      "x17           -0.4107      0.179     -2.300      0.023      -0.765      -0.057\n",
      "x18            0.8094      0.454      1.785      0.077      -0.090       1.709\n",
      "x19           -2.0983      0.258     -8.122      0.000      -2.611      -1.586\n",
      "x20            0.0155      0.007      2.282      0.025       0.002       0.029\n",
      "==============================================================================\n",
      "Omnibus:                       18.797   Durbin-Watson:                   2.068\n",
      "Prob(Omnibus):                  0.000   Jarque-Bera (JB):               78.640\n",
      "Skew:                          -0.260   Prob(JB):                     8.38e-18\n",
      "Kurtosis:                       6.899   Cond. No.                     2.15e+06\n",
      "==============================================================================\n",
      "\n",
      "Warnings:\n",
      "[1] Standard Errors assume that the covariance matrix of the errors is correctly specified.\n",
      "[2] The condition number is large, 2.15e+06. This might indicate that there are\n",
      "strong multicollinearity or other numerical problems.\n",
      " \n",
      "R-squared measure: 0.9957534956090085\n",
      "MSE score: 0.638037284746474\n",
      " \n"
     ]
    }
   ],
   "source": [
    "# tweets_#gopatriots.txt\n",
    "date_df = readfile_p4('tweets_#gopatriots.txt')\n",
    "date_df_out_gopatriots = splite_df(date_df)\n",
    "OLS_p4(date_df_out_gopatriots)"
   ]
  },
  {
   "cell_type": "markdown",
   "metadata": {
    "colab_type": "text",
    "id": "Mob58vBuWrjF"
   },
   "source": [
    "#### Report of nfl"
   ]
  },
  {
   "cell_type": "code",
   "execution_count": 0,
   "metadata": {
    "colab": {},
    "colab_type": "code",
    "id": "oZA15krTWrjF",
    "outputId": "835c1fa9-4368-4239-fff0-4fad0673fbe2"
   },
   "outputs": [
    {
     "name": "stdout",
     "output_type": "stream",
     "text": [
      "############################## Report of period 1 ##############################\n",
      "                            OLS Regression Results                            \n",
      "==============================================================================\n",
      "Dep. Variable:                      y   R-squared:                       0.733\n",
      "Model:                            OLS   Adj. R-squared:                  0.721\n",
      "Method:                 Least Squares   F-statistic:                     57.65\n",
      "Date:                Wed, 13 Mar 2019   Prob (F-statistic):          8.14e-107\n",
      "Time:                        17:54:28   Log-Likelihood:                -3023.5\n",
      "No. Observations:                 439   AIC:                             6087.\n",
      "Df Residuals:                     419   BIC:                             6169.\n",
      "Df Model:                          20                                         \n",
      "Covariance Type:            nonrobust                                         \n",
      "==============================================================================\n",
      "                 coef    std err          t      P>|t|      [0.025      0.975]\n",
      "------------------------------------------------------------------------------\n",
      "x1            -3.3708      1.661     -2.030      0.043      -6.635      -0.106\n",
      "x2            -0.0002   8.37e-05     -1.905      0.057      -0.000    5.07e-06\n",
      "x3             0.0002      0.000      2.240      0.026    2.92e-05       0.000\n",
      "x4            -0.0153      0.046     -0.333      0.739      -0.105       0.075\n",
      "x5            57.9482     10.399      5.572      0.000      37.507      78.390\n",
      "x6           -59.6182     10.918     -5.461      0.000     -81.078     -38.158\n",
      "x7             0.0002   7.82e-05      2.365      0.018    3.13e-05       0.000\n",
      "x8            -0.0003      0.000     -2.568      0.011      -0.000   -6.19e-05\n",
      "x9            -0.6098      0.889     -0.686      0.493      -2.358       1.138\n",
      "x10            0.5479      1.224      0.448      0.655      -1.859       2.954\n",
      "x11            0.5223      0.309      1.693      0.091      -0.084       1.129\n",
      "x12          -11.3995     11.566     -0.986      0.325     -34.133      11.334\n",
      "x13            0.1249      0.124      1.010      0.313      -0.118       0.368\n",
      "x14           20.4736      6.201      3.302      0.001       8.285      32.662\n",
      "x15           -0.3876      0.663     -0.584      0.559      -1.692       0.916\n",
      "x16            7.2291      8.816      0.820      0.413     -10.100      24.558\n",
      "x17            0.6174      0.240      2.572      0.010       0.146       1.089\n",
      "x18          -18.9173     37.738     -0.501      0.616     -93.097      55.262\n",
      "x19            1.1514      0.460      2.505      0.013       0.248       2.055\n",
      "x20           -2.2501      1.725     -1.304      0.193      -5.642       1.142\n",
      "==============================================================================\n",
      "Omnibus:                      711.313   Durbin-Watson:                   2.220\n",
      "Prob(Omnibus):                  0.000   Jarque-Bera (JB):           336071.882\n",
      "Skew:                           8.972   Prob(JB):                         0.00\n",
      "Kurtosis:                     137.354   Cond. No.                     1.38e+07\n",
      "==============================================================================\n",
      "\n",
      "Warnings:\n",
      "[1] Standard Errors assume that the covariance matrix of the errors is correctly specified.\n",
      "[2] The condition number is large, 1.38e+07. This might indicate that there are\n",
      "strong multicollinearity or other numerical problems.\n",
      " \n",
      "R-squared measure: 0.5837284760319343\n",
      "MSE score: 56195.61613362384\n",
      " \n",
      "############################## Report of period 2 ##############################\n",
      "                            OLS Regression Results                            \n",
      "==============================================================================\n",
      "Dep. Variable:                      y   R-squared:                       0.940\n",
      "Model:                            OLS   Adj. R-squared:                  0.931\n",
      "Method:                 Least Squares   F-statistic:                     97.95\n",
      "Date:                Wed, 13 Mar 2019   Prob (F-statistic):           4.67e-66\n",
      "Time:                        17:54:28   Log-Likelihood:                -887.29\n",
      "No. Observations:                 144   AIC:                             1815.\n",
      "Df Residuals:                     124   BIC:                             1874.\n",
      "Df Model:                          20                                         \n",
      "Covariance Type:            nonrobust                                         \n",
      "==============================================================================\n",
      "                 coef    std err          t      P>|t|      [0.025      0.975]\n",
      "------------------------------------------------------------------------------\n",
      "x1            -4.7017      2.532     -1.857      0.066      -9.714       0.311\n",
      "x2             0.0005      0.000      1.837      0.069   -4.22e-05       0.001\n",
      "x3            -0.0018      0.001     -2.476      0.015      -0.003      -0.000\n",
      "x4             0.0528      0.065      0.813      0.418      -0.076       0.181\n",
      "x5            27.4234     28.859      0.950      0.344     -29.697      84.544\n",
      "x6            -5.6084     44.608     -0.126      0.900     -93.900      82.683\n",
      "x7            -0.0006      0.000     -1.964      0.052      -0.001    4.38e-06\n",
      "x8             0.0018      0.001      2.444      0.016       0.000       0.003\n",
      "x9            -7.2099      1.779     -4.053      0.000     -10.731      -3.689\n",
      "x10            7.5438      1.828      4.127      0.000       3.925      11.162\n",
      "x11            1.7767      0.482      3.684      0.000       0.822       2.731\n",
      "x12           20.2884     13.129      1.545      0.125      -5.697      46.274\n",
      "x13           -0.0506      0.143     -0.355      0.723      -0.333       0.232\n",
      "x14          -17.6936      6.812     -2.598      0.011     -31.176      -4.211\n",
      "x15            0.1631      0.615      0.265      0.791      -1.054       1.380\n",
      "x16           -1.1186      8.621     -0.130      0.897     -18.182      15.945\n",
      "x17           -0.0783      0.328     -0.239      0.811      -0.727       0.570\n",
      "x18           14.3888     25.155      0.572      0.568     -35.400      64.177\n",
      "x19           -2.3940      0.895     -2.675      0.008      -4.165      -0.623\n",
      "x20            6.5444      5.002      1.308      0.193      -3.356      16.445\n",
      "==============================================================================\n",
      "Omnibus:                       33.132   Durbin-Watson:                   2.120\n",
      "Prob(Omnibus):                  0.000   Jarque-Bera (JB):               62.854\n",
      "Skew:                           1.038   Prob(JB):                     2.25e-14\n",
      "Kurtosis:                       5.484   Cond. No.                     1.79e+07\n",
      "==============================================================================\n",
      "\n",
      "Warnings:\n",
      "[1] Standard Errors assume that the covariance matrix of the errors is correctly specified.\n",
      "[2] The condition number is large, 1.79e+07. This might indicate that there are\n",
      "strong multicollinearity or other numerical problems.\n",
      " \n",
      "R-squared measure: 0.8858316708636044\n",
      "MSE score: 13168.139795901017\n",
      " \n",
      "############################## Report of period 3 ##############################\n",
      "                            OLS Regression Results                            \n",
      "==============================================================================\n",
      "Dep. Variable:                      y   R-squared:                       0.959\n",
      "Model:                            OLS   Adj. R-squared:                  0.952\n",
      "Method:                 Least Squares   F-statistic:                     132.9\n",
      "Date:                Wed, 13 Mar 2019   Prob (F-statistic):           7.23e-69\n",
      "Time:                        17:54:28   Log-Likelihood:                -818.88\n",
      "No. Observations:                 133   AIC:                             1678.\n",
      "Df Residuals:                     113   BIC:                             1736.\n",
      "Df Model:                          20                                         \n",
      "Covariance Type:            nonrobust                                         \n",
      "==============================================================================\n",
      "                 coef    std err          t      P>|t|      [0.025      0.975]\n",
      "------------------------------------------------------------------------------\n",
      "x1            -0.1983      1.346     -0.147      0.883      -2.866       2.469\n",
      "x2             0.0001      0.000      1.247      0.215   -7.72e-05       0.000\n",
      "x3            -0.0001      0.000     -1.169      0.245      -0.000    9.13e-05\n",
      "x4            -0.0090      0.063     -0.141      0.888      -0.135       0.117\n",
      "x5            -4.2198      7.121     -0.593      0.555     -18.327       9.888\n",
      "x6             2.6021     11.240      0.232      0.817     -19.665      24.870\n",
      "x7            -0.0001   9.99e-05     -1.170      0.244      -0.000     8.1e-05\n",
      "x8             0.0001      0.000      1.061      0.291    -9.6e-05       0.000\n",
      "x9             0.9243      0.926      0.998      0.321      -0.911       2.759\n",
      "x10           -0.9478      0.998     -0.949      0.344      -2.926       1.030\n",
      "x11            0.1444      0.196      0.737      0.463      -0.244       0.533\n",
      "x12            0.5089     11.569      0.044      0.965     -22.411      23.428\n",
      "x13           -0.0942      0.132     -0.712      0.478      -0.356       0.168\n",
      "x14            7.2130      6.264      1.151      0.252      -5.198      19.624\n",
      "x15            0.0036      0.631      0.006      0.996      -1.247       1.254\n",
      "x16           17.3248      6.973      2.485      0.014       3.510      31.139\n",
      "x17            0.0868      0.484      0.179      0.858      -0.872       1.045\n",
      "x18          -16.3360     29.269     -0.558      0.578     -74.323      41.651\n",
      "x19            1.0815      0.537      2.014      0.046       0.017       2.145\n",
      "x20           -4.3876      1.877     -2.337      0.021      -8.107      -0.668\n",
      "==============================================================================\n",
      "Omnibus:                       47.279   Durbin-Watson:                   2.040\n",
      "Prob(Omnibus):                  0.000   Jarque-Bera (JB):              181.344\n",
      "Skew:                           1.221   Prob(JB):                     4.18e-40\n",
      "Kurtosis:                       8.173   Cond. No.                     1.29e+07\n",
      "==============================================================================\n",
      "\n",
      "Warnings:\n",
      "[1] Standard Errors assume that the covariance matrix of the errors is correctly specified.\n",
      "[2] The condition number is large, 1.29e+07. This might indicate that there are\n",
      "strong multicollinearity or other numerical problems.\n",
      " \n",
      "R-squared measure: 0.8482207877859763\n",
      "MSE score: 13043.784873999428\n",
      " \n"
     ]
    }
   ],
   "source": [
    "# tweets_#nfl.txt\n",
    "date_df = readfile_p4('tweets_#nfl.txt')\n",
    "date_df_out_nfl = splite_df(date_df)\n",
    "OLS_p4(date_df_out_nfl)"
   ]
  },
  {
   "cell_type": "markdown",
   "metadata": {
    "colab_type": "text",
    "id": "AQspEoBTWrjH"
   },
   "source": [
    "#### Report of patriots"
   ]
  },
  {
   "cell_type": "code",
   "execution_count": 0,
   "metadata": {
    "colab": {},
    "colab_type": "code",
    "id": "k6k8RN0sWrjH",
    "outputId": "f20e9a49-f3ba-489f-a06a-1f0dad84581c"
   },
   "outputs": [
    {
     "name": "stdout",
     "output_type": "stream",
     "text": [
      "############################## Report of period 1 ##############################\n",
      "                            OLS Regression Results                            \n",
      "==============================================================================\n",
      "Dep. Variable:                      y   R-squared:                       0.691\n",
      "Model:                            OLS   Adj. R-squared:                  0.676\n",
      "Method:                 Least Squares   F-statistic:                     46.85\n",
      "Date:                Wed, 13 Mar 2019   Prob (F-statistic):           1.38e-93\n",
      "Time:                        17:54:57   Log-Likelihood:                -3368.7\n",
      "No. Observations:                 439   AIC:                             6777.\n",
      "Df Residuals:                     419   BIC:                             6859.\n",
      "Df Model:                          20                                         \n",
      "Covariance Type:            nonrobust                                         \n",
      "==============================================================================\n",
      "                 coef    std err          t      P>|t|      [0.025      0.975]\n",
      "------------------------------------------------------------------------------\n",
      "x1           -12.8285      3.298     -3.889      0.000     -19.312      -6.345\n",
      "x2             0.0010      0.000      6.915      0.000       0.001       0.001\n",
      "x3            -0.0010      0.000     -6.686      0.000      -0.001      -0.001\n",
      "x4            -0.0274      0.087     -0.315      0.753      -0.199       0.144\n",
      "x5            20.3966      8.507      2.398      0.017       3.675      37.119\n",
      "x6           -22.1900      9.275     -2.393      0.017     -40.420      -3.960\n",
      "x7            -0.0008      0.000     -5.841      0.000      -0.001      -0.001\n",
      "x8             0.0009      0.000      5.432      0.000       0.001       0.001\n",
      "x9             0.6096      0.411      1.484      0.139      -0.198       1.417\n",
      "x10           -0.2643      0.455     -0.581      0.562      -1.158       0.630\n",
      "x11            2.8514      0.660      4.321      0.000       1.554       4.148\n",
      "x12          -30.7889     21.927     -1.404      0.161     -73.890      12.312\n",
      "x13           -0.3785      0.256     -1.480      0.140      -0.881       0.124\n",
      "x14           25.4777     14.942      1.705      0.089      -3.894      54.849\n",
      "x15           -1.9971      0.927     -2.155      0.032      -3.818      -0.176\n",
      "x16           48.7610     13.706      3.558      0.000      21.820      75.702\n",
      "x17            1.4249      0.803      1.775      0.077      -0.153       3.003\n",
      "x18          -17.9080     62.677     -0.286      0.775    -141.109     105.293\n",
      "x19            1.0554      0.564      1.871      0.062      -0.054       2.164\n",
      "x20           -1.2222      3.856     -0.317      0.751      -8.801       6.356\n",
      "==============================================================================\n",
      "Omnibus:                      464.731   Durbin-Watson:                   2.088\n",
      "Prob(Omnibus):                  0.000   Jarque-Bera (JB):            60084.254\n",
      "Skew:                           4.277   Prob(JB):                         0.00\n",
      "Kurtosis:                      59.671   Cond. No.                     1.47e+07\n",
      "==============================================================================\n",
      "\n",
      "Warnings:\n",
      "[1] Standard Errors assume that the covariance matrix of the errors is correctly specified.\n",
      "[2] The condition number is large, 1.47e+07. This might indicate that there are\n",
      "strong multicollinearity or other numerical problems.\n",
      " \n",
      "R-squared measure: 0.6532956671418495\n",
      "MSE score: 270875.79352771677\n",
      " \n",
      "############################## Report of period 2 ##############################\n",
      "                            OLS Regression Results                            \n",
      "==============================================================================\n",
      "Dep. Variable:                      y   R-squared:                       0.903\n",
      "Model:                            OLS   Adj. R-squared:                  0.887\n",
      "Method:                 Least Squares   F-statistic:                     57.74\n",
      "Date:                Wed, 13 Mar 2019   Prob (F-statistic):           4.48e-53\n",
      "Time:                        17:54:57   Log-Likelihood:                -1161.1\n",
      "No. Observations:                 144   AIC:                             2362.\n",
      "Df Residuals:                     124   BIC:                             2422.\n",
      "Df Model:                          20                                         \n",
      "Covariance Type:            nonrobust                                         \n",
      "==============================================================================\n",
      "                 coef    std err          t      P>|t|      [0.025      0.975]\n",
      "------------------------------------------------------------------------------\n",
      "x1             1.3685      6.714      0.204      0.839     -11.921      14.658\n",
      "x2            -0.0003      0.001     -0.232      0.817      -0.003       0.003\n",
      "x3             0.0011      0.002      0.479      0.632      -0.004       0.006\n",
      "x4             0.0484      0.254      0.191      0.849      -0.454       0.551\n",
      "x5            78.6820     47.223      1.666      0.098     -14.785     172.149\n",
      "x6           -80.6782     54.199     -1.489      0.139    -187.953      26.596\n",
      "x7             0.0003      0.002      0.191      0.849      -0.003       0.003\n",
      "x8            -0.0011      0.002     -0.457      0.649      -0.006       0.004\n",
      "x9             9.6397      4.821      1.999      0.048       0.097      19.182\n",
      "x10           -8.8410      4.655     -1.899      0.060     -18.054       0.372\n",
      "x11            0.0400      1.384      0.029      0.977      -2.699       2.779\n",
      "x12         -103.3215     67.668     -1.527      0.129    -237.255      30.612\n",
      "x13           -1.1871      0.470     -2.525      0.013      -2.117      -0.257\n",
      "x14            7.1536     44.650      0.160      0.873     -81.221      95.529\n",
      "x15           -2.2031      1.331     -1.655      0.100      -4.838       0.432\n",
      "x16           17.2682     44.400      0.389      0.698     -70.612     105.148\n",
      "x17            4.4921      2.467      1.821      0.071      -0.391       9.375\n",
      "x18           73.6568    182.926      0.403      0.688    -288.405     435.719\n",
      "x19            1.7049      2.200      0.775      0.440      -2.649       6.059\n",
      "x20           92.1724     33.289      2.769      0.006      26.283     158.062\n",
      "==============================================================================\n",
      "Omnibus:                       99.825   Durbin-Watson:                   1.896\n",
      "Prob(Omnibus):                  0.000   Jarque-Bera (JB):              740.869\n",
      "Skew:                           2.452   Prob(JB):                    1.33e-161\n",
      "Kurtosis:                      12.971   Cond. No.                     1.94e+07\n",
      "==============================================================================\n",
      "\n",
      "Warnings:\n",
      "[1] Standard Errors assume that the covariance matrix of the errors is correctly specified.\n",
      "[2] The condition number is large, 1.94e+07. This might indicate that there are\n",
      "strong multicollinearity or other numerical problems.\n",
      " \n",
      "R-squared measure: 0.7459097606912695\n",
      "MSE score: 590592.4254279403\n",
      " \n",
      "############################## Report of period 3 ##############################\n",
      "                            OLS Regression Results                            \n",
      "==============================================================================\n",
      "Dep. Variable:                      y   R-squared:                       0.965\n",
      "Model:                            OLS   Adj. R-squared:                  0.959\n",
      "Method:                 Least Squares   F-statistic:                     156.5\n",
      "Date:                Wed, 13 Mar 2019   Prob (F-statistic):           1.07e-72\n",
      "Time:                        17:54:57   Log-Likelihood:                -733.84\n",
      "No. Observations:                 133   AIC:                             1508.\n",
      "Df Residuals:                     113   BIC:                             1565.\n",
      "Df Model:                          20                                         \n",
      "Covariance Type:            nonrobust                                         \n",
      "==============================================================================\n",
      "                 coef    std err          t      P>|t|      [0.025      0.975]\n",
      "------------------------------------------------------------------------------\n",
      "x1             0.0893      1.065      0.084      0.933      -2.021       2.200\n",
      "x2            -0.0003      0.000     -2.611      0.010      -0.001   -8.16e-05\n",
      "x3             0.0014      0.000      6.340      0.000       0.001       0.002\n",
      "x4            -0.0570      0.017     -3.262      0.001      -0.092      -0.022\n",
      "x5            34.5990      6.323      5.472      0.000      22.072      47.126\n",
      "x6           -55.2616      9.420     -5.866      0.000     -73.925     -36.598\n",
      "x7             0.0004      0.000      3.002      0.003       0.000       0.001\n",
      "x8            -0.0014      0.000     -6.522      0.000      -0.002      -0.001\n",
      "x9             0.2728      0.110      2.472      0.015       0.054       0.491\n",
      "x10           -0.1109      0.298     -0.372      0.711      -0.702       0.480\n",
      "x11            0.0755      0.189      0.400      0.690      -0.298       0.449\n",
      "x12            1.5607      3.982      0.392      0.696      -6.329       9.450\n",
      "x13           -0.0353      0.138     -0.255      0.799      -0.309       0.239\n",
      "x14           -0.2894      2.670     -0.108      0.914      -5.579       5.000\n",
      "x15           -0.6355      0.307     -2.073      0.040      -1.243      -0.028\n",
      "x16           11.1620      4.839      2.307      0.023       1.575      20.749\n",
      "x17            0.5162      0.739      0.698      0.486      -0.948       1.980\n",
      "x18            4.1478     13.437      0.309      0.758     -22.474      30.770\n",
      "x19            0.4387      0.484      0.906      0.367      -0.521       1.398\n",
      "x20           -2.2180      0.871     -2.546      0.012      -3.944      -0.492\n",
      "==============================================================================\n",
      "Omnibus:                       59.856   Durbin-Watson:                   2.499\n",
      "Prob(Omnibus):                  0.000   Jarque-Bera (JB):              304.562\n",
      "Skew:                           1.485   Prob(JB):                     7.33e-67\n",
      "Kurtosis:                       9.792   Cond. No.                     1.02e+07\n",
      "==============================================================================\n",
      "\n",
      "Warnings:\n",
      "[1] Standard Errors assume that the covariance matrix of the errors is correctly specified.\n",
      "[2] The condition number is large, 1.02e+07. This might indicate that there are\n",
      "strong multicollinearity or other numerical problems.\n",
      " \n",
      "R-squared measure: 0.9544170430809462\n",
      "MSE score: 3631.267889425956\n",
      " \n"
     ]
    }
   ],
   "source": [
    "# tweets_#patriots.txt\n",
    "date_df = readfile_p4('tweets_#patriots.txt')\n",
    "date_df_out_patriots = splite_df(date_df)\n",
    "OLS_p4(date_df_out_patriots)"
   ]
  },
  {
   "cell_type": "markdown",
   "metadata": {
    "colab_type": "text",
    "id": "16lSTlO2WrjJ"
   },
   "source": [
    "#### Report of sb49"
   ]
  },
  {
   "cell_type": "code",
   "execution_count": 0,
   "metadata": {
    "colab": {},
    "colab_type": "code",
    "id": "Q2VcrUdqWrjJ",
    "outputId": "7a5c4d32-c1aa-4860-e3b0-a8eb6ab77d5f"
   },
   "outputs": [
    {
     "name": "stdout",
     "output_type": "stream",
     "text": [
      "############################## Report of period 1 ##############################\n",
      "                            OLS Regression Results                            \n",
      "==============================================================================\n",
      "Dep. Variable:                      y   R-squared:                       0.926\n",
      "Model:                            OLS   Adj. R-squared:                  0.922\n",
      "Method:                 Least Squares   F-statistic:                     258.5\n",
      "Date:                Wed, 13 Mar 2019   Prob (F-statistic):          6.58e-220\n",
      "Time:                        17:55:45   Log-Likelihood:                -2449.5\n",
      "No. Observations:                 435   AIC:                             4939.\n",
      "Df Residuals:                     415   BIC:                             5021.\n",
      "Df Model:                          20                                         \n",
      "Covariance Type:            nonrobust                                         \n",
      "==============================================================================\n",
      "                 coef    std err          t      P>|t|      [0.025      0.975]\n",
      "------------------------------------------------------------------------------\n",
      "x1            -1.2586      0.672     -1.874      0.062      -2.579       0.062\n",
      "x2          8.052e-06   3.32e-06      2.429      0.016    1.54e-06    1.46e-05\n",
      "x3          -2.29e-05   6.82e-06     -3.359      0.001   -3.63e-05    -9.5e-06\n",
      "x4             0.0090      0.006      1.488      0.138      -0.003       0.021\n",
      "x5             0.6729      0.576      1.168      0.243      -0.459       1.805\n",
      "x6            -4.2667      1.055     -4.043      0.000      -6.341      -2.192\n",
      "x7         -9.183e-06   2.44e-06     -3.759      0.000    -1.4e-05   -4.38e-06\n",
      "x8          2.923e-05   6.63e-06      4.410      0.000    1.62e-05    4.23e-05\n",
      "x9            -0.0324      0.014     -2.391      0.017      -0.059      -0.006\n",
      "x10            0.0649      0.023      2.813      0.005       0.020       0.110\n",
      "x11            0.5866      0.129      4.535      0.000       0.332       0.841\n",
      "x12           -1.4007      2.032     -0.689      0.491      -5.396       2.594\n",
      "x13           -0.3592      0.081     -4.440      0.000      -0.518      -0.200\n",
      "x14           -0.4017      1.730     -0.232      0.817      -3.803       2.999\n",
      "x15            0.0525      0.187      0.281      0.779      -0.315       0.420\n",
      "x16            5.4811      2.466      2.223      0.027       0.634      10.329\n",
      "x17           -1.5605      0.286     -5.453      0.000      -2.123      -0.998\n",
      "x18            7.7555      6.963      1.114      0.266      -5.931      21.442\n",
      "x19            1.2292      0.330      3.723      0.000       0.580       1.878\n",
      "x20           -0.5324      0.445     -1.197      0.232      -1.407       0.342\n",
      "==============================================================================\n",
      "Omnibus:                      200.452   Durbin-Watson:                   1.718\n",
      "Prob(Omnibus):                  0.000   Jarque-Bera (JB):             4596.947\n",
      "Skew:                           1.428   Prob(JB):                         0.00\n",
      "Kurtosis:                      18.667   Cond. No.                     3.13e+07\n",
      "==============================================================================\n",
      "\n",
      "Warnings:\n",
      "[1] Standard Errors assume that the covariance matrix of the errors is correctly specified.\n",
      "[2] The condition number is large, 3.13e+07. This might indicate that there are\n",
      "strong multicollinearity or other numerical problems.\n",
      " \n",
      "R-squared measure: 0.9126426216494136\n",
      "MSE score: 4556.1466665326625\n",
      " \n",
      "############################## Report of period 2 ##############################\n",
      "                            OLS Regression Results                            \n",
      "==============================================================================\n",
      "Dep. Variable:                      y   R-squared:                       0.967\n",
      "Model:                            OLS   Adj. R-squared:                  0.962\n",
      "Method:                 Least Squares   F-statistic:                     183.2\n",
      "Date:                Wed, 13 Mar 2019   Prob (F-statistic):           4.73e-82\n",
      "Time:                        17:55:45   Log-Likelihood:                -1197.3\n",
      "No. Observations:                 144   AIC:                             2435.\n",
      "Df Residuals:                     124   BIC:                             2494.\n",
      "Df Model:                          20                                         \n",
      "Covariance Type:            nonrobust                                         \n",
      "==============================================================================\n",
      "                 coef    std err          t      P>|t|      [0.025      0.975]\n",
      "------------------------------------------------------------------------------\n",
      "x1           -13.1159      5.427     -2.417      0.017     -23.858      -2.373\n",
      "x2            -0.0002      0.000     -1.142      0.256      -0.001       0.000\n",
      "x3             0.0003      0.000      1.056      0.293      -0.000       0.001\n",
      "x4             0.0165      0.041      0.404      0.687      -0.064       0.098\n",
      "x5            23.8548     55.407      0.431      0.668     -85.811     133.521\n",
      "x6          -115.5408    118.055     -0.979      0.330    -349.205     118.123\n",
      "x7             0.0003      0.000      1.160      0.248      -0.000       0.001\n",
      "x8            -0.0003      0.000     -1.011      0.314      -0.001       0.000\n",
      "x9            -0.1285      0.400     -0.321      0.749      -0.921       0.664\n",
      "x10           -0.0421      0.601     -0.070      0.944      -1.232       1.148\n",
      "x11            2.8880      0.970      2.978      0.003       0.969       4.807\n",
      "x12         -155.6207     88.135     -1.766      0.080    -330.065      18.823\n",
      "x13           -0.0455      0.306     -0.149      0.882      -0.651       0.560\n",
      "x14          -21.1173     50.777     -0.416      0.678    -121.620      79.385\n",
      "x15            0.4253      0.400      1.064      0.289      -0.366       1.216\n",
      "x16          166.2028     60.995      2.725      0.007      45.476     286.930\n",
      "x17            1.0771      0.865      1.246      0.215      -0.634       2.788\n",
      "x18           39.1291    160.986      0.243      0.808    -279.508     357.766\n",
      "x19            0.3796      1.684      0.225      0.822      -2.953       3.712\n",
      "x20           87.8814     47.322      1.857      0.066      -5.782     181.545\n",
      "==============================================================================\n",
      "Omnibus:                       48.692   Durbin-Watson:                   2.094\n",
      "Prob(Omnibus):                  0.000   Jarque-Bera (JB):              160.724\n",
      "Skew:                           1.247   Prob(JB):                     1.26e-35\n",
      "Kurtosis:                       7.535   Cond. No.                     1.26e+08\n",
      "==============================================================================\n",
      "\n",
      "Warnings:\n",
      "[1] Standard Errors assume that the covariance matrix of the errors is correctly specified.\n",
      "[2] The condition number is large, 1.26e+08. This might indicate that there are\n",
      "strong multicollinearity or other numerical problems.\n",
      " \n",
      "R-squared measure: 0.8990584162434374\n",
      "MSE score: 975957.9586819112\n",
      " \n",
      "############################## Report of period 3 ##############################\n",
      "                            OLS Regression Results                            \n",
      "==============================================================================\n",
      "Dep. Variable:                      y   R-squared:                       0.980\n",
      "Model:                            OLS   Adj. R-squared:                  0.976\n",
      "Method:                 Least Squares   F-statistic:                     275.0\n",
      "Date:                Wed, 13 Mar 2019   Prob (F-statistic):           4.27e-86\n",
      "Time:                        17:55:45   Log-Likelihood:                -795.90\n",
      "No. Observations:                 133   AIC:                             1632.\n",
      "Df Residuals:                     113   BIC:                             1690.\n",
      "Df Model:                          20                                         \n",
      "Covariance Type:            nonrobust                                         \n",
      "==============================================================================\n",
      "                 coef    std err          t      P>|t|      [0.025      0.975]\n",
      "------------------------------------------------------------------------------\n",
      "x1            -5.9983      1.419     -4.226      0.000      -8.810      -3.187\n",
      "x2          6.399e-06   9.48e-06      0.675      0.501   -1.24e-05    2.52e-05\n",
      "x3         -1.023e-06   1.34e-05     -0.076      0.939   -2.75e-05    2.55e-05\n",
      "x4             0.0047      0.005      0.864      0.390      -0.006       0.016\n",
      "x5            -0.3343      1.119     -0.299      0.766      -2.551       1.882\n",
      "x6             0.2597      1.656      0.157      0.876      -3.020       3.540\n",
      "x7         -8.359e-06   8.97e-06     -0.932      0.353   -2.61e-05     9.4e-06\n",
      "x8          4.327e-06   1.26e-05      0.343      0.732   -2.06e-05    2.93e-05\n",
      "x9             0.3099      0.046      6.808      0.000       0.220       0.400\n",
      "x10           -0.3622      0.097     -3.748      0.000      -0.554      -0.171\n",
      "x11            1.4277      0.278      5.141      0.000       0.878       1.978\n",
      "x12           -4.7177      6.409     -0.736      0.463     -17.416       7.980\n",
      "x13            0.1509      0.215      0.703      0.484      -0.274       0.576\n",
      "x14           -2.3383      4.524     -0.517      0.606     -11.302       6.625\n",
      "x15           -0.5003      0.136     -3.679      0.000      -0.770      -0.231\n",
      "x16           11.1341      6.737      1.653      0.101      -2.214      24.482\n",
      "x17            0.0110      0.410      0.027      0.979      -0.802       0.823\n",
      "x18           39.2875     16.394      2.396      0.018       6.809      71.766\n",
      "x19            0.6698      0.561      1.193      0.235      -0.442       1.782\n",
      "x20           -2.6549      1.500     -1.770      0.079      -5.626       0.316\n",
      "==============================================================================\n",
      "Omnibus:                       51.049   Durbin-Watson:                   1.571\n",
      "Prob(Omnibus):                  0.000   Jarque-Bera (JB):              259.731\n",
      "Skew:                           1.217   Prob(JB):                     3.98e-57\n",
      "Kurtosis:                       9.399   Cond. No.                     4.53e+07\n",
      "==============================================================================\n",
      "\n",
      "Warnings:\n",
      "[1] Standard Errors assume that the covariance matrix of the errors is correctly specified.\n",
      "[2] The condition number is large, 4.53e+07. This might indicate that there are\n",
      "strong multicollinearity or other numerical problems.\n",
      " \n",
      "R-squared measure: 0.9724652283842015\n",
      "MSE score: 9233.028541530119\n",
      " \n"
     ]
    }
   ],
   "source": [
    "# tweets_#sb49.txt\n",
    "date_df = readfile_p4('tweets_#sb49.txt')\n",
    "date_df_out_sb49 = splite_df(date_df)\n",
    "OLS_p4(date_df_out_sb49)"
   ]
  },
  {
   "cell_type": "markdown",
   "metadata": {
    "colab_type": "text",
    "id": "dt-owkImWrjN"
   },
   "source": [
    "#### Report of superbowl"
   ]
  },
  {
   "cell_type": "code",
   "execution_count": 0,
   "metadata": {
    "colab": {},
    "colab_type": "code",
    "id": "-nRxc_x5WrjO",
    "outputId": "82a90f8f-88d7-447f-a3f5-fe00e733a129"
   },
   "outputs": [
    {
     "name": "stdout",
     "output_type": "stream",
     "text": [
      "############################## Report of period 1 ##############################\n",
      "                            OLS Regression Results                            \n",
      "==============================================================================\n",
      "Dep. Variable:                      y   R-squared:                       0.598\n",
      "Model:                            OLS   Adj. R-squared:                  0.579\n",
      "Method:                 Least Squares   F-statistic:                     31.13\n",
      "Date:                Wed, 13 Mar 2019   Prob (F-statistic):           3.75e-70\n",
      "Time:                        17:57:03   Log-Likelihood:                -3467.6\n",
      "No. Observations:                 439   AIC:                             6975.\n",
      "Df Residuals:                     419   BIC:                             7057.\n",
      "Df Model:                          20                                         \n",
      "Covariance Type:            nonrobust                                         \n",
      "==============================================================================\n",
      "                 coef    std err          t      P>|t|      [0.025      0.975]\n",
      "------------------------------------------------------------------------------\n",
      "x1             3.3625      2.494      1.348      0.178      -1.540       8.265\n",
      "x2          7.273e-05   6.98e-05      1.042      0.298   -6.45e-05       0.000\n",
      "x3            -0.0001      0.000     -1.322      0.187      -0.000    7.22e-05\n",
      "x4            -0.1506      0.077     -1.966      0.050      -0.301   -4.05e-06\n",
      "x5            61.1528     10.193      6.000      0.000      41.117      81.188\n",
      "x6           -77.2762     19.086     -4.049      0.000    -114.792     -39.761\n",
      "x7          -6.38e-05   6.99e-05     -0.913      0.362      -0.000    7.36e-05\n",
      "x8             0.0001      0.000      1.166      0.244   -8.74e-05       0.000\n",
      "x9             0.2260      0.197      1.149      0.251      -0.161       0.613\n",
      "x10           -0.3160      0.276     -1.145      0.253      -0.858       0.226\n",
      "x11           -0.7537      0.535     -1.409      0.159      -1.805       0.298\n",
      "x12          -48.0721     22.879     -2.101      0.036     -93.045      -3.099\n",
      "x13           -0.1404      0.139     -1.014      0.311      -0.413       0.132\n",
      "x14           56.8415     16.166      3.516      0.000      25.066      88.617\n",
      "x15            1.9157      0.592      3.235      0.001       0.752       3.080\n",
      "x16           27.1499     23.630      1.149      0.251     -19.299      73.598\n",
      "x17           -0.6139      0.425     -1.445      0.149      -1.449       0.221\n",
      "x18          -38.1327     63.986     -0.596      0.552    -163.907      87.642\n",
      "x19            0.3064      0.838      0.365      0.715      -1.341       1.954\n",
      "x20           -5.2289      4.712     -1.110      0.268     -14.492       4.034\n",
      "==============================================================================\n",
      "Omnibus:                      643.093   Durbin-Watson:                   1.943\n",
      "Prob(Omnibus):                  0.000   Jarque-Bera (JB):           138520.094\n",
      "Skew:                           7.657   Prob(JB):                         0.00\n",
      "Kurtosis:                      88.664   Cond. No.                     4.11e+07\n",
      "==============================================================================\n",
      "\n",
      "Warnings:\n",
      "[1] Standard Errors assume that the covariance matrix of the errors is correctly specified.\n",
      "[2] The condition number is large, 4.11e+07. This might indicate that there are\n",
      "strong multicollinearity or other numerical problems.\n",
      " \n",
      "R-squared measure: 0.5075071896621306\n",
      "MSE score: 424984.0672748395\n",
      " \n",
      "############################## Report of period 2 ##############################\n",
      "                            OLS Regression Results                            \n",
      "==============================================================================\n",
      "Dep. Variable:                      y   R-squared:                       0.965\n",
      "Model:                            OLS   Adj. R-squared:                  0.959\n",
      "Method:                 Least Squares   F-statistic:                     171.5\n",
      "Date:                Wed, 13 Mar 2019   Prob (F-statistic):           2.40e-80\n",
      "Time:                        17:57:03   Log-Likelihood:                -1291.4\n",
      "No. Observations:                 144   AIC:                             2623.\n",
      "Df Residuals:                     124   BIC:                             2682.\n",
      "Df Model:                          20                                         \n",
      "Covariance Type:            nonrobust                                         \n",
      "==============================================================================\n",
      "                 coef    std err          t      P>|t|      [0.025      0.975]\n",
      "------------------------------------------------------------------------------\n",
      "x1            -3.1393      5.211     -0.602      0.548     -13.454       7.175\n",
      "x2            -0.0006      0.001     -0.812      0.419      -0.002       0.001\n",
      "x3             0.0011      0.001      0.842      0.401      -0.001       0.004\n",
      "x4            -0.0104      0.012     -0.840      0.403      -0.035       0.014\n",
      "x5           -92.7577     60.096     -1.543      0.125    -211.705      26.189\n",
      "x6           158.4976     91.616      1.730      0.086     -22.837     339.832\n",
      "x7             0.0006      0.001      0.801      0.425      -0.001       0.002\n",
      "x8            -0.0011      0.001     -0.846      0.399      -0.004       0.001\n",
      "x9            -0.7905      0.447     -1.769      0.079      -1.675       0.094\n",
      "x10            1.5816      0.924      1.711      0.090      -0.248       3.411\n",
      "x11            1.4779      0.832      1.777      0.078      -0.168       3.124\n",
      "x12         -424.1460    228.016     -1.860      0.065    -875.453      27.161\n",
      "x13           -1.9486      0.386     -5.053      0.000      -2.712      -1.185\n",
      "x14         -162.4119     95.539     -1.700      0.092    -351.511      26.687\n",
      "x15            1.1425      0.450      2.537      0.012       0.251       2.034\n",
      "x16          338.9790    143.747      2.358      0.020      54.464     623.494\n",
      "x17            3.8286      1.375      2.785      0.006       1.107       6.550\n",
      "x18          335.0900    326.047      1.028      0.306    -310.249     980.429\n",
      "x19            0.3360      1.662      0.202      0.840      -2.953       3.625\n",
      "x20          314.8229     95.557      3.295      0.001     125.689     503.957\n",
      "==============================================================================\n",
      "Omnibus:                       41.953   Durbin-Watson:                   1.899\n",
      "Prob(Omnibus):                  0.000   Jarque-Bera (JB):              128.290\n",
      "Skew:                           1.085   Prob(JB):                     1.39e-28\n",
      "Kurtosis:                       7.083   Cond. No.                     1.96e+08\n",
      "==============================================================================\n",
      "\n",
      "Warnings:\n",
      "[1] Standard Errors assume that the covariance matrix of the errors is correctly specified.\n",
      "[2] The condition number is large, 1.96e+08. This might indicate that there are\n",
      "strong multicollinearity or other numerical problems.\n",
      " \n",
      "R-squared measure: 0.9420850669747629\n",
      "MSE score: 3607018.692721234\n",
      " \n",
      "############################## Report of period 3 ##############################\n",
      "                            OLS Regression Results                            \n",
      "==============================================================================\n",
      "Dep. Variable:                      y   R-squared:                       0.942\n",
      "Model:                            OLS   Adj. R-squared:                  0.932\n",
      "Method:                 Least Squares   F-statistic:                     91.80\n",
      "Date:                Wed, 13 Mar 2019   Prob (F-statistic):           2.71e-60\n",
      "Time:                        17:57:03   Log-Likelihood:                -928.50\n",
      "No. Observations:                 133   AIC:                             1897.\n",
      "Df Residuals:                     113   BIC:                             1955.\n",
      "Df Model:                          20                                         \n",
      "Covariance Type:            nonrobust                                         \n",
      "==============================================================================\n",
      "                 coef    std err          t      P>|t|      [0.025      0.975]\n",
      "------------------------------------------------------------------------------\n",
      "x1            -8.0213      2.086     -3.845      0.000     -12.155      -3.888\n",
      "x2         -4.956e-06   4.62e-05     -0.107      0.915   -9.65e-05    8.66e-05\n",
      "x3          1.329e-05   5.13e-05      0.259      0.796   -8.82e-05       0.000\n",
      "x4            -0.0039      0.015     -0.263      0.793      -0.033       0.025\n",
      "x5            -1.1088      4.824     -0.230      0.819     -10.667       8.449\n",
      "x6            -1.5856      6.207     -0.255      0.799     -13.882      10.711\n",
      "x7         -5.934e-10   4.77e-05  -1.24e-05      1.000   -9.45e-05    9.45e-05\n",
      "x8          4.807e-06    5.2e-05      0.092      0.926   -9.82e-05       0.000\n",
      "x9             0.5785      0.269      2.149      0.034       0.045       1.112\n",
      "x10           -1.4973      0.772     -1.940      0.055      -3.027       0.032\n",
      "x11            1.7715      0.481      3.681      0.000       0.818       2.725\n",
      "x12            9.8680     25.603      0.385      0.701     -40.855      60.591\n",
      "x13            0.3096      0.158      1.954      0.053      -0.004       0.624\n",
      "x14          -14.7560     15.946     -0.925      0.357     -46.347      16.835\n",
      "x15           -0.3695      0.376     -0.982      0.328      -1.115       0.376\n",
      "x16           12.4825     19.237      0.649      0.518     -25.630      50.595\n",
      "x17            0.9295      0.468      1.988      0.049       0.003       1.856\n",
      "x18           28.6379     60.209      0.476      0.635     -90.647     147.923\n",
      "x19           -0.1449      0.769     -0.188      0.851      -1.668       1.379\n",
      "x20           -3.6600      3.924     -0.933      0.353     -11.434       4.114\n",
      "==============================================================================\n",
      "Omnibus:                      187.292   Durbin-Watson:                   2.270\n",
      "Prob(Omnibus):                  0.000   Jarque-Bera (JB):            14457.368\n",
      "Skew:                           5.263   Prob(JB):                         0.00\n",
      "Kurtosis:                      52.981   Cond. No.                     7.41e+07\n",
      "==============================================================================\n",
      "\n",
      "Warnings:\n",
      "[1] Standard Errors assume that the covariance matrix of the errors is correctly specified.\n",
      "[2] The condition number is large, 7.41e+07. This might indicate that there are\n",
      "strong multicollinearity or other numerical problems.\n",
      " \n",
      "R-squared measure: 0.9041921592228397\n",
      "MSE score: 67818.04585811659\n",
      " \n"
     ]
    }
   ],
   "source": [
    "# tweets_#superbowl.txt\n",
    "date_df = readfile_p4('tweets_#superbowl.txt')\n",
    "date_df_out_superbowl = splite_df(date_df)\n",
    "OLS_p4(date_df_out_superbowl)"
   ]
  },
  {
   "cell_type": "markdown",
   "metadata": {
    "colab_type": "text",
    "id": "M2NIGDzIWrjQ"
   },
   "source": [
    "### Question 7: aggregate the data"
   ]
  },
  {
   "cell_type": "code",
   "execution_count": 0,
   "metadata": {
    "colab": {},
    "colab_type": "code",
    "id": "Ee_AYX66WrjQ"
   },
   "outputs": [],
   "source": [
    "# aggregate\n",
    "agg_date_df_out_list = []\n",
    "def agg_features(feature,i):\n",
    "    feature_df = date_df_out_gohawks[i][feature] + date_df_out_gopatriots[i][feature]\\\n",
    "    + date_df_out_nfl[i][feature] + date_df_out_patriots[i][feature]\\\n",
    "    + date_df_out_sb49[i][feature] + date_df_out_superbowl[i][feature]\n",
    "    return feature_df\n",
    "\n",
    "for i in np.arange(3):\n",
    "    tot_num_tweets = agg_features('tot_num_tweets',i)\n",
    "    tot_num_followers = agg_features('tot_num_followers',i)\n",
    "    max_num_followers = agg_features('max_num_followers',i)\n",
    "    tot_num_retweets = agg_features('tot_num_retweets',i)\n",
    "    tot_num_replies = agg_features('tot_num_replies',i)\n",
    "    max_num_replies = agg_features('max_num_replies',i)\n",
    "    tot_num_impressions = agg_features('tot_num_impressions',i)\n",
    "    max_num_impressions = agg_features('max_num_impressions',i)\n",
    "    tot_num_favourites = agg_features('tot_num_favourites',i)\n",
    "    max_num_favourites = agg_features('max_num_favourites',i)\n",
    "    tot_rank_score = agg_features('tot_rank_score',i)\n",
    "    max_rank_score = agg_features('max_rank_score',i)\n",
    "    tot_count_hashtag = agg_features('tot_count_hashtag',i)\n",
    "    max_count_hashtag = agg_features('max_count_hashtag',i)\n",
    "    tot_mention_counts = agg_features('tot_mention_counts',i)\n",
    "    max_mention_counts = agg_features('max_mention_counts',i)\n",
    "    tot_url_counts = agg_features('tot_url_counts',i)\n",
    "    max_url_counts = agg_features('max_url_counts',i)\n",
    "    tot_author_name = agg_features('tot_author_name',i)\n",
    "    time = agg_features('time',i)\n",
    "    # new dataframe\n",
    "    features = [tot_num_tweets,\n",
    "                   tot_num_followers, max_num_followers,\n",
    "                   tot_num_retweets,\n",
    "                   tot_num_replies, max_num_replies,\n",
    "                   tot_num_impressions, max_num_impressions,\n",
    "                   tot_num_favourites, max_num_favourites,\n",
    "                   tot_rank_score, max_rank_score,\n",
    "                   tot_count_hashtag, max_count_hashtag,\n",
    "                   tot_mention_counts, max_mention_counts,\n",
    "                   tot_url_counts, max_url_counts,\n",
    "                   tot_author_name, time]\n",
    "    agg_date_df_out = pd.concat(features,axis=1)\n",
    "    agg_date_df_out_list.append(agg_date_df_out)"
   ]
  },
  {
   "cell_type": "code",
   "execution_count": 0,
   "metadata": {
    "colab": {},
    "colab_type": "code",
    "id": "knvoHV77WrjR",
    "outputId": "d26962ea-6d12-4b76-d6c7-2a504ab6cbce",
    "scrolled": true
   },
   "outputs": [
    {
     "name": "stdout",
     "output_type": "stream",
     "text": [
      "############################## Report of period 1 ##############################\n",
      "                            OLS Regression Results                            \n",
      "==============================================================================\n",
      "Dep. Variable:                      y   R-squared:                       0.600\n",
      "Model:                            OLS   Adj. R-squared:                  0.581\n",
      "Method:                 Least Squares   F-statistic:                     31.44\n",
      "Date:                Wed, 13 Mar 2019   Prob (F-statistic):           1.09e-70\n",
      "Time:                        17:57:43   Log-Likelihood:                -3945.8\n",
      "No. Observations:                 439   AIC:                             7932.\n",
      "Df Residuals:                     419   BIC:                             8013.\n",
      "Df Model:                          20                                         \n",
      "Covariance Type:            nonrobust                                         \n",
      "==============================================================================\n",
      "                 coef    std err          t      P>|t|      [0.025      0.975]\n",
      "------------------------------------------------------------------------------\n",
      "x1            -7.5805      3.349     -2.263      0.024     -14.164      -0.997\n",
      "x2          9.715e-05    6.4e-05      1.519      0.130   -2.86e-05       0.000\n",
      "x3            -0.0003      0.000     -2.780      0.006      -0.001      -0.000\n",
      "x4            -0.0808      0.083     -0.975      0.330      -0.244       0.082\n",
      "x5            32.6364      8.172      3.994      0.000      16.573      48.699\n",
      "x6           -36.9947     10.747     -3.442      0.001     -58.120     -15.869\n",
      "x7            -0.0001   5.71e-05     -2.133      0.033      -0.000   -9.58e-06\n",
      "x8             0.0004      0.000      3.006      0.003       0.000       0.001\n",
      "x9             0.1249      0.202      0.617      0.538      -0.273       0.523\n",
      "x10           -0.0736      0.311     -0.237      0.813      -0.684       0.537\n",
      "x11            1.9559      0.627      3.119      0.002       0.723       3.189\n",
      "x12          -68.4354     23.542     -2.907      0.004    -114.710     -22.161\n",
      "x13           -0.3188      0.204     -1.565      0.118      -0.719       0.082\n",
      "x14           92.2351     18.937      4.871      0.000      55.011     129.459\n",
      "x15            0.6865      0.784      0.875      0.382      -0.855       2.228\n",
      "x16           62.1066     25.671      2.419      0.016      11.646     112.567\n",
      "x17           -0.1127      0.542     -0.208      0.835      -1.179       0.953\n",
      "x18         -241.9440     81.939     -2.953      0.003    -403.006     -80.882\n",
      "x19           -0.3432      0.941     -0.365      0.715      -2.192       1.506\n",
      "x20           -1.1715      2.184     -0.536      0.592      -5.465       3.122\n",
      "==============================================================================\n",
      "Omnibus:                      742.871   Durbin-Watson:                   2.139\n",
      "Prob(Omnibus):                  0.000   Jarque-Bera (JB):           404990.349\n",
      "Skew:                           9.770   Prob(JB):                         0.00\n",
      "Kurtosis:                     150.509   Cond. No.                     3.43e+07\n",
      "==============================================================================\n",
      "\n",
      "Warnings:\n",
      "[1] Standard Errors assume that the covariance matrix of the errors is correctly specified.\n",
      "[2] The condition number is large, 3.43e+07. This might indicate that there are\n",
      "strong multicollinearity or other numerical problems.\n",
      " \n",
      "R-squared measure: 0.49945033846576214\n",
      "MSE score: 3754321.623542368\n",
      " \n",
      "############################## Report of period 2 ##############################\n",
      "                            OLS Regression Results                            \n",
      "==============================================================================\n",
      "Dep. Variable:                      y   R-squared:                       0.962\n",
      "Model:                            OLS   Adj. R-squared:                  0.956\n",
      "Method:                 Least Squares   F-statistic:                     158.7\n",
      "Date:                Wed, 13 Mar 2019   Prob (F-statistic):           2.44e-78\n",
      "Time:                        17:57:43   Log-Likelihood:                -1373.8\n",
      "No. Observations:                 144   AIC:                             2788.\n",
      "Df Residuals:                     124   BIC:                             2847.\n",
      "Df Model:                          20                                         \n",
      "Covariance Type:            nonrobust                                         \n",
      "==============================================================================\n",
      "                 coef    std err          t      P>|t|      [0.025      0.975]\n",
      "------------------------------------------------------------------------------\n",
      "x1            -2.6352      6.085     -0.433      0.666     -14.680       9.409\n",
      "x2            -0.0008      0.001     -1.609      0.110      -0.002       0.000\n",
      "x3             0.0011      0.001      1.433      0.154      -0.000       0.003\n",
      "x4            -0.0040      0.020     -0.196      0.845      -0.044       0.036\n",
      "x5            42.0241     49.984      0.841      0.402     -56.909     140.957\n",
      "x6           -72.1089     81.593     -0.884      0.379    -233.605      89.387\n",
      "x7             0.0008      0.001      1.574      0.118      -0.000       0.002\n",
      "x8            -0.0010      0.001     -1.359      0.177      -0.003       0.000\n",
      "x9            -1.6349      0.441     -3.706      0.000      -2.508      -0.762\n",
      "x10            2.7984      0.873      3.207      0.002       1.071       4.526\n",
      "x11            1.1417      1.070      1.067      0.288      -0.976       3.259\n",
      "x12         -159.6066     81.021     -1.970      0.051    -319.970       0.757\n",
      "x13           -1.1853      0.307     -3.859      0.000      -1.793      -0.577\n",
      "x14          -35.9439     51.458     -0.699      0.486    -137.793      65.905\n",
      "x15            0.3426      0.379      0.903      0.368      -0.408       1.093\n",
      "x16          205.4742     78.936      2.603      0.010      49.238     361.710\n",
      "x17           -0.0649      0.838     -0.077      0.938      -1.723       1.593\n",
      "x18           99.1195    244.974      0.405      0.686    -385.753     583.992\n",
      "x19            0.6292      1.643      0.383      0.702      -2.623       3.881\n",
      "x20           83.3868     22.331      3.734      0.000      39.187     127.587\n",
      "==============================================================================\n",
      "Omnibus:                       30.718   Durbin-Watson:                   2.188\n",
      "Prob(Omnibus):                  0.000   Jarque-Bera (JB):              100.633\n",
      "Skew:                           0.735   Prob(JB):                     1.41e-22\n",
      "Kurtosis:                       6.823   Cond. No.                     1.37e+08\n",
      "==============================================================================\n",
      "\n",
      "Warnings:\n",
      "[1] Standard Errors assume that the covariance matrix of the errors is correctly specified.\n",
      "[2] The condition number is large, 1.37e+08. This might indicate that there are\n",
      "strong multicollinearity or other numerical problems.\n",
      " \n",
      "R-squared measure: 0.9008338338653037\n",
      "MSE score: 11334133.50418023\n",
      " \n",
      "############################## Report of period 3 ##############################\n",
      "                            OLS Regression Results                            \n",
      "==============================================================================\n",
      "Dep. Variable:                      y   R-squared:                       0.982\n",
      "Model:                            OLS   Adj. R-squared:                  0.979\n",
      "Method:                 Least Squares   F-statistic:                     311.0\n",
      "Date:                Wed, 13 Mar 2019   Prob (F-statistic):           4.76e-89\n",
      "Time:                        17:57:43   Log-Likelihood:                -958.60\n",
      "No. Observations:                 133   AIC:                             1957.\n",
      "Df Residuals:                     113   BIC:                             2015.\n",
      "Df Model:                          20                                         \n",
      "Covariance Type:            nonrobust                                         \n",
      "==============================================================================\n",
      "                 coef    std err          t      P>|t|      [0.025      0.975]\n",
      "------------------------------------------------------------------------------\n",
      "x1            -8.4346      1.358     -6.212      0.000     -11.125      -5.745\n",
      "x2          1.474e-05   1.45e-05      1.017      0.311    -1.4e-05    4.35e-05\n",
      "x3            -0.0001   4.07e-05     -2.850      0.005      -0.000   -3.54e-05\n",
      "x4             0.0105      0.012      0.844      0.400      -0.014       0.035\n",
      "x5            -1.3280      1.243     -1.069      0.287      -3.790       1.134\n",
      "x6            -7.7086      4.751     -1.623      0.107     -17.121       1.704\n",
      "x7         -1.406e-05    1.4e-05     -1.006      0.317   -4.18e-05    1.36e-05\n",
      "x8             0.0001   4.31e-05      2.996      0.003    4.38e-05       0.000\n",
      "x9             0.4679      0.197      2.380      0.019       0.078       0.858\n",
      "x10           -0.4932      0.244     -2.020      0.046      -0.977      -0.009\n",
      "x11            0.8371      0.294      2.843      0.005       0.254       1.420\n",
      "x12           19.8970     16.959      1.173      0.243     -13.701      53.495\n",
      "x13            0.7431      0.149      4.980      0.000       0.447       1.039\n",
      "x14          -36.6273     11.621     -3.152      0.002     -59.651     -13.604\n",
      "x15           -0.0688      0.216     -0.318      0.751      -0.498       0.360\n",
      "x16           34.3001     16.285      2.106      0.037       2.036      66.564\n",
      "x17            2.0552      0.320      6.422      0.000       1.421       2.689\n",
      "x18           36.4198     46.206      0.788      0.432     -55.124     127.963\n",
      "x19            2.9283      0.593      4.935      0.000       1.753       4.104\n",
      "x20           -1.5733      0.755     -2.084      0.039      -3.069      -0.078\n",
      "==============================================================================\n",
      "Omnibus:                        8.845   Durbin-Watson:                   2.294\n",
      "Prob(Omnibus):                  0.012   Jarque-Bera (JB):               16.339\n",
      "Skew:                           0.201   Prob(JB):                     0.000283\n",
      "Kurtosis:                       4.669   Cond. No.                     8.59e+07\n",
      "==============================================================================\n",
      "\n",
      "Warnings:\n",
      "[1] Standard Errors assume that the covariance matrix of the errors is correctly specified.\n",
      "[2] The condition number is large, 8.59e+07. This might indicate that there are\n",
      "strong multicollinearity or other numerical problems.\n",
      " \n",
      "R-squared measure: 0.9653904375126974\n",
      "MSE score: 106635.37600687017\n",
      " \n"
     ]
    }
   ],
   "source": [
    "OLS_p4(agg_date_df_out_list)"
   ]
  },
  {
   "cell_type": "markdown",
   "metadata": {
    "colab_type": "text",
    "id": "_BZPTAEQYQ4M"
   },
   "source": [
    "### Question 8 & 9 aggregate the data with out time-period"
   ]
  },
  {
   "cell_type": "code",
   "execution_count": 5,
   "metadata": {},
   "outputs": [
    {
     "name": "stdout",
     "output_type": "stream",
     "text": [
      "tweets_#gohawks.txt\n",
      "tweets_#gopatriots.txt\n",
      "tweets_#nfl.txt\n",
      "tweets_#patriots.txt\n",
      "tweets_#sb49.txt\n",
      "tweets_#superbowl.txt\n"
     ]
    }
   ],
   "source": [
    "# tweets_#gohawks.txt\n",
    "print('tweets_#gohawks.txt')\n",
    "date_df = readfile_p4('tweets_#gohawks.txt')\n",
    "date_df_out_gohawks = create_features(date_df,'H')\n",
    "# tweets_#gopatriots.txt\n",
    "print('tweets_#gopatriots.txt')\n",
    "date_df = readfile_p4('tweets_#gopatriots.txt')\n",
    "date_df_out_gopatriots = create_features(date_df,'H')\n",
    "# tweets_#nfl.txt\n",
    "print('tweets_#nfl.txt')\n",
    "date_df = readfile_p4('tweets_#nfl.txt')\n",
    "date_df_out_nfl = create_features(date_df,'H')\n",
    "# tweets_#patriots.txt\n",
    "print('tweets_#patriots.txt')\n",
    "date_df = readfile_p4('tweets_#patriots.txt')\n",
    "date_df_out_patriots = create_features(date_df,'H')\n",
    "# tweets_#sb49.txt\n",
    "print('tweets_#sb49.txt')\n",
    "date_df = readfile_p4('tweets_#sb49.txt')\n",
    "date_df_out_sb49 = create_features(date_df,'H')\n",
    "# tweets_#superbowl.txt\n",
    "print('tweets_#superbowl.txt')\n",
    "date_df = readfile_p4('tweets_#superbowl.txt')\n",
    "date_df_out_superbowl = create_features(date_df,'H')"
   ]
  },
  {
   "cell_type": "code",
   "execution_count": 6,
   "metadata": {
    "colab": {},
    "colab_type": "code",
    "id": "BocdAIm_YQMi"
   },
   "outputs": [],
   "source": [
    "# aggregate\n",
    "agg_date_df_out_list = []\n",
    "def agg_features(feature):\n",
    "    feature_df = date_df_out_gohawks[feature] + date_df_out_gopatriots[feature]\\\n",
    "    + date_df_out_nfl[feature] + date_df_out_patriots[feature]\\\n",
    "    + date_df_out_sb49[feature] + date_df_out_superbowl[feature]\n",
    "    return feature_df\n",
    "\n",
    "\n",
    "tot_num_tweets = agg_features('tot_num_tweets')\n",
    "tot_num_followers = agg_features('tot_num_followers')\n",
    "max_num_followers = agg_features('max_num_followers')\n",
    "tot_num_retweets = agg_features('tot_num_retweets')\n",
    "tot_num_replies = agg_features('tot_num_replies')\n",
    "max_num_replies = agg_features('max_num_replies')\n",
    "tot_num_impressions = agg_features('tot_num_impressions')\n",
    "max_num_impressions = agg_features('max_num_impressions')\n",
    "tot_num_favourites = agg_features('tot_num_favourites')\n",
    "max_num_favourites = agg_features('max_num_favourites')\n",
    "tot_rank_score = agg_features('tot_rank_score')\n",
    "max_rank_score = agg_features('max_rank_score')\n",
    "tot_count_hashtag = agg_features('tot_count_hashtag')\n",
    "max_count_hashtag = agg_features('max_count_hashtag')\n",
    "tot_mention_counts = agg_features('tot_mention_counts')\n",
    "max_mention_counts = agg_features('max_mention_counts')\n",
    "tot_url_counts = agg_features('tot_url_counts')\n",
    "max_url_counts = agg_features('max_url_counts')\n",
    "tot_author_name = agg_features('tot_author_name')\n",
    "time = agg_features('time')\n",
    "# new dataframe\n",
    "features = [tot_num_tweets,\n",
    "               tot_num_followers, max_num_followers,\n",
    "               tot_num_retweets,\n",
    "               tot_num_replies, max_num_replies,\n",
    "               tot_num_impressions, max_num_impressions,\n",
    "               tot_num_favourites, max_num_favourites,\n",
    "               tot_rank_score, max_rank_score,\n",
    "               tot_count_hashtag, max_count_hashtag,\n",
    "               tot_mention_counts, max_mention_counts,\n",
    "               tot_url_counts, max_url_counts,\n",
    "               tot_author_name, time]\n",
    "agg_date_df_out = pd.concat(features,axis=1)"
   ]
  },
  {
   "cell_type": "code",
   "execution_count": 9,
   "metadata": {
    "colab": {},
    "colab_type": "code",
    "id": "PqpEXYNHaGBN"
   },
   "outputs": [],
   "source": [
    "# NOTE: https://www.statsmodels.org/dev/generated/statsmodels.regression.linear_model.OLS.html\n",
    "# https://www.statsmodels.org/dev/generated/statsmodels.regression.linear_model.RegressionResults.html\n",
    "# OLS\n",
    "def OLS_p5(date_df_out):\n",
    "    X = date_df_out.iloc[:-1]\n",
    "    y = date_df_out['tot_num_tweets'][1:]\n",
    "    X = np.nan_to_num(X)\n",
    "    y = np.nan_to_num(y)\n",
    "    results = sm.OLS(y, X).fit()\n",
    "    # RMSE and R2 measure\n",
    "    r2 = r2_score(y, results.fittedvalues)\n",
    "    mse = mean_squared_error(y, results.fittedvalues)\n",
    "    # report\n",
    "    print(results.summary())\n",
    "    print(' ')\n",
    "    print('R-squared measure: {}'.format(r2))\n",
    "    print('MSE score: {}'.format(mse))\n",
    "    print(' ')"
   ]
  },
  {
   "cell_type": "code",
   "execution_count": 10,
   "metadata": {
    "scrolled": false
   },
   "outputs": [
    {
     "name": "stdout",
     "output_type": "stream",
     "text": [
      "                            OLS Regression Results                            \n",
      "==============================================================================\n",
      "Dep. Variable:                      y   R-squared:                       0.889\n",
      "Model:                            OLS   Adj. R-squared:                  0.885\n",
      "Method:                 Least Squares   F-statistic:                     227.4\n",
      "Date:                Sun, 17 Mar 2019   Prob (F-statistic):          3.82e-255\n",
      "Time:                        14:30:54   Log-Likelihood:                -6200.0\n",
      "No. Observations:                 586   AIC:                         1.244e+04\n",
      "Df Residuals:                     566   BIC:                         1.253e+04\n",
      "Df Model:                          20                                         \n",
      "Covariance Type:            nonrobust                                         \n",
      "==============================================================================\n",
      "                 coef    std err          t      P>|t|      [0.025      0.975]\n",
      "------------------------------------------------------------------------------\n",
      "x1           -39.3506      6.736     -5.842      0.000     -52.582     -26.119\n",
      "x2             0.0008      0.000      4.369      0.000       0.000       0.001\n",
      "x3            -0.0014      0.000     -3.216      0.001      -0.002      -0.001\n",
      "x4            -0.7680      0.094     -8.155      0.000      -0.953      -0.583\n",
      "x5           -34.2714     18.598     -1.843      0.066     -70.801       2.258\n",
      "x6            17.2159     33.212      0.518      0.604     -48.017      82.449\n",
      "x7            -0.0006      0.000     -3.515      0.000      -0.001      -0.000\n",
      "x8             0.0009      0.000      2.168      0.031    8.56e-05       0.002\n",
      "x9             0.1909      0.234      0.815      0.415      -0.269       0.651\n",
      "x10            0.4370      0.352      1.240      0.215      -0.255       1.129\n",
      "x11            7.6814      1.419      5.412      0.000       4.894      10.469\n",
      "x12         -248.2455    105.557     -2.352      0.019    -455.577     -40.914\n",
      "x13            3.0308      0.359      8.431      0.000       2.325       3.737\n",
      "x14          332.3617     82.741      4.017      0.000     169.845     494.879\n",
      "x15            3.5449      0.641      5.533      0.000       2.287       4.803\n",
      "x16         -147.1623    108.225     -1.360      0.174    -359.734      65.410\n",
      "x17           -1.7193      1.418     -1.212      0.226      -4.505       1.067\n",
      "x18         -229.6278    363.512     -0.632      0.528    -943.624     484.368\n",
      "x19           -1.9672      0.675     -2.916      0.004      -3.292      -0.642\n",
      "x20           -2.2345      8.221     -0.272      0.786     -18.381      13.912\n",
      "==============================================================================\n",
      "Omnibus:                      785.063   Durbin-Watson:                   1.822\n",
      "Prob(Omnibus):                  0.000   Jarque-Bera (JB):           300984.299\n",
      "Skew:                           6.440   Prob(JB):                         0.00\n",
      "Kurtosis:                     113.278   Cond. No.                     2.52e+08\n",
      "==============================================================================\n",
      "\n",
      "Warnings:\n",
      "[1] Standard Errors assume that the covariance matrix of the errors is correctly specified.\n",
      "[2] The condition number is large, 2.52e+08. This might indicate that there are\n",
      "strong multicollinearity or other numerical problems.\n",
      " \n",
      "R-squared measure: 0.8860997406785017\n",
      "MSE score: 90655820.24757493\n",
      " \n"
     ]
    }
   ],
   "source": [
    "OLS_p5(agg_date_df_out)"
   ]
  }
 ],
 "metadata": {
  "colab": {
   "name": "project5.1.2.ipynb",
   "provenance": [],
   "toc_visible": true,
   "version": "0.3.2"
  },
  "kernelspec": {
   "display_name": "Python 3",
   "language": "python",
   "name": "python3"
  },
  "language_info": {
   "codemirror_mode": {
    "name": "ipython",
    "version": 3
   },
   "file_extension": ".py",
   "mimetype": "text/x-python",
   "name": "python",
   "nbconvert_exporter": "python",
   "pygments_lexer": "ipython3",
   "version": "3.7.1"
  }
 },
 "nbformat": 4,
 "nbformat_minor": 1
}
