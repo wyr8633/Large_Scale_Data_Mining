{
 "cells": [
  {
   "cell_type": "markdown",
   "metadata": {},
   "source": [
    "# Project 1: Classification Analysis on Textual Data"
   ]
  },
  {
   "cell_type": "code",
   "execution_count": 1,
   "metadata": {},
   "outputs": [],
   "source": [
    "%matplotlib inline\n",
    "from sklearn.datasets import fetch_20newsgroups\n",
    "from matplotlib import pyplot as plt\n",
    "from matplotlib import mlab as mlab"
   ]
  },
  {
   "cell_type": "code",
   "execution_count": 2,
   "metadata": {},
   "outputs": [],
   "source": [
    "import numpy as np\n",
    "np.random.seed(42)\n",
    "import random\n",
    "random.seed(42)"
   ]
  },
  {
   "cell_type": "code",
   "execution_count": 3,
   "metadata": {},
   "outputs": [
    {
     "name": "stdout",
     "output_type": "stream",
     "text": [
      "['comp.graphics', 'comp.os.ms-windows.misc', 'comp.sys.ibm.pc.hardware', 'comp.sys.mac.hardware', 'rec.autos', 'rec.motorcycles', 'rec.sport.baseball', 'rec.sport.hockey']\n"
     ]
    }
   ],
   "source": [
    "categories = ['comp.graphics', 'comp.os.ms-windows.misc',\n",
    "'comp.sys.ibm.pc.hardware', 'comp.sys.mac.hardware',\n",
    "'rec.autos', 'rec.motorcycles',\n",
    "'rec.sport.baseball', 'rec.sport.hockey']\n",
    "train_dataset = fetch_20newsgroups(subset = 'train', categories = categories, shuffle = True, random_state = None)\n",
    "test_dataset = fetch_20newsgroups(subset = 'test', categories = categories, shuffle = True, random_state = None)\n",
    "print(train_dataset.target_names)"
   ]
  },
  {
   "cell_type": "markdown",
   "metadata": {},
   "source": [
    "## Question 1: Histogram"
   ]
  },
  {
   "cell_type": "code",
   "execution_count": 4,
   "metadata": {},
   "outputs": [
    {
     "data": {
      "image/png": "[encoded data removed]",
      "text/plain": [
       "<Figure size 432x288 with 1 Axes>"
      ]
     },
     "metadata": {
      "needs_background": "light"
     },
     "output_type": "display_data"
    }
   ],
   "source": [
    "# count unique entries\n",
    "dataset_name, dataset_count = np.unique(train_dataset.target, return_counts = True)\n",
    "\n",
    "# plot histogram\n",
    "plt.barh(np.arange(len(dataset_name)), dataset_count)\n",
    "plt.title(\"Frequency of Catagories\")\n",
    "plt.rc('font',size = 14)\n",
    "plt.yticks(np.arange(len(dataset_name)), np.array(categories)[dataset_name], rotation='horizontal')\n",
    "plt.show()"
   ]
  },
  {
   "cell_type": "markdown",
   "metadata": {},
   "source": [
    "## Question 2: Feature Extraction"
   ]
  },
  {
   "cell_type": "code",
   "execution_count": 5,
   "metadata": {},
   "outputs": [
    {
     "name": "stdout",
     "output_type": "stream",
     "text": [
      "# of stop_words_skt:\t\t 318\n",
      "# of stop_words_en:\t\t 179\n",
      "# of punctuation:\t\t 32\n"
     ]
    }
   ],
   "source": [
    "# Defined stopwords\n",
    "from sklearn.feature_extraction import text\n",
    "stop_words_skt = text.ENGLISH_STOP_WORDS\n",
    "import nltk\n",
    "from nltk.corpus import stopwords\n",
    "\n",
    "#nltk.download('stopwords') #uncomm if 1st time run\n",
    "\n",
    "stop_words_en = stopwords.words('english')\n",
    "\n",
    "print(\"# of stop_words_skt:\\t\\t %s\" % len(stop_words_skt))\n",
    "print(\"# of stop_words_en:\\t\\t %s\" % len(stop_words_en))\n",
    "\n",
    "from string import punctuation\n",
    "print(\"# of punctuation:\\t\\t %s\" % len(punctuation))\n",
    "combined_stopwords = set.union(set(stop_words_en),set(punctuation),set(stop_words_skt))\n",
    "#print(combined_stopwords)"
   ]
  },
  {
   "cell_type": "code",
   "execution_count": 6,
   "metadata": {},
   "outputs": [],
   "source": [
    "# Lemmatize\n",
    "from nltk import pos_tag\n",
    "from nltk.stem import WordNetLemmatizer\n",
    "wnl = nltk.wordnet.WordNetLemmatizer()\n",
    "#nltk.download('wordnet')#, if you need \"corpora/wordnet\", choose it\n",
    "#nltk.download('punkt')#, if you need \"tokenizers/punkt/english.pickle\", choose it\n",
    "#nltk.download('averaged_perceptron_tagger')\n",
    "\n",
    "def penn2morphy(penntag):\n",
    "    \"\"\" Converts Penn Treebank tags to WordNet. \"\"\"\n",
    "    morphy_tag = {'NN':'n', 'JJ':'a',\n",
    "                  'VB':'v', 'RB':'r'}\n",
    "    try:\n",
    "        return morphy_tag[penntag[:2]]\n",
    "    except:\n",
    "        return 'n'\n",
    "\n",
    "def lemmatize_sent(list_word):\n",
    "    # Text input is string, returns array of lowercased strings(words).\n",
    "    return [wnl.lemmatize(word.lower(), pos=penn2morphy(tag)) for word, tag in pos_tag(list_word)]"
   ]
  },
  {
   "cell_type": "code",
   "execution_count": 7,
   "metadata": {},
   "outputs": [],
   "source": [
    "from sklearn.feature_extraction.text import CountVectorizer\n",
    "analyzer = CountVectorizer().build_analyzer()\n",
    "\n",
    "def stemmed_words(doc):\n",
    "    return (stemmer.stem(w) for w in analyzer(doc))\n",
    "\n",
    "def stem_rmv_punc(doc):\n",
    "    return (word for word in lemmatize_sent(analyzer(doc)) if word.isalpha() and word not in combined_stopwords)"
   ]
  },
  {
   "cell_type": "code",
   "execution_count": 8,
   "metadata": {},
   "outputs": [],
   "source": [
    "# tfidf set min_df3, remove stop words, post_train_dataset = train_dataset after processer\n",
    "count_vectorizer = CountVectorizer(min_df = 3, analyzer = stem_rmv_punc, stop_words = 'english');\n",
    "train_counts = count_vectorizer.fit_transform(train_dataset.data)\n",
    "test_counts = count_vectorizer.transform(test_dataset.data)"
   ]
  },
  {
   "cell_type": "code",
   "execution_count": 9,
   "metadata": {},
   "outputs": [
    {
     "name": "stdout",
     "output_type": "stream",
     "text": [
      "Train Vectorizer Shape:  (4732, 13837) ; Test Vectorizer Shape: (3150, 13837)\n"
     ]
    }
   ],
   "source": [
    "print('Train Vectorizer Shape: ',train_counts.shape,'; Test Vectorizer Shape:',test_counts.shape)\n",
    "#print(count_vectorizer.get_feature_names())"
   ]
  },
  {
   "cell_type": "markdown",
   "metadata": {
    "collapsed": true
   },
   "source": [
    "## Question 3: Dimensionality Reduction"
   ]
  },
  {
   "cell_type": "code",
   "execution_count": 10,
   "metadata": {},
   "outputs": [
    {
     "name": "stdout",
     "output_type": "stream",
     "text": [
      "(4732, 13837) (3150, 13837)\n"
     ]
    }
   ],
   "source": [
    "# tfidf\n",
    "from sklearn.feature_extraction.text import TfidfTransformer\n",
    "tfidf_transformer = TfidfTransformer()\n",
    "\n",
    "train_tfidf = tfidf_transformer.fit_transform(train_counts)\n",
    "test_tfidf = tfidf_transformer.transform(test_counts)\n",
    "print(train_tfidf.shape,test_tfidf.shape)"
   ]
  },
  {
   "cell_type": "code",
   "execution_count": 11,
   "metadata": {},
   "outputs": [],
   "source": [
    "# training a classifier\n",
    "from sklearn.naive_bayes import MultinomialNB\n",
    "from sklearn.naive_bayes import GaussianNB"
   ]
  },
  {
   "cell_type": "markdown",
   "metadata": {},
   "source": [
    "##### NMF"
   ]
  },
  {
   "cell_type": "code",
   "execution_count": 12,
   "metadata": {},
   "outputs": [
    {
     "name": "stdout",
     "output_type": "stream",
     "text": [
      "(4732, 50)\n"
     ]
    }
   ],
   "source": [
    "# NMF\n",
    "from sklearn.decomposition import NMF\n",
    "\n",
    "nmf = NMF(n_components=50, init='random', random_state= 42)\n",
    "train_tfidf_nmf = nmf.fit_transform(train_tfidf)\n",
    "\n",
    "print(train_tfidf_nmf.shape)"
   ]
  },
  {
   "cell_type": "code",
   "execution_count": 13,
   "metadata": {},
   "outputs": [],
   "source": [
    "test_tfidf_nmf = nmf.transform(test_tfidf)\n",
    "\n",
    "clf = MultinomialNB().fit(train_tfidf_nmf, train_dataset.target)\n",
    "\n",
    "predicted = clf.predict(test_tfidf_nmf)\n",
    "\n",
    "#for doc, category in zip(test_dataset.target, predicted):\n",
    "    #print('%s => %s' % (test_dataset.target_names[doc], train_dataset.target_names[category]))"
   ]
  },
  {
   "cell_type": "markdown",
   "metadata": {},
   "source": [
    "##### LSI"
   ]
  },
  {
   "cell_type": "code",
   "execution_count": 14,
   "metadata": {},
   "outputs": [
    {
     "name": "stdout",
     "output_type": "stream",
     "text": [
      "(4732, 50)\n"
     ]
    }
   ],
   "source": [
    "# Apply LSI\n",
    "from sklearn.decomposition import TruncatedSVD\n",
    "\n",
    "lsi = TruncatedSVD(n_components=50, random_state=42)\n",
    "train_tfidf_lsi = lsi.fit_transform(train_tfidf)\n",
    "\n",
    "print(train_tfidf_lsi.shape)"
   ]
  },
  {
   "cell_type": "code",
   "execution_count": 15,
   "metadata": {},
   "outputs": [],
   "source": [
    "from sklearn.svm import LinearSVC\n",
    "test_tfidf_lsi = lsi.transform(test_tfidf)\n",
    "\n",
    "clf = LinearSVC().fit(train_tfidf_lsi, train_dataset.target)\n",
    "\n",
    "predicted = clf.predict(test_tfidf_lsi)\n",
    "\n",
    "#for doc, category in zip(test_dataset.target, predicted):\n",
    "    #print('%s => %s' % (test_dataset.target_names[doc], train_dataset.target_names[category]))"
   ]
  },
  {
   "cell_type": "markdown",
   "metadata": {},
   "source": [
    "## Question 4: - Classification Algorithms"
   ]
  },
  {
   "cell_type": "code",
   "execution_count": 16,
   "metadata": {},
   "outputs": [],
   "source": [
    "from sklearn import metrics\n",
    "from sklearn.svm import SVC\n",
    "from sklearn.base import BaseEstimator, TransformerMixin\n",
    "from sklearn.metrics import auc\n",
    "import matplotlib.pyplot as plt"
   ]
  },
  {
   "cell_type": "code",
   "execution_count": 17,
   "metadata": {},
   "outputs": [],
   "source": [
    "# convert dataset.target into binary, in which comp is 0 and rec is 1\n",
    "# for issues of \"multiclass format error\"\n",
    "bi_train_dataset_target = []\n",
    "for num in train_dataset.target:\n",
    "    if num < 4:\n",
    "        bi_train_dataset_target.append(0)\n",
    "    else:\n",
    "        bi_train_dataset_target.append(1)\n",
    "\n",
    "bi_test_dataset_target = []\n",
    "for num in test_dataset.target:\n",
    "    if num < 4:\n",
    "        bi_test_dataset_target.append(0)\n",
    "    else:\n",
    "        bi_test_dataset_target.append(1)\n"
   ]
  },
  {
   "cell_type": "code",
   "execution_count": 18,
   "metadata": {},
   "outputs": [],
   "source": [
    "# plot the graph\n",
    "def plot_roc(fpr, tpr):\n",
    "    fig, ax = plt.subplots()\n",
    "    roc_auc = auc(fpr,tpr)\n",
    "    ax.plot(fpr, tpr, lw=2, label= 'area under curve = %0.4f' % roc_auc)\n",
    "    ax.grid(color='0.7', linestyle='--', linewidth=1)\n",
    "    ax.set_xlim([-0.1, 1.1])\n",
    "    ax.set_ylim([0.0, 1.05])\n",
    "    ax.set_xlabel('False Positive Rate',fontsize=15)\n",
    "    ax.set_ylabel('True Positive Rate',fontsize=15)\n",
    "    ax.legend(loc=\"lower right\")\n",
    "    for label in ax.get_xticklabels()+ax.get_yticklabels():\n",
    "        label.set_fontsize(15)"
   ]
  },
  {
   "cell_type": "code",
   "execution_count": 19,
   "metadata": {},
   "outputs": [],
   "source": [
    "# SVM\n",
    "def SVM_fit_predict_and_evaluate_result(train_data, train_target, test_data, test_target, gamma):\n",
    "    # SVM Classifier\n",
    "    clf = SVC(C = gamma,gamma='auto')\n",
    "    clf.fit(train_data, train_target)\n",
    "    predict_target = clf.predict(test_data)\n",
    "    predict_score = clf.decision_function(test_data)\n",
    "    fpr, tpr, threshold = metrics.roc_curve(test_target, predict_score)\n",
    "    \n",
    "    # return confusion_matrix, accuracy, recall, recision, f1\n",
    "    confu_mx = metrics.confusion_matrix(test_target, predict_target)\n",
    "    accuracy = metrics.accuracy_score(test_target, predict_target)\n",
    "    recall = metrics.recall_score(test_target, predict_target, average = 'binary')\n",
    "    precision = metrics.precision_score(test_target, predict_target, average = 'binary')\n",
    "    f1_score = metrics.f1_score(test_target, predict_target, average = 'binary')\n",
    "    print(\"Confusion matrix:\")\n",
    "    print(confu_mx)\n",
    "    print(\"Accuracy: {}\\nRecall: {}\\nPrecision: {}\\nf1: {}\".format(accuracy, recall, precision, f1_score))\n",
    "    \n",
    "    # plot\n",
    "    plot_roc(fpr, tpr)"
   ]
  },
  {
   "cell_type": "markdown",
   "metadata": {},
   "source": [
    "##### LSI"
   ]
  },
  {
   "cell_type": "code",
   "execution_count": 20,
   "metadata": {},
   "outputs": [
    {
     "name": "stdout",
     "output_type": "stream",
     "text": [
      "\n",
      "LSI - hard margin SVM (gamma=1000)\n",
      "Confusion matrix:\n",
      "[[1506   54]\n",
      " [  34 1556]]\n",
      "Accuracy: 0.9720634920634921\n",
      "Recall: 0.9786163522012579\n",
      "Precision: 0.9664596273291925\n",
      "f1: 0.9724999999999999\n"
     ]
    },
    {
     "data": {
      "image/png": "[encoded data removed]",
      "text/plain": [
       "<Figure size 432x288 with 1 Axes>"
      ]
     },
     "metadata": {
      "needs_background": "light"
     },
     "output_type": "display_data"
    }
   ],
   "source": [
    "# LSI - Hard margin SVM\n",
    "print(\"\\nLSI - hard margin SVM (gamma=1000)\")\n",
    "SVM_fit_predict_and_evaluate_result(train_tfidf_lsi, bi_train_dataset_target, test_tfidf_lsi, bi_test_dataset_target, 1000)\n"
   ]
  },
  {
   "cell_type": "code",
   "execution_count": 21,
   "metadata": {
    "scrolled": true
   },
   "outputs": [
    {
     "name": "stdout",
     "output_type": "stream",
     "text": [
      "\n",
      "LSI - hard margin SVM (gamma=0.0001)\n",
      "Confusion matrix:\n",
      "[[   0 1560]\n",
      " [   0 1590]]\n",
      "Accuracy: 0.5047619047619047\n",
      "Recall: 1.0\n",
      "Precision: 0.5047619047619047\n",
      "f1: 0.6708860759493671\n"
     ]
    },
    {
     "data": {
      "image/png": "[encoded data removed]",
      "text/plain": [
       "<Figure size 432x288 with 1 Axes>"
      ]
     },
     "metadata": {
      "needs_background": "light"
     },
     "output_type": "display_data"
    }
   ],
   "source": [
    "# LSI - Soft margin SVM\n",
    "print(\"\\nLSI - hard margin SVM (gamma=0.0001)\")\n",
    "SVM_fit_predict_and_evaluate_result(train_tfidf_lsi, bi_train_dataset_target, test_tfidf_lsi, bi_test_dataset_target, 0.0001)\n"
   ]
  },
  {
   "cell_type": "markdown",
   "metadata": {},
   "source": [
    "##### NMF "
   ]
  },
  {
   "cell_type": "code",
   "execution_count": 22,
   "metadata": {
    "scrolled": true
   },
   "outputs": [
    {
     "name": "stdout",
     "output_type": "stream",
     "text": [
      "\n",
      "NMF - hard margin SVM (gamma=1000)\n",
      "Confusion matrix:\n",
      "[[1474   86]\n",
      " [  43 1547]]\n",
      "Accuracy: 0.959047619047619\n",
      "Recall: 0.9729559748427673\n",
      "Precision: 0.9473361910593999\n",
      "f1: 0.9599751784052126\n"
     ]
    },
    {
     "data": {
      "image/png": "[encoded data removed]",
      "text/plain": [
       "<Figure size 432x288 with 1 Axes>"
      ]
     },
     "metadata": {
      "needs_background": "light"
     },
     "output_type": "display_data"
    }
   ],
   "source": [
    "# NMF - Hard margin SVM\n",
    "print(\"\\nNMF - hard margin SVM (gamma=1000)\")\n",
    "SVM_fit_predict_and_evaluate_result(train_tfidf_nmf, bi_train_dataset_target, test_tfidf_nmf, bi_test_dataset_target, 1000)\n"
   ]
  },
  {
   "cell_type": "code",
   "execution_count": 23,
   "metadata": {
    "scrolled": true
   },
   "outputs": [
    {
     "name": "stdout",
     "output_type": "stream",
     "text": [
      "\n",
      "NMF - hard margin SVM (gamma=0.0001)\n",
      "Confusion matrix:\n",
      "[[   0 1560]\n",
      " [   0 1590]]\n",
      "Accuracy: 0.5047619047619047\n",
      "Recall: 1.0\n",
      "Precision: 0.5047619047619047\n",
      "f1: 0.6708860759493671\n"
     ]
    },
    {
     "data": {
      "image/png": "[encoded data removed]",
      "text/plain": [
       "<Figure size 432x288 with 1 Axes>"
      ]
     },
     "metadata": {
      "needs_background": "light"
     },
     "output_type": "display_data"
    }
   ],
   "source": [
    "# NMF - Soft margin SVM\n",
    "print(\"\\nNMF - hard margin SVM (gamma=0.0001)\")\n",
    "SVM_fit_predict_and_evaluate_result(train_tfidf_nmf, bi_train_dataset_target, test_tfidf_nmf, bi_test_dataset_target, 0.0001)\n"
   ]
  },
  {
   "cell_type": "markdown",
   "metadata": {},
   "source": [
    "### Question 4: Part 2: Cross-validation"
   ]
  },
  {
   "cell_type": "code",
   "execution_count": 24,
   "metadata": {},
   "outputs": [],
   "source": [
    "from sklearn.model_selection import GridSearchCV\n",
    "import math\n",
    "def SVM_Best_predict_and_evaluate_result_regularization(train_data, train_target, test_data, test_target):\n",
    "    \n",
    "    parameters = {'C': [math.pow(10, k) for k in range(-3,4)]}\n",
    "    clf = GridSearchCV(SVC(gamma='auto'), parameters, n_jobs=-1, cv=5)\n",
    "    clf.fit(train_data, train_target)\n",
    "    predict_target = clf.predict(test_data)\n",
    "    predict_score = clf.decision_function(test_data)\n",
    "    fpr, tpr, threshold = metrics.roc_curve(test_target, predict_score)\n",
    "    values = [list(clf.cv_results_['param_C']), [\"%.6f\" % x for x in clf.cv_results_['mean_test_score']],list(clf.cv_results_['rank_test_score'])]\n",
    "    confu_mx = metrics.confusion_matrix(test_target, predict_target)\n",
    "    accuracy = metrics.accuracy_score(test_target, predict_target)\n",
    "    recall = metrics.recall_score(test_target, predict_target, average = 'binary')\n",
    "    precision = metrics.precision_score(test_target, predict_target, average = 'binary')\n",
    "    f1_score = metrics.f1_score(test_target, predict_target, average = 'binary')    \n",
    "    # draw table\n",
    "    print('Parameters and Results:')\n",
    "    print('C:',values[0])\n",
    "    print('Test_Score:',values[1])\n",
    "    print('Rank:',values[2])\n",
    "    print(\"\\nBest Parameters: \\n{0}\".format(clf.best_params_))\n",
    "    print(\"\\nConfusion matrix:\")\n",
    "    print(confu_mx)\n",
    "    print(\"Accuracy: {}\\nRecall: {}\\nPrecision: {}\\nf1: {}\".format(accuracy, recall, precision, f1_score))\n",
    "    # plot\n",
    "    plot_roc(fpr, tpr)\n",
    "\n",
    "    "
   ]
  },
  {
   "cell_type": "code",
   "execution_count": 25,
   "metadata": {
    "scrolled": true
   },
   "outputs": [
    {
     "name": "stdout",
     "output_type": "stream",
     "text": [
      "\n",
      "LSI\n",
      "Parameters and Results:\n",
      "C: [0.001, 0.01, 0.1, 1.0, 10.0, 100.0, 1000.0]\n",
      "Test_Score: ['0.504861', '0.504861', '0.504861', '0.957312', '0.970414', '0.974852', '0.976331']\n",
      "Rank: [5, 5, 5, 4, 3, 2, 1]\n",
      "\n",
      "Best Parameters: \n",
      "{'C': 1000.0}\n",
      "\n",
      "Confusion matrix:\n",
      "[[1506   54]\n",
      " [  34 1556]]\n",
      "Accuracy: 0.9720634920634921\n",
      "Recall: 0.9786163522012579\n",
      "Precision: 0.9664596273291925\n",
      "f1: 0.9724999999999999\n"
     ]
    },
    {
     "data": {
      "image/png": "[encoded data removed]",
      "text/plain": [
       "<Figure size 432x288 with 1 Axes>"
      ]
     },
     "metadata": {
      "needs_background": "light"
     },
     "output_type": "display_data"
    }
   ],
   "source": [
    "#SLI\n",
    "print(\"\\nLSI\")\n",
    "SVM_Best_predict_and_evaluate_result_regularization(train_tfidf_lsi, bi_train_dataset_target,test_tfidf_lsi,bi_test_dataset_target)\n"
   ]
  },
  {
   "cell_type": "code",
   "execution_count": 26,
   "metadata": {
    "scrolled": true
   },
   "outputs": [
    {
     "name": "stdout",
     "output_type": "stream",
     "text": [
      "\n",
      "NMF\n",
      "Parameters and Results:\n",
      "C: [0.001, 0.01, 0.1, 1.0, 10.0, 100.0, 1000.0]\n",
      "Test_Score: ['0.504861', '0.504861', '0.504861', '0.504861', '0.908073', '0.960482', '0.964708']\n",
      "Rank: [4, 4, 4, 4, 3, 2, 1]\n",
      "\n",
      "Best Parameters: \n",
      "{'C': 1000.0}\n",
      "\n",
      "Confusion matrix:\n",
      "[[1474   86]\n",
      " [  43 1547]]\n",
      "Accuracy: 0.959047619047619\n",
      "Recall: 0.9729559748427673\n",
      "Precision: 0.9473361910593999\n",
      "f1: 0.9599751784052126\n"
     ]
    },
    {
     "data": {
      "image/png": "[encoded data removed]",
      "text/plain": [
       "<Figure size 432x288 with 1 Axes>"
      ]
     },
     "metadata": {
      "needs_background": "light"
     },
     "output_type": "display_data"
    }
   ],
   "source": [
    "# NMF\n",
    "print(\"\\nNMF\")\n",
    "SVM_Best_predict_and_evaluate_result_regularization(train_tfidf_nmf, bi_train_dataset_target,test_tfidf_nmf,bi_test_dataset_target)\n"
   ]
  },
  {
   "cell_type": "markdown",
   "metadata": {},
   "source": [
    "## Question 5: Logistoic Classifier"
   ]
  },
  {
   "cell_type": "code",
   "execution_count": 27,
   "metadata": {},
   "outputs": [],
   "source": [
    "from sklearn.linear_model import LogisticRegression\n",
    "def Logistic_fit_predict_and_evaluate_result(train_data, train_target, test_data, test_target):\n",
    "    # Logistic\n",
    "    clf = LogisticRegression(solver='liblinear')\n",
    "    clf.fit(train_data, train_target)\n",
    "    predict_target = clf.predict(test_data)\n",
    "    predict_score = clf.predict_proba(test_data)[:,1]\n",
    "    fpr, tpr, threshold = metrics.roc_curve(test_target, predict_score)\n",
    "    \n",
    "    # return confusion_matrix, accuracy, recall, recision, f1\n",
    "    confu_mx = metrics.confusion_matrix(test_target, predict_target)\n",
    "    accuracy = metrics.accuracy_score(test_target, predict_target)\n",
    "    recall = metrics.recall_score(test_target, predict_target, average = 'binary')\n",
    "    precision = metrics.precision_score(test_target, predict_target, average = 'binary')\n",
    "    f1_score = metrics.f1_score(test_target, predict_target, average = 'binary')\n",
    "    print(\"Confusion matrix:\")\n",
    "    print(confu_mx)\n",
    "    print(\"Accuracy: {}\\nRecall: {}\\nPrecision: {}\\nf1: {}\".format(accuracy, recall, precision, f1_score))\n",
    "    \n",
    "    # plot\n",
    "    plot_roc(fpr, tpr)"
   ]
  },
  {
   "cell_type": "markdown",
   "metadata": {},
   "source": [
    "##### LSI "
   ]
  },
  {
   "cell_type": "code",
   "execution_count": 28,
   "metadata": {
    "scrolled": false
   },
   "outputs": [
    {
     "name": "stdout",
     "output_type": "stream",
     "text": [
      "\n",
      "LSI - Logistic without regularization\n",
      "Confusion matrix:\n",
      "[[1488   72]\n",
      " [  35 1555]]\n",
      "Accuracy: 0.966031746031746\n",
      "Recall: 0.9779874213836478\n",
      "Precision: 0.9557467732022127\n",
      "f1: 0.9667391980105688\n"
     ]
    },
    {
     "data": {
      "image/png": "[encoded data removed]",
      "text/plain": [
       "<Figure size 432x288 with 1 Axes>"
      ]
     },
     "metadata": {
      "needs_background": "light"
     },
     "output_type": "display_data"
    }
   ],
   "source": [
    "print(\"\\nLSI - Logistic without regularization\")\n",
    "Logistic_fit_predict_and_evaluate_result(train_tfidf_lsi, bi_train_dataset_target, test_tfidf_lsi, bi_test_dataset_target)\n"
   ]
  },
  {
   "cell_type": "markdown",
   "metadata": {},
   "source": [
    "##### NMF"
   ]
  },
  {
   "cell_type": "code",
   "execution_count": 29,
   "metadata": {
    "scrolled": true
   },
   "outputs": [
    {
     "name": "stdout",
     "output_type": "stream",
     "text": [
      "\n",
      "NMF - Logistic without regularization\n",
      "Confusion matrix:\n",
      "[[1435  125]\n",
      " [  27 1563]]\n",
      "Accuracy: 0.9517460317460318\n",
      "Recall: 0.9830188679245283\n",
      "Precision: 0.9259478672985783\n",
      "f1: 0.9536302623550946\n"
     ]
    },
    {
     "data": {
      "image/png": "[encoded data removed]",
      "text/plain": [
       "<Figure size 432x288 with 1 Axes>"
      ]
     },
     "metadata": {
      "needs_background": "light"
     },
     "output_type": "display_data"
    }
   ],
   "source": [
    "print(\"\\nNMF - Logistic without regularization\")\n",
    "Logistic_fit_predict_and_evaluate_result(train_tfidf_nmf, bi_train_dataset_target, test_tfidf_nmf, bi_test_dataset_target)\n"
   ]
  },
  {
   "cell_type": "markdown",
   "metadata": {},
   "source": [
    "### Question 5: Part 2: Regularization "
   ]
  },
  {
   "cell_type": "code",
   "execution_count": 30,
   "metadata": {},
   "outputs": [],
   "source": [
    "def Logistic_fit_predict_and_evaluate_result_regularization(train_data, train_target, test_data, test_target):\n",
    "    \n",
    "    parameters = {'penalty': ['l1', 'l2'], 'C': [math.pow(10, k) for k in range(-3,4)]}\n",
    "    clf = GridSearchCV(LogisticRegression(solver='liblinear'), parameters, n_jobs=-1, cv=5)\n",
    "    clf.fit(train_data, train_target)\n",
    "    predict_target = clf.predict(test_data)\n",
    "    predict_score = clf.predict_proba(test_data)[:,1]\n",
    "    values = [list(clf.cv_results_[r'param_penalty']), list(clf.cv_results_[r'param_C']), [\"%.6f\" % x for x in clf.cv_results_[r'mean_test_score']],list(clf.cv_results_[r'rank_test_score'])]\n",
    "    accuracy = metrics.accuracy_score(test_target, predict_target)\n",
    "    recall = metrics.recall_score(test_target, predict_target, average = 'binary')\n",
    "    precision = metrics.precision_score(test_target, predict_target, average = 'binary')\n",
    "    f1_score = metrics.f1_score(test_target, predict_target, average = 'binary')    \n",
    "    # draw table\n",
    "    print('Parameters and Results:')\n",
    "    print('Penalty:',values[0])\n",
    "    print('C:',values[1])\n",
    "    print('Test_Score:',values[2])\n",
    "    print('Rank:',values[3])\n",
    "    print(\"\\nBest Parameters: \\n{0}\".format(clf.best_params_))\n",
    "    print(\"Accuracy: {}\\nRecall: {}\\nPrecision: {}\\nf1: {}\".format(accuracy, recall, precision, f1_score))"
   ]
  },
  {
   "cell_type": "markdown",
   "metadata": {},
   "source": [
    "##### LSI "
   ]
  },
  {
   "cell_type": "code",
   "execution_count": 31,
   "metadata": {
    "scrolled": true
   },
   "outputs": [
    {
     "name": "stdout",
     "output_type": "stream",
     "text": [
      "\n",
      "LSI - Logistic with Regularization\n",
      "Parameters and Results:\n",
      "Penalty: ['l1', 'l2', 'l1', 'l2', 'l1', 'l2', 'l1', 'l2', 'l1', 'l2', 'l1', 'l2', 'l1', 'l2']\n",
      "C: [0.001, 0.001, 0.01, 0.01, 0.1, 0.1, 1.0, 1.0, 10.0, 10.0, 100.0, 100.0, 1000.0, 1000.0]\n",
      "Test_Score: ['0.495139', '0.694844', '0.893491', '0.946957', '0.961538', '0.968724', '0.969992', '0.971893', '0.976120', '0.976120', '0.974852', '0.976754', '0.974641', '0.975063']\n",
      "Rank: [14, 13, 12, 11, 10, 9, 8, 7, 2, 2, 5, 1, 6, 4]\n",
      "\n",
      "Best Parameters: \n",
      "{'C': 100.0, 'penalty': 'l2'}\n",
      "Accuracy: 0.9726984126984127\n",
      "Recall: 0.979874213836478\n",
      "Precision: 0.966501240694789\n",
      "f1: 0.9731417863835102\n"
     ]
    }
   ],
   "source": [
    "print(\"\\nLSI - Logistic with Regularization\")\n",
    "Logistic_fit_predict_and_evaluate_result_regularization(train_tfidf_lsi, bi_train_dataset_target, test_tfidf_lsi, bi_test_dataset_target)\n"
   ]
  },
  {
   "cell_type": "markdown",
   "metadata": {},
   "source": [
    "##### NMF"
   ]
  },
  {
   "cell_type": "code",
   "execution_count": 32,
   "metadata": {},
   "outputs": [
    {
     "name": "stdout",
     "output_type": "stream",
     "text": [
      "\n",
      "NMF - Logistic with Regularization\n",
      "Parameters and Results:\n",
      "Penalty: ['l1', 'l2', 'l1', 'l2', 'l1', 'l2', 'l1', 'l2', 'l1', 'l2', 'l1', 'l2', 'l1', 'l2']\n",
      "C: [0.001, 0.001, 0.01, 0.01, 0.1, 0.1, 1.0, 1.0, 10.0, 10.0, 100.0, 100.0, 1000.0, 1000.0]\n",
      "Test_Score: ['0.495139', '0.504861', '0.495139', '0.514159', '0.714708', '0.908284', '0.955199', '0.954776', '0.967878', '0.963018', '0.968301', '0.965554', '0.968301', '0.967033']\n",
      "Rank: [13, 12, 13, 11, 10, 9, 7, 8, 3, 6, 1, 5, 1, 4]\n",
      "\n",
      "Best Parameters: \n",
      "{'C': 100.0, 'penalty': 'l1'}\n",
      "Accuracy: 0.9606349206349206\n",
      "Recall: 0.9685534591194969\n",
      "Precision: 0.9541511771995044\n",
      "f1: 0.9612983770287141\n"
     ]
    }
   ],
   "source": [
    "print(\"\\nNMF - Logistic with Regularization\")\n",
    "Logistic_fit_predict_and_evaluate_result_regularization(train_tfidf_nmf, bi_train_dataset_target, test_tfidf_nmf, bi_test_dataset_target)\n"
   ]
  },
  {
   "cell_type": "markdown",
   "metadata": {},
   "source": [
    "## Question 6: Naive Bayes"
   ]
  },
  {
   "cell_type": "code",
   "execution_count": 33,
   "metadata": {},
   "outputs": [],
   "source": [
    "from sklearn.naive_bayes import GaussianNB\n",
    "def NB_gaussian_fit_predict_and_evaluate_result(train_data, train_target, test_data, test_target):\n",
    "    # Naive Bayes\n",
    "    clf = GaussianNB()\n",
    "    clf.fit(train_data, train_target)\n",
    "    predict_target = clf.predict(test_data)\n",
    "    predict_score = clf.predict_proba(test_data)[:,1]\n",
    "    fpr, tpr, threshold = metrics.roc_curve(test_target, predict_score)\n",
    "    \n",
    "    # return confusion_matrix, accuracy, recall, recision, f1\n",
    "    confu_mx = metrics.confusion_matrix(test_target, predict_target)\n",
    "    accuracy = metrics.accuracy_score(test_target, predict_target)\n",
    "    recall = metrics.recall_score(test_target, predict_target, average = 'binary')\n",
    "    precision = metrics.precision_score(test_target, predict_target, average = 'binary')\n",
    "    f1_score = metrics.f1_score(test_target, predict_target, average = 'binary')\n",
    "    print(\"Confusion matrix:\")\n",
    "    print(confu_mx)\n",
    "    print(\"Accuracy: {}\\nRecall: {}\\nPrecision: {}\\nf1: {}\".format(accuracy, recall, precision, f1_score))\n",
    "    \n",
    "    # plot\n",
    "    plot_roc(fpr, tpr)"
   ]
  },
  {
   "cell_type": "markdown",
   "metadata": {},
   "source": [
    "##### LSI"
   ]
  },
  {
   "cell_type": "code",
   "execution_count": 34,
   "metadata": {
    "scrolled": false
   },
   "outputs": [
    {
     "name": "stdout",
     "output_type": "stream",
     "text": [
      "\n",
      "LSI - NBGaussian\n",
      "Confusion matrix:\n",
      "[[1235  325]\n",
      " [  43 1547]]\n",
      "Accuracy: 0.8831746031746032\n",
      "Recall: 0.9729559748427673\n",
      "Precision: 0.8263888888888888\n",
      "f1: 0.8937030618139804\n"
     ]
    },
    {
     "data": {
      "image/png": "[encoded data removed]",
      "text/plain": [
       "<Figure size 432x288 with 1 Axes>"
      ]
     },
     "metadata": {
      "needs_background": "light"
     },
     "output_type": "display_data"
    }
   ],
   "source": [
    "print(\"\\nLSI - NBGaussian\")\n",
    "NB_gaussian_fit_predict_and_evaluate_result(train_tfidf_lsi, bi_train_dataset_target, test_tfidf_lsi, bi_test_dataset_target)\n"
   ]
  },
  {
   "cell_type": "markdown",
   "metadata": {},
   "source": [
    "##### NMF"
   ]
  },
  {
   "cell_type": "code",
   "execution_count": 35,
   "metadata": {
    "scrolled": true
   },
   "outputs": [
    {
     "name": "stdout",
     "output_type": "stream",
     "text": [
      "\n",
      "NMF - NBGaussian\n",
      "Confusion matrix:\n",
      "[[1461   99]\n",
      " [  82 1508]]\n",
      "Accuracy: 0.9425396825396826\n",
      "Recall: 0.9484276729559749\n",
      "Precision: 0.9383945239576851\n",
      "f1: 0.9433844228964653\n"
     ]
    },
    {
     "data": {
      "image/png": "[encoded data removed]",
      "text/plain": [
       "<Figure size 432x288 with 1 Axes>"
      ]
     },
     "metadata": {
      "needs_background": "light"
     },
     "output_type": "display_data"
    }
   ],
   "source": [
    "print(\"\\nNMF - NBGaussian\")\n",
    "NB_gaussian_fit_predict_and_evaluate_result(train_tfidf_nmf, bi_train_dataset_target, test_tfidf_nmf, bi_test_dataset_target)\n"
   ]
  },
  {
   "cell_type": "markdown",
   "metadata": {},
   "source": [
    "## Question 7: Grid Search of Parameters"
   ]
  },
  {
   "cell_type": "code",
   "execution_count": 36,
   "metadata": {},
   "outputs": [
    {
     "name": "stderr",
     "output_type": "stream",
     "text": [
      "C:\\Users\\xxc\\Anaconda3\\lib\\site-packages\\sklearn\\externals\\joblib\\externals\\loky\\process_executor.py:706: UserWarning: A worker stopped while some jobs were given to the executor. This can be caused by a too short worker timeout or by a memory leak.\n",
      "  \"timeout or by a memory leak.\", UserWarning\n"
     ]
    },
    {
     "name": "stdout",
     "output_type": "stream",
     "text": [
      "['0.967456', '0.965554', '0.968301', '0.966822', '0.975063', '0.974641', '0.975486', '0.976754']\n"
     ]
    },
    {
     "name": "stderr",
     "output_type": "stream",
     "text": [
      "C:\\Users\\xxc\\Anaconda3\\lib\\site-packages\\sklearn\\svm\\base.py:922: ConvergenceWarning: Liblinear failed to converge, increase the number of iterations.\n",
      "  \"the number of iterations.\", ConvergenceWarning)\n"
     ]
    }
   ],
   "source": [
    "# w/ header SVC\n",
    "from sklearn.pipeline import Pipeline\n",
    "\n",
    "pipeline = Pipeline([\n",
    "    ('vect', CountVectorizer(min_df=3, stop_words='english')),\n",
    "    ('tfidf', TfidfTransformer()),\n",
    "    ('reduce_dim', TruncatedSVD(random_state=0)),\n",
    "    ('clf', GaussianNB()),\n",
    "])\n",
    "\n",
    "param_grid = [\n",
    "    {\n",
    "        'vect': [CountVectorizer(min_df=3, stop_words='english'), CountVectorizer(min_df=5, stop_words='english'), CountVectorizer(min_df = 3, analyzer = stem_rmv_punc, stop_words = 'english'), CountVectorizer(min_df = 5, analyzer = stem_rmv_punc, stop_words = 'english')],\n",
    "        'reduce_dim': [NMF(),TruncatedSVD()],\n",
    "        'reduce_dim__n_components': [50],\n",
    "        'clf': [LinearSVC(C=100, random_state=42)]\n",
    "    }\n",
    "]\n",
    "\n",
    "grid = GridSearchCV(pipeline, cv=5, n_jobs=-1, param_grid=param_grid, scoring='accuracy')\n",
    "grid.fit(train_dataset.data, bi_train_dataset_target)\n",
    "\n",
    "print([\"%.6f\" % x for x in grid.cv_results_[r'mean_test_score']])\n"
   ]
  },
  {
   "cell_type": "code",
   "execution_count": 37,
   "metadata": {},
   "outputs": [
    {
     "name": "stderr",
     "output_type": "stream",
     "text": [
      "C:\\Users\\xxc\\Anaconda3\\lib\\site-packages\\sklearn\\externals\\joblib\\externals\\loky\\process_executor.py:706: UserWarning: A worker stopped while some jobs were given to the executor. This can be caused by a too short worker timeout or by a memory leak.\n",
      "  \"timeout or by a memory leak.\", UserWarning\n"
     ]
    },
    {
     "name": "stdout",
     "output_type": "stream",
     "text": [
      "['0.939138', '0.941251', '0.942308', '0.942519', '0.909763', '0.906382', '0.906382', '0.900042']\n"
     ]
    }
   ],
   "source": [
    "# w/ header GNB\n",
    "from sklearn.pipeline import Pipeline\n",
    "\n",
    "pipeline = Pipeline([\n",
    "    ('vect', CountVectorizer(min_df=3, stop_words='english')),\n",
    "    ('tfidf', TfidfTransformer()),\n",
    "    ('reduce_dim', TruncatedSVD(random_state=0)),\n",
    "    ('clf', GaussianNB()),\n",
    "])\n",
    "\n",
    "param_grid = [\n",
    "    {\n",
    "        'vect': [CountVectorizer(min_df=3, stop_words='english'), CountVectorizer(min_df=5, stop_words='english'), CountVectorizer(min_df = 3, analyzer = stem_rmv_punc, stop_words = 'english'), CountVectorizer(min_df = 5, analyzer = stem_rmv_punc, stop_words = 'english')],\n",
    "        'reduce_dim': [NMF(),TruncatedSVD()],\n",
    "        'reduce_dim__n_components': [50],\n",
    "        'clf': [GaussianNB()]\n",
    "    }\n",
    "]\n",
    "\n",
    "grid = GridSearchCV(pipeline, cv=5, n_jobs=-1, param_grid=param_grid, scoring='accuracy')\n",
    "grid.fit(train_dataset.data, bi_train_dataset_target)\n",
    "\n",
    "print([\"%.6f\" % x for x in grid.cv_results_[r'mean_test_score']])\n",
    "\n"
   ]
  },
  {
   "cell_type": "code",
   "execution_count": 38,
   "metadata": {},
   "outputs": [
    {
     "name": "stdout",
     "output_type": "stream",
     "text": [
      "['0.967667', '0.967456', '0.968090', '0.970203', '0.975063', '0.973795', '0.975486', '0.975275', '0.959214', '0.963018', '0.963863', '0.964074', '0.974641', '0.973795', '0.974218', '0.975697']\n"
     ]
    }
   ],
   "source": [
    "# w/ header logR\n",
    "from sklearn.pipeline import Pipeline\n",
    "\n",
    "pipeline = Pipeline([\n",
    "    ('vect', CountVectorizer(min_df=3, stop_words='english')),\n",
    "    ('tfidf', TfidfTransformer()),\n",
    "    ('reduce_dim', TruncatedSVD(random_state=0)),\n",
    "    ('clf', GaussianNB()),\n",
    "])\n",
    "\n",
    "param_grid = [\n",
    "    {\n",
    "        'vect': [CountVectorizer(min_df=3, stop_words='english'), CountVectorizer(min_df=5, stop_words='english'), CountVectorizer(min_df = 3, analyzer = stem_rmv_punc, stop_words = 'english'), CountVectorizer(min_df = 5, analyzer = stem_rmv_punc, stop_words = 'english')],\n",
    "        'reduce_dim': [NMF(),TruncatedSVD()],\n",
    "        'reduce_dim__n_components': [50],\n",
    "        'clf': [LogisticRegression(C=100, solver='liblinear')],\n",
    "        'clf__penalty': ['l1','l2']\n",
    "    }\n",
    "]\n",
    "\n",
    "grid = GridSearchCV(pipeline, cv=5, n_jobs=-1, param_grid=param_grid, scoring='accuracy')\n",
    "grid.fit(train_dataset.data, bi_train_dataset_target)\n",
    "\n",
    "print([\"%.6f\" % x for x in grid.cv_results_[r'mean_test_score']])\n"
   ]
  },
  {
   "cell_type": "code",
   "execution_count": 39,
   "metadata": {},
   "outputs": [],
   "source": [
    "# w/o header\n",
    "categories7 = ['comp.graphics', 'comp.os.ms-windows.misc',\n",
    "'comp.sys.ibm.pc.hardware', 'comp.sys.mac.hardware',\n",
    "'rec.autos', 'rec.motorcycles',\n",
    "'rec.sport.baseball', 'rec.sport.hockey']\n",
    "train_dataset7 = fetch_20newsgroups(subset = 'train', remove=('headers','footers'),categories = categories, shuffle = True, random_state = None)\n",
    "\n",
    "# convert dataset.target into binary, in which comp is 0 and rec is 1\n",
    "# for issues of \"multiclass format error\"\n",
    "bi_train_dataset_target7 = []\n",
    "for num in train_dataset7.target:\n",
    "    if num < 4:\n",
    "        bi_train_dataset_target7.append(0)\n",
    "    else:\n",
    "        bi_train_dataset_target7.append(1)\n"
   ]
  },
  {
   "cell_type": "code",
   "execution_count": 40,
   "metadata": {},
   "outputs": [
    {
     "name": "stdout",
     "output_type": "stream",
     "text": [
      "['0.949070', '0.949281', '0.936602', '0.938081', '0.850803', '0.854818', '0.834531', '0.845520']\n"
     ]
    }
   ],
   "source": [
    "# w/o header GNB\n",
    "from sklearn.pipeline import Pipeline\n",
    "\n",
    "pipeline = Pipeline([\n",
    "    ('vect', CountVectorizer(min_df=3, stop_words='english')),\n",
    "    ('tfidf', TfidfTransformer()),\n",
    "    ('reduce_dim', TruncatedSVD(random_state=0)),\n",
    "    ('clf', GaussianNB()),\n",
    "])\n",
    "\n",
    "param_grid = [\n",
    "    {\n",
    "        'vect': [CountVectorizer(min_df=3, stop_words='english'), CountVectorizer(min_df=5, stop_words='english'), CountVectorizer(min_df = 3, analyzer = stem_rmv_punc, stop_words = 'english'), CountVectorizer(min_df = 5, analyzer = stem_rmv_punc, stop_words = 'english')],\n",
    "        'reduce_dim': [NMF(),TruncatedSVD()],\n",
    "        'reduce_dim__n_components': [50],\n",
    "        'clf': [GaussianNB()]\n",
    "    }\n",
    "]\n",
    "\n",
    "grid = GridSearchCV(pipeline, cv=5, n_jobs=-1, param_grid=param_grid, scoring='accuracy')\n",
    "grid.fit(train_dataset7.data, bi_train_dataset_target7)\n",
    "\n",
    "print([\"%.6f\" % x for x in grid.cv_results_[r'mean_test_score']])\n",
    "\n"
   ]
  },
  {
   "cell_type": "code",
   "execution_count": 41,
   "metadata": {},
   "outputs": [
    {
     "name": "stdout",
     "output_type": "stream",
     "text": [
      "['0.965554', '0.965342', '0.960482', '0.960059', '0.972105', '0.972105', '0.966399', '0.966822']\n"
     ]
    },
    {
     "name": "stderr",
     "output_type": "stream",
     "text": [
      "C:\\Users\\xxc\\Anaconda3\\lib\\site-packages\\sklearn\\svm\\base.py:922: ConvergenceWarning: Liblinear failed to converge, increase the number of iterations.\n",
      "  \"the number of iterations.\", ConvergenceWarning)\n"
     ]
    }
   ],
   "source": [
    "# w/o header SVC\n",
    "from sklearn.pipeline import Pipeline\n",
    "\n",
    "pipeline = Pipeline([\n",
    "    ('vect', CountVectorizer(min_df=3, stop_words='english')),\n",
    "    ('tfidf', TfidfTransformer()),\n",
    "    ('reduce_dim', TruncatedSVD(random_state=0)),\n",
    "    ('clf', GaussianNB()),\n",
    "])\n",
    "\n",
    "param_grid = [\n",
    "    {\n",
    "        'vect': [CountVectorizer(min_df=3, stop_words='english'), CountVectorizer(min_df=5, stop_words='english'), CountVectorizer(min_df = 3, analyzer = stem_rmv_punc, stop_words = 'english'), CountVectorizer(min_df = 5, analyzer = stem_rmv_punc, stop_words = 'english')],\n",
    "        'reduce_dim': [NMF(),TruncatedSVD()],\n",
    "        'reduce_dim__n_components': [50],\n",
    "        'clf': [LinearSVC(C=100, random_state=42)]\n",
    "    }\n",
    "]\n",
    "\n",
    "grid = GridSearchCV(pipeline, cv=5, n_jobs=-1, param_grid=param_grid, scoring='accuracy')\n",
    "grid.fit(train_dataset7.data, bi_train_dataset_target7)\n",
    "\n",
    "print([\"%.6f\" % x for x in grid.cv_results_[r'mean_test_score']])\n"
   ]
  },
  {
   "cell_type": "code",
   "execution_count": 42,
   "metadata": {},
   "outputs": [
    {
     "name": "stdout",
     "output_type": "stream",
     "text": [
      "['0.965554', '0.966188', '0.960693', '0.962806', '0.971893', '0.971893', '0.968090', '0.968512', '0.959214', '0.959848', '0.956467', '0.956044', '0.972105', '0.972950', '0.966822', '0.967033']\n"
     ]
    }
   ],
   "source": [
    "# w/ header logR\n",
    "from sklearn.pipeline import Pipeline\n",
    "\n",
    "pipeline = Pipeline([\n",
    "    ('vect', CountVectorizer(min_df=3, stop_words='english')),\n",
    "    ('tfidf', TfidfTransformer()),\n",
    "    ('reduce_dim', TruncatedSVD(random_state=0)),\n",
    "    ('clf', GaussianNB()),\n",
    "])\n",
    "\n",
    "param_grid = [\n",
    "    {\n",
    "        'vect': [CountVectorizer(min_df=3, stop_words='english'), CountVectorizer(min_df=5, stop_words='english'), CountVectorizer(min_df = 3, analyzer = stem_rmv_punc, stop_words = 'english'), CountVectorizer(min_df = 5, analyzer = stem_rmv_punc, stop_words = 'english')],\n",
    "        'reduce_dim': [NMF(),TruncatedSVD()],\n",
    "        'reduce_dim__n_components': [50],\n",
    "        'clf': [LogisticRegression(C=100, solver='liblinear')],\n",
    "        'clf__penalty': ['l1','l2']\n",
    "    }\n",
    "]\n",
    "\n",
    "grid = GridSearchCV(pipeline, cv=5, n_jobs=-1, param_grid=param_grid, scoring='accuracy')\n",
    "grid.fit(train_dataset7.data, bi_train_dataset_target7)\n",
    "\n",
    "print([\"%.6f\" % x for x in grid.cv_results_[r'mean_test_score']])\n"
   ]
  },
  {
   "cell_type": "markdown",
   "metadata": {},
   "source": [
    "## Question 8: Multiclass Classification"
   ]
  },
  {
   "cell_type": "code",
   "execution_count": 43,
   "metadata": {},
   "outputs": [
    {
     "name": "stdout",
     "output_type": "stream",
     "text": [
      "['comp.sys.ibm.pc.hardware', 'comp.sys.mac.hardware', 'misc.forsale', 'soc.religion.christian']\n"
     ]
    }
   ],
   "source": [
    "categories8 = ['comp.sys.ibm.pc.hardware', 'comp.sys.mac.hardware',\n",
    "'misc.forsale', 'soc.religion.christian']\n",
    "train_dataset8 = fetch_20newsgroups(subset = 'train', categories = categories8, shuffle = True, random_state = None)\n",
    "test_dataset8 = fetch_20newsgroups(subset = 'test', categories = categories8, shuffle = True, random_state = None)\n",
    "print(train_dataset8.target_names)\n"
   ]
  },
  {
   "cell_type": "code",
   "execution_count": 44,
   "metadata": {},
   "outputs": [],
   "source": [
    "count_vectorizer8 = CountVectorizer(min_df = 3, analyzer = stem_rmv_punc, stop_words = 'english');\n",
    "train_counts8 = count_vectorizer.fit_transform(train_dataset8.data)\n",
    "test_counts8 = count_vectorizer.transform(test_dataset8.data)\n",
    "\n",
    "train_tfidf8 = tfidf_transformer.fit_transform(train_counts8)\n",
    "test_tfidf8 = tfidf_transformer.transform(test_counts8)\n",
    "\n",
    "train_tfidf_nmf8 = nmf.fit_transform(train_tfidf8)\n",
    "test_tfidf_nmf8 = nmf.transform(test_tfidf8)\n",
    "\n",
    "train_tfidf_lsi8 = lsi.fit_transform(train_tfidf8)\n",
    "test_tfidf_lsi8 = lsi.transform(test_tfidf8)"
   ]
  },
  {
   "cell_type": "code",
   "execution_count": 45,
   "metadata": {},
   "outputs": [],
   "source": [
    "# NB_gaussian\n",
    "def NB_gaussian_fit_predict_and_evaluate_result8(train_data, train_target, test_data, test_target):\n",
    "    # Naive Bayes\n",
    "    clf = GaussianNB()\n",
    "    clf.fit(train_data, train_target)\n",
    "    predict_target = clf.predict(test_data)\n",
    "    \n",
    "    # return confusion_matrix, accuracy, recall, recision, f1\n",
    "    confu_mx = metrics.confusion_matrix(test_target, predict_target)\n",
    "    accuracy = metrics.accuracy_score(test_target, predict_target)\n",
    "    recall = metrics.recall_score(test_target, predict_target, average = None)\n",
    "    precision = metrics.precision_score(test_target, predict_target, average = None)\n",
    "    f1_score = metrics.f1_score(test_target, predict_target, average = None)\n",
    "    print(\"Confusion matrix:\")\n",
    "    print(confu_mx)\n",
    "    print(\"Accuracy: {}\\nRecall: {}\\nPrecision: {}\\nf1: {}\".format(accuracy, recall, precision, f1_score))"
   ]
  },
  {
   "cell_type": "code",
   "execution_count": 46,
   "metadata": {},
   "outputs": [
    {
     "name": "stdout",
     "output_type": "stream",
     "text": [
      "Confusion matrix:\n",
      "[[218  45 124   5]\n",
      " [101 148 132   4]\n",
      " [ 44  41 301   4]\n",
      " [  0   1  14 383]]\n",
      "Accuracy: 0.670926517571885\n",
      "Recall: [0.55612245 0.38441558 0.77179487 0.96231156]\n",
      "Precision: [0.60055096 0.62978723 0.52714536 0.96717172]\n",
      "f1: [0.57748344 0.47741935 0.6264308  0.96473552]\n"
     ]
    }
   ],
   "source": [
    "NB_gaussian_fit_predict_and_evaluate_result8(train_tfidf_lsi8, train_dataset8.target, test_tfidf_lsi8, test_dataset8.target)"
   ]
  },
  {
   "cell_type": "code",
   "execution_count": 47,
   "metadata": {},
   "outputs": [
    {
     "name": "stdout",
     "output_type": "stream",
     "text": [
      "Confusion matrix:\n",
      "[[299  31  57   5]\n",
      " [ 85 224  74   2]\n",
      " [ 63  36 279  12]\n",
      " [  4   0   4 390]]\n",
      "Accuracy: 0.7616613418530351\n",
      "Recall: [0.7627551  0.58181818 0.71538462 0.9798995 ]\n",
      "Precision: [0.66297118 0.76975945 0.67391304 0.95354523]\n",
      "f1: [0.70937129 0.66272189 0.69402985 0.96654275]\n"
     ]
    }
   ],
   "source": [
    "NB_gaussian_fit_predict_and_evaluate_result8(train_tfidf_nmf8, train_dataset8.target, test_tfidf_nmf8, test_dataset8.target)"
   ]
  },
  {
   "cell_type": "code",
   "execution_count": 48,
   "metadata": {},
   "outputs": [],
   "source": [
    "# One-to-one\n",
    "from sklearn.multiclass import OneVsOneClassifier\n",
    "def SVC_ovo_fit_predict_and_evaluate_result8(train_data, train_target, test_data, test_target):\n",
    "    \n",
    "    clf = OneVsOneClassifier(LinearSVC(C=10, random_state=42))\n",
    "    clf.fit(train_data, train_target)\n",
    "    predict_target = clf.predict(test_data)\n",
    "    \n",
    "    # return confusion_matrix, accuracy, recall, recision, f1\n",
    "    confu_mx = metrics.confusion_matrix(test_target, predict_target)\n",
    "    accuracy = metrics.accuracy_score(test_target, predict_target)\n",
    "    recall = metrics.recall_score(test_target, predict_target, average = None)\n",
    "    precision = metrics.precision_score(test_target, predict_target, average = None)\n",
    "    f1_score = metrics.f1_score(test_target, predict_target, average = None)\n",
    "    print(\"Confusion matrix:\")\n",
    "    print(confu_mx)\n",
    "    print(\"Accuracy: {}\\nRecall: {}\\nPrecision: {}\\nf1: {}\".format(accuracy, recall, precision, f1_score))"
   ]
  },
  {
   "cell_type": "code",
   "execution_count": 49,
   "metadata": {},
   "outputs": [
    {
     "name": "stdout",
     "output_type": "stream",
     "text": [
      "Confusion matrix:\n",
      "[[319  51  22   0]\n",
      " [ 41 322  22   0]\n",
      " [ 20  25 342   3]\n",
      " [  2   3   0 393]]\n",
      "Accuracy: 0.8792332268370607\n",
      "Recall: [0.81377551 0.83636364 0.87692308 0.98743719]\n",
      "Precision: [0.83507853 0.80299252 0.88601036 0.99242424]\n",
      "f1: [0.82428941 0.81933842 0.8814433  0.98992443]\n"
     ]
    }
   ],
   "source": [
    "SVC_ovo_fit_predict_and_evaluate_result8(train_tfidf_lsi8, train_dataset8.target, test_tfidf_lsi8, test_dataset8.target)"
   ]
  },
  {
   "cell_type": "code",
   "execution_count": 50,
   "metadata": {},
   "outputs": [
    {
     "name": "stdout",
     "output_type": "stream",
     "text": [
      "Confusion matrix:\n",
      "[[325  42  25   0]\n",
      " [ 73 282  28   2]\n",
      " [ 46  17 325   2]\n",
      " [  5   2   8 383]]\n",
      "Accuracy: 0.8402555910543131\n",
      "Recall: [0.82908163 0.73246753 0.83333333 0.96231156]\n",
      "Precision: [0.72383073 0.82215743 0.84196891 0.98966408]\n",
      "f1: [0.77288942 0.77472527 0.83762887 0.97579618]\n"
     ]
    }
   ],
   "source": [
    "SVC_ovo_fit_predict_and_evaluate_result8(train_tfidf_nmf8, train_dataset8.target, test_tfidf_nmf8, test_dataset8.target)"
   ]
  },
  {
   "cell_type": "code",
   "execution_count": 51,
   "metadata": {},
   "outputs": [],
   "source": [
    "# One-to-Rest\n",
    "from sklearn.multiclass import OneVsRestClassifier\n",
    "def SVC_ovr_fit_predict_and_evaluate_result8(train_data, train_target, test_data, test_target):\n",
    "    \n",
    "    clf = OneVsRestClassifier(LinearSVC(C=100, random_state=42))\n",
    "    clf.fit(train_data, train_target)\n",
    "    predict_target = clf.predict(test_data)\n",
    "    \n",
    "    # return confusion_matrix, accuracy, recall, recision, f1\n",
    "    confu_mx = metrics.confusion_matrix(test_target, predict_target)\n",
    "    accuracy = metrics.accuracy_score(test_target, predict_target)\n",
    "    recall = metrics.recall_score(test_target, predict_target, average = None)\n",
    "    precision = metrics.precision_score(test_target, predict_target, average = None)\n",
    "    f1_score = metrics.f1_score(test_target, predict_target, average = None)\n",
    "    print(\"Confusion matrix:\")\n",
    "    print(confu_mx)\n",
    "    print(\"Accuracy: {}\\nRecall: {}\\nPrecision: {}\\nf1: {}\".format(accuracy, recall, precision, f1_score))"
   ]
  },
  {
   "cell_type": "code",
   "execution_count": 52,
   "metadata": {},
   "outputs": [
    {
     "name": "stderr",
     "output_type": "stream",
     "text": [
      "C:\\Users\\xxc\\Anaconda3\\lib\\site-packages\\sklearn\\svm\\base.py:922: ConvergenceWarning: Liblinear failed to converge, increase the number of iterations.\n",
      "  \"the number of iterations.\", ConvergenceWarning)\n",
      "C:\\Users\\xxc\\Anaconda3\\lib\\site-packages\\sklearn\\svm\\base.py:922: ConvergenceWarning: Liblinear failed to converge, increase the number of iterations.\n",
      "  \"the number of iterations.\", ConvergenceWarning)\n"
     ]
    },
    {
     "name": "stdout",
     "output_type": "stream",
     "text": [
      "Confusion matrix:\n",
      "[[309  57  25   1]\n",
      " [ 36 324  25   0]\n",
      " [ 19  20 347   4]\n",
      " [  4   1   2 391]]\n",
      "Accuracy: 0.876038338658147\n",
      "Recall: [0.78826531 0.84155844 0.88974359 0.98241206]\n",
      "Precision: [0.83967391 0.80597015 0.86967419 0.98737374]\n",
      "f1: [0.81315789 0.82337992 0.87959442 0.98488665]\n"
     ]
    },
    {
     "name": "stderr",
     "output_type": "stream",
     "text": [
      "C:\\Users\\xxc\\Anaconda3\\lib\\site-packages\\sklearn\\svm\\base.py:922: ConvergenceWarning: Liblinear failed to converge, increase the number of iterations.\n",
      "  \"the number of iterations.\", ConvergenceWarning)\n",
      "C:\\Users\\xxc\\Anaconda3\\lib\\site-packages\\sklearn\\svm\\base.py:922: ConvergenceWarning: Liblinear failed to converge, increase the number of iterations.\n",
      "  \"the number of iterations.\", ConvergenceWarning)\n"
     ]
    }
   ],
   "source": [
    "SVC_ovr_fit_predict_and_evaluate_result8(train_tfidf_lsi8, train_dataset8.target, test_tfidf_lsi8, test_dataset8.target)"
   ]
  },
  {
   "cell_type": "code",
   "execution_count": 53,
   "metadata": {},
   "outputs": [
    {
     "name": "stderr",
     "output_type": "stream",
     "text": [
      "C:\\Users\\xxc\\Anaconda3\\lib\\site-packages\\sklearn\\svm\\base.py:922: ConvergenceWarning: Liblinear failed to converge, increase the number of iterations.\n",
      "  \"the number of iterations.\", ConvergenceWarning)\n",
      "C:\\Users\\xxc\\Anaconda3\\lib\\site-packages\\sklearn\\svm\\base.py:922: ConvergenceWarning: Liblinear failed to converge, increase the number of iterations.\n",
      "  \"the number of iterations.\", ConvergenceWarning)\n"
     ]
    },
    {
     "name": "stdout",
     "output_type": "stream",
     "text": [
      "Confusion matrix:\n",
      "[[317  48  25   2]\n",
      " [ 59 292  29   5]\n",
      " [ 31  19 336   4]\n",
      " [  4   1   2 391]]\n",
      "Accuracy: 0.8536741214057508\n",
      "Recall: [0.80867347 0.75844156 0.86153846 0.98241206]\n",
      "Precision: [0.77128954 0.81111111 0.85714286 0.97263682]\n",
      "f1: [0.78953923 0.78389262 0.85933504 0.9775    ]\n"
     ]
    },
    {
     "name": "stderr",
     "output_type": "stream",
     "text": [
      "C:\\Users\\xxc\\Anaconda3\\lib\\site-packages\\sklearn\\svm\\base.py:922: ConvergenceWarning: Liblinear failed to converge, increase the number of iterations.\n",
      "  \"the number of iterations.\", ConvergenceWarning)\n",
      "C:\\Users\\xxc\\Anaconda3\\lib\\site-packages\\sklearn\\svm\\base.py:922: ConvergenceWarning: Liblinear failed to converge, increase the number of iterations.\n",
      "  \"the number of iterations.\", ConvergenceWarning)\n"
     ]
    }
   ],
   "source": [
    "SVC_ovr_fit_predict_and_evaluate_result8(train_tfidf_nmf8, train_dataset8.target, test_tfidf_nmf8, test_dataset8.target)"
   ]
  }
 ],
 "metadata": {
  "anaconda-cloud": {},
  "kernelspec": {
   "display_name": "Python 3",
   "language": "python",
   "name": "python3"
  },
  "language_info": {
   "codemirror_mode": {
    "name": "ipython",
    "version": 3
   },
   "file_extension": ".py",
   "mimetype": "text/x-python",
   "name": "python",
   "nbconvert_exporter": "python",
   "pygments_lexer": "ipython3",
   "version": "3.7.1"
  }
 },
 "nbformat": 4,
 "nbformat_minor": 2
}
